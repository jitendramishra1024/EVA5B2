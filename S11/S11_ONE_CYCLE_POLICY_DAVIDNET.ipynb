{
  "nbformat": 4,
  "nbformat_minor": 0,
  "metadata": {
    "accelerator": "GPU",
    "colab": {
      "name": "S11_ONE_CYCLE_POLICY_DAVIDNET.ipynb",
      "provenance": [],
      "collapsed_sections": [],
      "toc_visible": true
    },
    "kernelspec": {
      "display_name": "Python 3",
      "name": "python3"
    },
    "widgets": {
      "application/vnd.jupyter.widget-state+json": {
        "dbf733082a324da989b71b728258c3cf": {
          "model_module": "@jupyter-widgets/controls",
          "model_name": "HBoxModel",
          "state": {
            "_view_name": "HBoxView",
            "_dom_classes": [],
            "_model_name": "HBoxModel",
            "_view_module": "@jupyter-widgets/controls",
            "_model_module_version": "1.5.0",
            "_view_count": null,
            "_view_module_version": "1.5.0",
            "box_style": "",
            "layout": "IPY_MODEL_4dc8f6cbd2084c108d7b3988cf2d4a75",
            "_model_module": "@jupyter-widgets/controls",
            "children": [
              "IPY_MODEL_452b31eebfc7438e97fc3b5f5e1e3bf5",
              "IPY_MODEL_b888869b855c4be995cf1fa27428ca79"
            ]
          }
        },
        "4dc8f6cbd2084c108d7b3988cf2d4a75": {
          "model_module": "@jupyter-widgets/base",
          "model_name": "LayoutModel",
          "state": {
            "_view_name": "LayoutView",
            "grid_template_rows": null,
            "right": null,
            "justify_content": null,
            "_view_module": "@jupyter-widgets/base",
            "overflow": null,
            "_model_module_version": "1.2.0",
            "_view_count": null,
            "flex_flow": null,
            "width": null,
            "min_width": null,
            "border": null,
            "align_items": null,
            "bottom": null,
            "_model_module": "@jupyter-widgets/base",
            "top": null,
            "grid_column": null,
            "overflow_y": null,
            "overflow_x": null,
            "grid_auto_flow": null,
            "grid_area": null,
            "grid_template_columns": null,
            "flex": null,
            "_model_name": "LayoutModel",
            "justify_items": null,
            "grid_row": null,
            "max_height": null,
            "align_content": null,
            "visibility": null,
            "align_self": null,
            "height": null,
            "min_height": null,
            "padding": null,
            "grid_auto_rows": null,
            "grid_gap": null,
            "max_width": null,
            "order": null,
            "_view_module_version": "1.2.0",
            "grid_template_areas": null,
            "object_position": null,
            "object_fit": null,
            "grid_auto_columns": null,
            "margin": null,
            "display": null,
            "left": null
          }
        },
        "452b31eebfc7438e97fc3b5f5e1e3bf5": {
          "model_module": "@jupyter-widgets/controls",
          "model_name": "FloatProgressModel",
          "state": {
            "_view_name": "ProgressView",
            "style": "IPY_MODEL_d440ffd7a42a41969c27f3b5d34d9ce9",
            "_dom_classes": [],
            "description": "",
            "_model_name": "FloatProgressModel",
            "bar_style": "success",
            "max": 170498071,
            "_view_module": "@jupyter-widgets/controls",
            "_model_module_version": "1.5.0",
            "value": 170498071,
            "_view_count": null,
            "_view_module_version": "1.5.0",
            "orientation": "horizontal",
            "min": 0,
            "description_tooltip": null,
            "_model_module": "@jupyter-widgets/controls",
            "layout": "IPY_MODEL_a490ad000b084c42af346d2a74013146"
          }
        },
        "b888869b855c4be995cf1fa27428ca79": {
          "model_module": "@jupyter-widgets/controls",
          "model_name": "HTMLModel",
          "state": {
            "_view_name": "HTMLView",
            "style": "IPY_MODEL_a4eb453b4019427597492d42d17dfb5e",
            "_dom_classes": [],
            "description": "",
            "_model_name": "HTMLModel",
            "placeholder": "​",
            "_view_module": "@jupyter-widgets/controls",
            "_model_module_version": "1.5.0",
            "value": " 170499072/? [00:17&lt;00:00, 9733172.96it/s]",
            "_view_count": null,
            "_view_module_version": "1.5.0",
            "description_tooltip": null,
            "_model_module": "@jupyter-widgets/controls",
            "layout": "IPY_MODEL_e2c4436c07cc4604ad73a82fa1199ac1"
          }
        },
        "d440ffd7a42a41969c27f3b5d34d9ce9": {
          "model_module": "@jupyter-widgets/controls",
          "model_name": "ProgressStyleModel",
          "state": {
            "_view_name": "StyleView",
            "_model_name": "ProgressStyleModel",
            "description_width": "initial",
            "_view_module": "@jupyter-widgets/base",
            "_model_module_version": "1.5.0",
            "_view_count": null,
            "_view_module_version": "1.2.0",
            "bar_color": null,
            "_model_module": "@jupyter-widgets/controls"
          }
        },
        "a490ad000b084c42af346d2a74013146": {
          "model_module": "@jupyter-widgets/base",
          "model_name": "LayoutModel",
          "state": {
            "_view_name": "LayoutView",
            "grid_template_rows": null,
            "right": null,
            "justify_content": null,
            "_view_module": "@jupyter-widgets/base",
            "overflow": null,
            "_model_module_version": "1.2.0",
            "_view_count": null,
            "flex_flow": null,
            "width": null,
            "min_width": null,
            "border": null,
            "align_items": null,
            "bottom": null,
            "_model_module": "@jupyter-widgets/base",
            "top": null,
            "grid_column": null,
            "overflow_y": null,
            "overflow_x": null,
            "grid_auto_flow": null,
            "grid_area": null,
            "grid_template_columns": null,
            "flex": null,
            "_model_name": "LayoutModel",
            "justify_items": null,
            "grid_row": null,
            "max_height": null,
            "align_content": null,
            "visibility": null,
            "align_self": null,
            "height": null,
            "min_height": null,
            "padding": null,
            "grid_auto_rows": null,
            "grid_gap": null,
            "max_width": null,
            "order": null,
            "_view_module_version": "1.2.0",
            "grid_template_areas": null,
            "object_position": null,
            "object_fit": null,
            "grid_auto_columns": null,
            "margin": null,
            "display": null,
            "left": null
          }
        },
        "a4eb453b4019427597492d42d17dfb5e": {
          "model_module": "@jupyter-widgets/controls",
          "model_name": "DescriptionStyleModel",
          "state": {
            "_view_name": "StyleView",
            "_model_name": "DescriptionStyleModel",
            "description_width": "",
            "_view_module": "@jupyter-widgets/base",
            "_model_module_version": "1.5.0",
            "_view_count": null,
            "_view_module_version": "1.2.0",
            "_model_module": "@jupyter-widgets/controls"
          }
        },
        "e2c4436c07cc4604ad73a82fa1199ac1": {
          "model_module": "@jupyter-widgets/base",
          "model_name": "LayoutModel",
          "state": {
            "_view_name": "LayoutView",
            "grid_template_rows": null,
            "right": null,
            "justify_content": null,
            "_view_module": "@jupyter-widgets/base",
            "overflow": null,
            "_model_module_version": "1.2.0",
            "_view_count": null,
            "flex_flow": null,
            "width": null,
            "min_width": null,
            "border": null,
            "align_items": null,
            "bottom": null,
            "_model_module": "@jupyter-widgets/base",
            "top": null,
            "grid_column": null,
            "overflow_y": null,
            "overflow_x": null,
            "grid_auto_flow": null,
            "grid_area": null,
            "grid_template_columns": null,
            "flex": null,
            "_model_name": "LayoutModel",
            "justify_items": null,
            "grid_row": null,
            "max_height": null,
            "align_content": null,
            "visibility": null,
            "align_self": null,
            "height": null,
            "min_height": null,
            "padding": null,
            "grid_auto_rows": null,
            "grid_gap": null,
            "max_width": null,
            "order": null,
            "_view_module_version": "1.2.0",
            "grid_template_areas": null,
            "object_position": null,
            "object_fit": null,
            "grid_auto_columns": null,
            "margin": null,
            "display": null,
            "left": null
          }
        },
        "12945d0102ce4c54a863f161c9f87590": {
          "model_module": "@jupyter-widgets/controls",
          "model_name": "HBoxModel",
          "state": {
            "_view_name": "HBoxView",
            "_dom_classes": [],
            "_model_name": "HBoxModel",
            "_view_module": "@jupyter-widgets/controls",
            "_model_module_version": "1.5.0",
            "_view_count": null,
            "_view_module_version": "1.5.0",
            "box_style": "",
            "layout": "IPY_MODEL_9066a6aab34c4e67a3215c7dcb6575a8",
            "_model_module": "@jupyter-widgets/controls",
            "children": [
              "IPY_MODEL_61669061d31b4996994cc7b63facf510",
              "IPY_MODEL_f6fe2ebb10aa42a4b08856a8afb8daf9"
            ]
          }
        },
        "9066a6aab34c4e67a3215c7dcb6575a8": {
          "model_module": "@jupyter-widgets/base",
          "model_name": "LayoutModel",
          "state": {
            "_view_name": "LayoutView",
            "grid_template_rows": null,
            "right": null,
            "justify_content": null,
            "_view_module": "@jupyter-widgets/base",
            "overflow": null,
            "_model_module_version": "1.2.0",
            "_view_count": null,
            "flex_flow": null,
            "width": null,
            "min_width": null,
            "border": null,
            "align_items": null,
            "bottom": null,
            "_model_module": "@jupyter-widgets/base",
            "top": null,
            "grid_column": null,
            "overflow_y": null,
            "overflow_x": null,
            "grid_auto_flow": null,
            "grid_area": null,
            "grid_template_columns": null,
            "flex": null,
            "_model_name": "LayoutModel",
            "justify_items": null,
            "grid_row": null,
            "max_height": null,
            "align_content": null,
            "visibility": null,
            "align_self": null,
            "height": null,
            "min_height": null,
            "padding": null,
            "grid_auto_rows": null,
            "grid_gap": null,
            "max_width": null,
            "order": null,
            "_view_module_version": "1.2.0",
            "grid_template_areas": null,
            "object_position": null,
            "object_fit": null,
            "grid_auto_columns": null,
            "margin": null,
            "display": null,
            "left": null
          }
        },
        "61669061d31b4996994cc7b63facf510": {
          "model_module": "@jupyter-widgets/controls",
          "model_name": "FloatProgressModel",
          "state": {
            "_view_name": "ProgressView",
            "style": "IPY_MODEL_af591ba5c81048b3abd7b430dd520332",
            "_dom_classes": [],
            "description": " 71%",
            "_model_name": "FloatProgressModel",
            "bar_style": "danger",
            "max": 600,
            "_view_module": "@jupyter-widgets/controls",
            "_model_module_version": "1.5.0",
            "value": 427,
            "_view_count": null,
            "_view_module_version": "1.5.0",
            "orientation": "horizontal",
            "min": 0,
            "description_tooltip": null,
            "_model_module": "@jupyter-widgets/controls",
            "layout": "IPY_MODEL_4488c7f546a741abb895ffff543c84a9"
          }
        },
        "f6fe2ebb10aa42a4b08856a8afb8daf9": {
          "model_module": "@jupyter-widgets/controls",
          "model_name": "HTMLModel",
          "state": {
            "_view_name": "HTMLView",
            "style": "IPY_MODEL_a688b1462792417b9f4c603bbaf27b8b",
            "_dom_classes": [],
            "description": "",
            "_model_name": "HTMLModel",
            "placeholder": "​",
            "_view_module": "@jupyter-widgets/controls",
            "_model_module_version": "1.5.0",
            "value": " 427/600 [17:02&lt;08:01,  2.78s/it]",
            "_view_count": null,
            "_view_module_version": "1.5.0",
            "description_tooltip": null,
            "_model_module": "@jupyter-widgets/controls",
            "layout": "IPY_MODEL_fb8480104b764b42ac8a7f24218a5e27"
          }
        },
        "af591ba5c81048b3abd7b430dd520332": {
          "model_module": "@jupyter-widgets/controls",
          "model_name": "ProgressStyleModel",
          "state": {
            "_view_name": "StyleView",
            "_model_name": "ProgressStyleModel",
            "description_width": "initial",
            "_view_module": "@jupyter-widgets/base",
            "_model_module_version": "1.5.0",
            "_view_count": null,
            "_view_module_version": "1.2.0",
            "bar_color": null,
            "_model_module": "@jupyter-widgets/controls"
          }
        },
        "4488c7f546a741abb895ffff543c84a9": {
          "model_module": "@jupyter-widgets/base",
          "model_name": "LayoutModel",
          "state": {
            "_view_name": "LayoutView",
            "grid_template_rows": null,
            "right": null,
            "justify_content": null,
            "_view_module": "@jupyter-widgets/base",
            "overflow": null,
            "_model_module_version": "1.2.0",
            "_view_count": null,
            "flex_flow": null,
            "width": null,
            "min_width": null,
            "border": null,
            "align_items": null,
            "bottom": null,
            "_model_module": "@jupyter-widgets/base",
            "top": null,
            "grid_column": null,
            "overflow_y": null,
            "overflow_x": null,
            "grid_auto_flow": null,
            "grid_area": null,
            "grid_template_columns": null,
            "flex": null,
            "_model_name": "LayoutModel",
            "justify_items": null,
            "grid_row": null,
            "max_height": null,
            "align_content": null,
            "visibility": null,
            "align_self": null,
            "height": null,
            "min_height": null,
            "padding": null,
            "grid_auto_rows": null,
            "grid_gap": null,
            "max_width": null,
            "order": null,
            "_view_module_version": "1.2.0",
            "grid_template_areas": null,
            "object_position": null,
            "object_fit": null,
            "grid_auto_columns": null,
            "margin": null,
            "display": null,
            "left": null
          }
        },
        "a688b1462792417b9f4c603bbaf27b8b": {
          "model_module": "@jupyter-widgets/controls",
          "model_name": "DescriptionStyleModel",
          "state": {
            "_view_name": "StyleView",
            "_model_name": "DescriptionStyleModel",
            "description_width": "",
            "_view_module": "@jupyter-widgets/base",
            "_model_module_version": "1.5.0",
            "_view_count": null,
            "_view_module_version": "1.2.0",
            "_model_module": "@jupyter-widgets/controls"
          }
        },
        "fb8480104b764b42ac8a7f24218a5e27": {
          "model_module": "@jupyter-widgets/base",
          "model_name": "LayoutModel",
          "state": {
            "_view_name": "LayoutView",
            "grid_template_rows": null,
            "right": null,
            "justify_content": null,
            "_view_module": "@jupyter-widgets/base",
            "overflow": null,
            "_model_module_version": "1.2.0",
            "_view_count": null,
            "flex_flow": null,
            "width": null,
            "min_width": null,
            "border": null,
            "align_items": null,
            "bottom": null,
            "_model_module": "@jupyter-widgets/base",
            "top": null,
            "grid_column": null,
            "overflow_y": null,
            "overflow_x": null,
            "grid_auto_flow": null,
            "grid_area": null,
            "grid_template_columns": null,
            "flex": null,
            "_model_name": "LayoutModel",
            "justify_items": null,
            "grid_row": null,
            "max_height": null,
            "align_content": null,
            "visibility": null,
            "align_self": null,
            "height": null,
            "min_height": null,
            "padding": null,
            "grid_auto_rows": null,
            "grid_gap": null,
            "max_width": null,
            "order": null,
            "_view_module_version": "1.2.0",
            "grid_template_areas": null,
            "object_position": null,
            "object_fit": null,
            "grid_auto_columns": null,
            "margin": null,
            "display": null,
            "left": null
          }
        },
        "96889d17df6e403e94c1007fa227dfc4": {
          "model_module": "@jupyter-widgets/controls",
          "model_name": "HBoxModel",
          "state": {
            "_view_name": "HBoxView",
            "_dom_classes": [],
            "_model_name": "HBoxModel",
            "_view_module": "@jupyter-widgets/controls",
            "_model_module_version": "1.5.0",
            "_view_count": null,
            "_view_module_version": "1.5.0",
            "box_style": "",
            "layout": "IPY_MODEL_1cefcd6da5494d1e935f52aaf0509a35",
            "_model_module": "@jupyter-widgets/controls",
            "children": [
              "IPY_MODEL_e6dd861e3d1649eea257d6a92b2a73f5",
              "IPY_MODEL_e01352fa54b34b54b13dc552fa5571a6"
            ]
          }
        },
        "1cefcd6da5494d1e935f52aaf0509a35": {
          "model_module": "@jupyter-widgets/base",
          "model_name": "LayoutModel",
          "state": {
            "_view_name": "LayoutView",
            "grid_template_rows": null,
            "right": null,
            "justify_content": null,
            "_view_module": "@jupyter-widgets/base",
            "overflow": null,
            "_model_module_version": "1.2.0",
            "_view_count": null,
            "flex_flow": null,
            "width": null,
            "min_width": null,
            "border": null,
            "align_items": null,
            "bottom": null,
            "_model_module": "@jupyter-widgets/base",
            "top": null,
            "grid_column": null,
            "overflow_y": null,
            "overflow_x": null,
            "grid_auto_flow": null,
            "grid_area": null,
            "grid_template_columns": null,
            "flex": null,
            "_model_name": "LayoutModel",
            "justify_items": null,
            "grid_row": null,
            "max_height": null,
            "align_content": null,
            "visibility": null,
            "align_self": null,
            "height": null,
            "min_height": null,
            "padding": null,
            "grid_auto_rows": null,
            "grid_gap": null,
            "max_width": null,
            "order": null,
            "_view_module_version": "1.2.0",
            "grid_template_areas": null,
            "object_position": null,
            "object_fit": null,
            "grid_auto_columns": null,
            "margin": null,
            "display": null,
            "left": null
          }
        },
        "e6dd861e3d1649eea257d6a92b2a73f5": {
          "model_module": "@jupyter-widgets/controls",
          "model_name": "FloatProgressModel",
          "state": {
            "_view_name": "ProgressView",
            "style": "IPY_MODEL_13e3d116df6742c8b90ef9ae67991b16",
            "_dom_classes": [],
            "description": " 79%",
            "_model_name": "FloatProgressModel",
            "bar_style": "danger",
            "max": 300,
            "_view_module": "@jupyter-widgets/controls",
            "_model_module_version": "1.5.0",
            "value": 236,
            "_view_count": null,
            "_view_module_version": "1.5.0",
            "orientation": "horizontal",
            "min": 0,
            "description_tooltip": null,
            "_model_module": "@jupyter-widgets/controls",
            "layout": "IPY_MODEL_827ad2b5804740bf9c270ff9a23d61d4"
          }
        },
        "e01352fa54b34b54b13dc552fa5571a6": {
          "model_module": "@jupyter-widgets/controls",
          "model_name": "HTMLModel",
          "state": {
            "_view_name": "HTMLView",
            "style": "IPY_MODEL_67da9de912cb4eca8c3f6e67e5ab1309",
            "_dom_classes": [],
            "description": "",
            "_model_name": "HTMLModel",
            "placeholder": "​",
            "_view_module": "@jupyter-widgets/controls",
            "_model_module_version": "1.5.0",
            "value": " 236/300 [09:28&lt;02:31,  2.37s/it]",
            "_view_count": null,
            "_view_module_version": "1.5.0",
            "description_tooltip": null,
            "_model_module": "@jupyter-widgets/controls",
            "layout": "IPY_MODEL_cd37d3fe77104d3a8bc5d6a4934c928d"
          }
        },
        "13e3d116df6742c8b90ef9ae67991b16": {
          "model_module": "@jupyter-widgets/controls",
          "model_name": "ProgressStyleModel",
          "state": {
            "_view_name": "StyleView",
            "_model_name": "ProgressStyleModel",
            "description_width": "initial",
            "_view_module": "@jupyter-widgets/base",
            "_model_module_version": "1.5.0",
            "_view_count": null,
            "_view_module_version": "1.2.0",
            "bar_color": null,
            "_model_module": "@jupyter-widgets/controls"
          }
        },
        "827ad2b5804740bf9c270ff9a23d61d4": {
          "model_module": "@jupyter-widgets/base",
          "model_name": "LayoutModel",
          "state": {
            "_view_name": "LayoutView",
            "grid_template_rows": null,
            "right": null,
            "justify_content": null,
            "_view_module": "@jupyter-widgets/base",
            "overflow": null,
            "_model_module_version": "1.2.0",
            "_view_count": null,
            "flex_flow": null,
            "width": null,
            "min_width": null,
            "border": null,
            "align_items": null,
            "bottom": null,
            "_model_module": "@jupyter-widgets/base",
            "top": null,
            "grid_column": null,
            "overflow_y": null,
            "overflow_x": null,
            "grid_auto_flow": null,
            "grid_area": null,
            "grid_template_columns": null,
            "flex": null,
            "_model_name": "LayoutModel",
            "justify_items": null,
            "grid_row": null,
            "max_height": null,
            "align_content": null,
            "visibility": null,
            "align_self": null,
            "height": null,
            "min_height": null,
            "padding": null,
            "grid_auto_rows": null,
            "grid_gap": null,
            "max_width": null,
            "order": null,
            "_view_module_version": "1.2.0",
            "grid_template_areas": null,
            "object_position": null,
            "object_fit": null,
            "grid_auto_columns": null,
            "margin": null,
            "display": null,
            "left": null
          }
        },
        "67da9de912cb4eca8c3f6e67e5ab1309": {
          "model_module": "@jupyter-widgets/controls",
          "model_name": "DescriptionStyleModel",
          "state": {
            "_view_name": "StyleView",
            "_model_name": "DescriptionStyleModel",
            "description_width": "",
            "_view_module": "@jupyter-widgets/base",
            "_model_module_version": "1.5.0",
            "_view_count": null,
            "_view_module_version": "1.2.0",
            "_model_module": "@jupyter-widgets/controls"
          }
        },
        "cd37d3fe77104d3a8bc5d6a4934c928d": {
          "model_module": "@jupyter-widgets/base",
          "model_name": "LayoutModel",
          "state": {
            "_view_name": "LayoutView",
            "grid_template_rows": null,
            "right": null,
            "justify_content": null,
            "_view_module": "@jupyter-widgets/base",
            "overflow": null,
            "_model_module_version": "1.2.0",
            "_view_count": null,
            "flex_flow": null,
            "width": null,
            "min_width": null,
            "border": null,
            "align_items": null,
            "bottom": null,
            "_model_module": "@jupyter-widgets/base",
            "top": null,
            "grid_column": null,
            "overflow_y": null,
            "overflow_x": null,
            "grid_auto_flow": null,
            "grid_area": null,
            "grid_template_columns": null,
            "flex": null,
            "_model_name": "LayoutModel",
            "justify_items": null,
            "grid_row": null,
            "max_height": null,
            "align_content": null,
            "visibility": null,
            "align_self": null,
            "height": null,
            "min_height": null,
            "padding": null,
            "grid_auto_rows": null,
            "grid_gap": null,
            "max_width": null,
            "order": null,
            "_view_module_version": "1.2.0",
            "grid_template_areas": null,
            "object_position": null,
            "object_fit": null,
            "grid_auto_columns": null,
            "margin": null,
            "display": null,
            "left": null
          }
        }
      }
    }
  },
  "cells": [
    {
      "cell_type": "code",
      "metadata": {
        "id": "LjMjY6OFzMfq"
      },
      "source": [
        "#LETS WORK WITH CIFAR 10 DATA "
      ],
      "execution_count": 1,
      "outputs": []
    },
    {
      "cell_type": "code",
      "metadata": {
        "id": "L5s9tQ4ZrAwk"
      },
      "source": [
        ""
      ],
      "execution_count": 1,
      "outputs": []
    },
    {
      "cell_type": "markdown",
      "metadata": {
        "id": "O_uYQHKAzQJ0"
      },
      "source": [
        "# OBJECTIVE \n",
        "\n",
        "IN SESSION 10 we have applied reduce LR on plateau with RESNET \n",
        "\n",
        "RESULT :90% ACC ON 50 TH EPOCH \n",
        "\n",
        "IN SESSON 11 PART 1 \n",
        "\n",
        "S11_ONE_CYCLE_POLICY_RESNET.ipynb\n",
        "\n",
        "we have applied Onecycle LR with RESNET \n",
        "\n",
        "RESULT :90% ACC ON 25TH EPOCH 91.02 on 30TH EPOCH \n",
        "\n",
        "**IN SESSION 11 PART 2** \n",
        "\n",
        "**S11_ONE_CYCLE_POLICY_DAVIDNET.ipynb**\n",
        "\n",
        "**We have applied Onecycle LR with DAVID NET** \n",
        "\n",
        "**RESULT: 90 % ACC ON 20TH EPOCH**\n"
      ]
    },
    {
      "cell_type": "markdown",
      "metadata": {
        "id": "pTNxewmy0NTK"
      },
      "source": [
        ""
      ]
    },
    {
      "cell_type": "code",
      "metadata": {
        "colab": {
          "base_uri": "https://localhost:8080/"
        },
        "id": "AEbG2361rCHz",
        "outputId": "33bb5eb5-8052-4440-a509-70e94260b7d2"
      },
      "source": [
        "!nvidia-smi"
      ],
      "execution_count": 2,
      "outputs": [
        {
          "output_type": "stream",
          "text": [
            "Sat Apr 17 09:07:33 2021       \n",
            "+-----------------------------------------------------------------------------+\n",
            "| NVIDIA-SMI 460.67       Driver Version: 460.32.03    CUDA Version: 11.2     |\n",
            "|-------------------------------+----------------------+----------------------+\n",
            "| GPU  Name        Persistence-M| Bus-Id        Disp.A | Volatile Uncorr. ECC |\n",
            "| Fan  Temp  Perf  Pwr:Usage/Cap|         Memory-Usage | GPU-Util  Compute M. |\n",
            "|                               |                      |               MIG M. |\n",
            "|===============================+======================+======================|\n",
            "|   0  Tesla T4            Off  | 00000000:00:04.0 Off |                    0 |\n",
            "| N/A   51C    P8    10W /  70W |      0MiB / 15109MiB |      0%      Default |\n",
            "|                               |                      |                  N/A |\n",
            "+-------------------------------+----------------------+----------------------+\n",
            "                                                                               \n",
            "+-----------------------------------------------------------------------------+\n",
            "| Processes:                                                                  |\n",
            "|  GPU   GI   CI        PID   Type   Process name                  GPU Memory |\n",
            "|        ID   ID                                                   Usage      |\n",
            "|=============================================================================|\n",
            "|  No running processes found                                                 |\n",
            "+-----------------------------------------------------------------------------+\n"
          ],
          "name": "stdout"
        }
      ]
    },
    {
      "cell_type": "code",
      "metadata": {
        "id": "-sdjYAhwT3Xn"
      },
      "source": [
        "#STEP1:Install Albumentation"
      ],
      "execution_count": 3,
      "outputs": []
    },
    {
      "cell_type": "code",
      "metadata": {
        "colab": {
          "base_uri": "https://localhost:8080/"
        },
        "id": "-BJQYNyhSXln",
        "outputId": "341257ec-6643-4050-df4e-c8273417d82b"
      },
      "source": [
        "!pip install -U albumentations"
      ],
      "execution_count": 4,
      "outputs": [
        {
          "output_type": "stream",
          "text": [
            "Requirement already up-to-date: albumentations in /usr/local/lib/python3.7/dist-packages (0.5.2)\n",
            "Requirement already satisfied, skipping upgrade: scikit-image>=0.16.1 in /usr/local/lib/python3.7/dist-packages (from albumentations) (0.16.2)\n",
            "Requirement already satisfied, skipping upgrade: numpy>=1.11.1 in /usr/local/lib/python3.7/dist-packages (from albumentations) (1.19.5)\n",
            "Requirement already satisfied, skipping upgrade: imgaug>=0.4.0 in /usr/local/lib/python3.7/dist-packages (from albumentations) (0.4.0)\n",
            "Requirement already satisfied, skipping upgrade: scipy in /usr/local/lib/python3.7/dist-packages (from albumentations) (1.4.1)\n",
            "Requirement already satisfied, skipping upgrade: opencv-python-headless>=4.1.1 in /usr/local/lib/python3.7/dist-packages (from albumentations) (4.5.1.48)\n",
            "Requirement already satisfied, skipping upgrade: PyYAML in /usr/local/lib/python3.7/dist-packages (from albumentations) (3.13)\n",
            "Requirement already satisfied, skipping upgrade: pillow>=4.3.0 in /usr/local/lib/python3.7/dist-packages (from scikit-image>=0.16.1->albumentations) (7.1.2)\n",
            "Requirement already satisfied, skipping upgrade: networkx>=2.0 in /usr/local/lib/python3.7/dist-packages (from scikit-image>=0.16.1->albumentations) (2.5.1)\n",
            "Requirement already satisfied, skipping upgrade: matplotlib!=3.0.0,>=2.0.0 in /usr/local/lib/python3.7/dist-packages (from scikit-image>=0.16.1->albumentations) (3.2.2)\n",
            "Requirement already satisfied, skipping upgrade: PyWavelets>=0.4.0 in /usr/local/lib/python3.7/dist-packages (from scikit-image>=0.16.1->albumentations) (1.1.1)\n",
            "Requirement already satisfied, skipping upgrade: imageio>=2.3.0 in /usr/local/lib/python3.7/dist-packages (from scikit-image>=0.16.1->albumentations) (2.4.1)\n",
            "Requirement already satisfied, skipping upgrade: opencv-python in /usr/local/lib/python3.7/dist-packages (from imgaug>=0.4.0->albumentations) (4.1.2.30)\n",
            "Requirement already satisfied, skipping upgrade: six in /usr/local/lib/python3.7/dist-packages (from imgaug>=0.4.0->albumentations) (1.15.0)\n",
            "Requirement already satisfied, skipping upgrade: Shapely in /usr/local/lib/python3.7/dist-packages (from imgaug>=0.4.0->albumentations) (1.7.1)\n",
            "Requirement already satisfied, skipping upgrade: decorator<5,>=4.3 in /usr/local/lib/python3.7/dist-packages (from networkx>=2.0->scikit-image>=0.16.1->albumentations) (4.4.2)\n",
            "Requirement already satisfied, skipping upgrade: python-dateutil>=2.1 in /usr/local/lib/python3.7/dist-packages (from matplotlib!=3.0.0,>=2.0.0->scikit-image>=0.16.1->albumentations) (2.8.1)\n",
            "Requirement already satisfied, skipping upgrade: kiwisolver>=1.0.1 in /usr/local/lib/python3.7/dist-packages (from matplotlib!=3.0.0,>=2.0.0->scikit-image>=0.16.1->albumentations) (1.3.1)\n",
            "Requirement already satisfied, skipping upgrade: cycler>=0.10 in /usr/local/lib/python3.7/dist-packages (from matplotlib!=3.0.0,>=2.0.0->scikit-image>=0.16.1->albumentations) (0.10.0)\n",
            "Requirement already satisfied, skipping upgrade: pyparsing!=2.0.4,!=2.1.2,!=2.1.6,>=2.0.1 in /usr/local/lib/python3.7/dist-packages (from matplotlib!=3.0.0,>=2.0.0->scikit-image>=0.16.1->albumentations) (2.4.7)\n"
          ],
          "name": "stdout"
        }
      ]
    },
    {
      "cell_type": "code",
      "metadata": {
        "id": "lZnINUY_0pIL"
      },
      "source": [
        "#STEP 2 :Import in built library \n",
        "import torch\n",
        "import torch.nn as nn\n",
        "import torch.nn.functional as F\n",
        "import torch.optim as optim\n",
        "from torchvision import datasets, transforms\n",
        "import numpy as np\n",
        "import torchvision\n",
        "from torchvision.datasets import CIFAR10\n",
        "from torchvision.transforms import ToTensor\n"
      ],
      "execution_count": 5,
      "outputs": []
    },
    {
      "cell_type": "code",
      "metadata": {
        "colab": {
          "base_uri": "https://localhost:8080/"
        },
        "id": "WcM9XD7ul8Ni",
        "outputId": "f65f62c1-e83c-42ac-85c6-aa02ac663cfb"
      },
      "source": [
        "#STEP 3 : DELETE OLD GIT FOLDER AND CLONE NEW ONE \n",
        "%rm -r /content/SWAG_DNN\n",
        "!git clone https://github.com/jitendramishra1024/SWAG_DNN.git\n",
        "%cd SWAG_DNN"
      ],
      "execution_count": 6,
      "outputs": [
        {
          "output_type": "stream",
          "text": [
            "Cloning into 'SWAG_DNN'...\n",
            "remote: Enumerating objects: 211, done.\u001b[K\n",
            "remote: Counting objects:   0% (1/211)\u001b[K\rremote: Counting objects:   1% (3/211)\u001b[K\rremote: Counting objects:   2% (5/211)\u001b[K\rremote: Counting objects:   3% (7/211)\u001b[K\rremote: Counting objects:   4% (9/211)\u001b[K\rremote: Counting objects:   5% (11/211)\u001b[K\rremote: Counting objects:   6% (13/211)\u001b[K\rremote: Counting objects:   7% (15/211)\u001b[K\rremote: Counting objects:   8% (17/211)\u001b[K\rremote: Counting objects:   9% (19/211)\u001b[K\rremote: Counting objects:  10% (22/211)\u001b[K\rremote: Counting objects:  11% (24/211)\u001b[K\rremote: Counting objects:  12% (26/211)\u001b[K\rremote: Counting objects:  13% (28/211)\u001b[K\rremote: Counting objects:  14% (30/211)\u001b[K\rremote: Counting objects:  15% (32/211)\u001b[K\rremote: Counting objects:  16% (34/211)\u001b[K\rremote: Counting objects:  17% (36/211)\u001b[K\rremote: Counting objects:  18% (38/211)\u001b[K\rremote: Counting objects:  19% (41/211)\u001b[K\rremote: Counting objects:  20% (43/211)\u001b[K\rremote: Counting objects:  21% (45/211)\u001b[K\rremote: Counting objects:  22% (47/211)\u001b[K\rremote: Counting objects:  23% (49/211)\u001b[K\rremote: Counting objects:  24% (51/211)\u001b[K\rremote: Counting objects:  25% (53/211)\u001b[K\rremote: Counting objects:  26% (55/211)\u001b[K\rremote: Counting objects:  27% (57/211)\u001b[K\rremote: Counting objects:  28% (60/211)\u001b[K\rremote: Counting objects:  29% (62/211)\u001b[K\rremote: Counting objects:  30% (64/211)\u001b[K\rremote: Counting objects:  31% (66/211)\u001b[K\rremote: Counting objects:  32% (68/211)\u001b[K\rremote: Counting objects:  33% (70/211)\u001b[K\rremote: Counting objects:  34% (72/211)\u001b[K\rremote: Counting objects:  35% (74/211)\u001b[K\rremote: Counting objects:  36% (76/211)\u001b[K\rremote: Counting objects:  37% (79/211)\u001b[K\rremote: Counting objects:  38% (81/211)\u001b[K\rremote: Counting objects:  39% (83/211)\u001b[K\rremote: Counting objects:  40% (85/211)\u001b[K\rremote: Counting objects:  41% (87/211)\u001b[K\rremote: Counting objects:  42% (89/211)\u001b[K\rremote: Counting objects:  43% (91/211)\u001b[K\rremote: Counting objects:  44% (93/211)\u001b[K\rremote: Counting objects:  45% (95/211)\u001b[K\rremote: Counting objects:  46% (98/211)\u001b[K\rremote: Counting objects:  47% (100/211)\rremote: Counting objects:  48% (102/211)\u001b[K\rremote: Counting objects:  49% (104/211)\u001b[K\rremote: Counting objects:  50% (106/211)\u001b[K\rremote: Counting objects:  51% (108/211)\u001b[K\rremote: Counting objects:  52% (110/211)\u001b[K\rremote: Counting objects:  53% (112/211)\u001b[K\rremote: Counting objects:  54% (114/211)\u001b[K\rremote: Counting objects:  55% (117/211)\u001b[K\rremote: Counting objects:  56% (119/211)\u001b[K\rremote: Counting objects:  57% (121/211)\u001b[K\rremote: Counting objects:  58% (123/211)\u001b[K\rremote: Counting objects:  59% (125/211)\u001b[K\rremote: Counting objects:  60% (127/211)\u001b[K\rremote: Counting objects:  61% (129/211)\u001b[K\rremote: Counting objects:  62% (131/211)\u001b[K\rremote: Counting objects:  63% (133/211)\u001b[K\rremote: Counting objects:  64% (136/211)\u001b[K\rremote: Counting objects:  65% (138/211)\u001b[K\rremote: Counting objects:  66% (140/211)\u001b[K\rremote: Counting objects:  67% (142/211)\u001b[K\rremote: Counting objects:  68% (144/211)\u001b[K\rremote: Counting objects:  69% (146/211)\u001b[K\rremote: Counting objects:  70% (148/211)\u001b[K\rremote: Counting objects:  71% (150/211)\u001b[K\rremote: Counting objects:  72% (152/211)\u001b[K\rremote: Counting objects:  73% (155/211)\u001b[K\rremote: Counting objects:  74% (157/211)\u001b[K\rremote: Counting objects:  75% (159/211)\u001b[K\rremote: Counting objects:  76% (161/211)\u001b[K\rremote: Counting objects:  77% (163/211)\u001b[K\rremote: Counting objects:  78% (165/211)\u001b[K\rremote: Counting objects:  79% (167/211)\u001b[K\rremote: Counting objects:  80% (169/211)\u001b[K\rremote: Counting objects:  81% (171/211)\u001b[K\rremote: Counting objects:  82% (174/211)\u001b[K\rremote: Counting objects:  83% (176/211)\u001b[K\rremote: Counting objects:  84% (178/211)\u001b[K\rremote: Counting objects:  85% (180/211)\u001b[K\rremote: Counting objects:  86% (182/211)\u001b[K\rremote: Counting objects:  87% (184/211)\u001b[K\rremote: Counting objects:  88% (186/211)\u001b[K\rremote: Counting objects:  89% (188/211)\u001b[K\rremote: Counting objects:  90% (190/211)\u001b[K\rremote: Counting objects:  91% (193/211)\u001b[K\rremote: Counting objects:  92% (195/211)\u001b[K\rremote: Counting objects:  93% (197/211)\u001b[K\rremote: Counting objects:  94% (199/211)\u001b[K\rremote: Counting objects:  95% (201/211)\u001b[K\rremote: Counting objects:  96% (203/211)\u001b[K\rremote: Counting objects:  97% (205/211)\u001b[K\rremote: Counting objects:  98% (207/211)\u001b[K\rremote: Counting objects:  99% (209/211)\u001b[K\rremote: Counting objects: 100% (211/211)\u001b[K\rremote: Counting objects: 100% (211/211), done.\u001b[K\n",
            "remote: Compressing objects:   0% (1/148)\u001b[K\rremote: Compressing objects:   1% (2/148)\u001b[K\rremote: Compressing objects:   2% (3/148)\u001b[K\rremote: Compressing objects:   3% (5/148)\u001b[K\rremote: Compressing objects:   4% (6/148)\u001b[K\rremote: Compressing objects:   5% (8/148)\u001b[K\rremote: Compressing objects:   6% (9/148)\u001b[K\rremote: Compressing objects:   7% (11/148)\u001b[K\rremote: Compressing objects:   8% (12/148)\u001b[K\rremote: Compressing objects:   9% (14/148)\u001b[K\rremote: Compressing objects:  10% (15/148)\u001b[K\rremote: Compressing objects:  11% (17/148)\u001b[K\rremote: Compressing objects:  12% (18/148)\u001b[K\rremote: Compressing objects:  13% (20/148)\u001b[K\rremote: Compressing objects:  14% (21/148)\u001b[K\rremote: Compressing objects:  15% (23/148)\u001b[K\rremote: Compressing objects:  16% (24/148)\u001b[K\rremote: Compressing objects:  17% (26/148)\u001b[K\rremote: Compressing objects:  18% (27/148)\u001b[K\rremote: Compressing objects:  19% (29/148)\u001b[K\rremote: Compressing objects:  20% (30/148)\u001b[K\rremote: Compressing objects:  21% (32/148)\u001b[K\rremote: Compressing objects:  22% (33/148)\u001b[K\rremote: Compressing objects:  23% (35/148)\u001b[K\rremote: Compressing objects:  24% (36/148)\u001b[K\rremote: Compressing objects:  25% (37/148)\u001b[K\rremote: Compressing objects:  26% (39/148)\u001b[K\rremote: Compressing objects:  27% (40/148)\u001b[K\rremote: Compressing objects:  28% (42/148)\u001b[K\rremote: Compressing objects:  29% (43/148)\u001b[K\rremote: Compressing objects:  30% (45/148)\u001b[K\rremote: Compressing objects:  31% (46/148)\u001b[K\rremote: Compressing objects:  32% (48/148)\u001b[K\rremote: Compressing objects:  33% (49/148)\u001b[K\rremote: Compressing objects:  34% (51/148)\u001b[K\rremote: Compressing objects:  35% (52/148)\u001b[K\rremote: Compressing objects:  36% (54/148)\u001b[K\rremote: Compressing objects:  37% (55/148)\u001b[K\rremote: Compressing objects:  38% (57/148)\u001b[K\rremote: Compressing objects:  39% (58/148)\u001b[K\rremote: Compressing objects:  40% (60/148)\u001b[K\rremote: Compressing objects:  41% (61/148)\u001b[K\rremote: Compressing objects:  42% (63/148)\u001b[K\rremote: Compressing objects:  43% (64/148)\u001b[K\rremote: Compressing objects:  44% (66/148)\u001b[K\rremote: Compressing objects:  45% (67/148)\u001b[K\rremote: Compressing objects:  46% (69/148)\u001b[K\rremote: Compressing objects:  47% (70/148)\u001b[K\rremote: Compressing objects:  48% (72/148)\u001b[K\rremote: Compressing objects:  49% (73/148)\u001b[K\rremote: Compressing objects:  50% (74/148)\u001b[K\rremote: Compressing objects:  51% (76/148)\u001b[K\rremote: Compressing objects:  52% (77/148)\u001b[K\rremote: Compressing objects:  53% (79/148)\u001b[K\rremote: Compressing objects:  54% (80/148)\u001b[K\rremote: Compressing objects:  55% (82/148)\u001b[K\rremote: Compressing objects:  56% (83/148)\u001b[K\rremote: Compressing objects:  57% (85/148)\u001b[K\rremote: Compressing objects:  58% (86/148)\u001b[K\rremote: Compressing objects:  59% (88/148)\u001b[K\rremote: Compressing objects:  60% (89/148)\u001b[K\rremote: Compressing objects:  61% (91/148)\u001b[K\rremote: Compressing objects:  62% (92/148)\u001b[K\rremote: Compressing objects:  63% (94/148)\u001b[K\rremote: Compressing objects:  64% (95/148)\u001b[K\rremote: Compressing objects:  65% (97/148)\u001b[K\rremote: Compressing objects:  66% (98/148)\u001b[K\rremote: Compressing objects:  67% (100/148)\u001b[K\rremote: Compressing objects:  68% (101/148)\u001b[K\rremote: Compressing objects:  69% (103/148)\u001b[K\rremote: Compressing objects:  70% (104/148)\u001b[K\rremote: Compressing objects:  71% (106/148)\u001b[K\rremote: Compressing objects:  72% (107/148)\u001b[K\rremote: Compressing objects:  73% (109/148)\u001b[K\rremote: Compressing objects:  74% (110/148)\u001b[K\rremote: Compressing objects:  75% (111/148)\u001b[K\rremote: Compressing objects:  76% (113/148)\u001b[K\rremote: Compressing objects:  77% (114/148)\u001b[K\rremote: Compressing objects:  78% (116/148)\u001b[K\rremote: Compressing objects:  79% (117/148)\u001b[K\rremote: Compressing objects:  80% (119/148)\u001b[K\rremote: Compressing objects:  81% (120/148)\u001b[K\rremote: Compressing objects:  82% (122/148)\u001b[K\rremote: Compressing objects:  83% (123/148)\u001b[K\rremote: Compressing objects:  84% (125/148)\u001b[K\rremote: Compressing objects:  85% (126/148)\u001b[K\rremote: Compressing objects:  86% (128/148)\u001b[K\rremote: Compressing objects:  87% (129/148)\u001b[K\rremote: Compressing objects:  88% (131/148)\u001b[K\rremote: Compressing objects:  89% (132/148)\u001b[K\rremote: Compressing objects:  90% (134/148)\u001b[K\rremote: Compressing objects:  91% (135/148)\u001b[K\rremote: Compressing objects:  92% (137/148)\u001b[K\rremote: Compressing objects:  93% (138/148)\u001b[K\rremote: Compressing objects:  94% (140/148)\u001b[K\rremote: Compressing objects:  95% (141/148)\u001b[K\rremote: Compressing objects:  96% (143/148)\u001b[K\rremote: Compressing objects:  97% (144/148)\u001b[K\rremote: Compressing objects:  98% (146/148)\u001b[K\rremote: Compressing objects:  99% (147/148)\u001b[K\rremote: Compressing objects: 100% (148/148)\u001b[K\rremote: Compressing objects: 100% (148/148), done.\u001b[K\n",
            "Receiving objects:   0% (1/211)   \rReceiving objects:   1% (3/211)   \rReceiving objects:   2% (5/211)   \rReceiving objects:   3% (7/211)   \rReceiving objects:   4% (9/211)   \rReceiving objects:   5% (11/211)   \rReceiving objects:   6% (13/211)   \rReceiving objects:   7% (15/211)   \rReceiving objects:   8% (17/211)   \rReceiving objects:   9% (19/211)   \rReceiving objects:  10% (22/211)   \rReceiving objects:  11% (24/211)   \rReceiving objects:  12% (26/211)   \rReceiving objects:  13% (28/211)   \rReceiving objects:  14% (30/211)   \rReceiving objects:  15% (32/211)   \rReceiving objects:  16% (34/211)   \rReceiving objects:  17% (36/211)   \rReceiving objects:  18% (38/211)   \rReceiving objects:  19% (41/211)   \rReceiving objects:  20% (43/211)   \rReceiving objects:  21% (45/211)   \rReceiving objects:  22% (47/211)   \rReceiving objects:  23% (49/211)   \rReceiving objects:  24% (51/211)   \rReceiving objects:  25% (53/211)   \rReceiving objects:  26% (55/211)   \rReceiving objects:  27% (57/211)   \rReceiving objects:  28% (60/211)   \rReceiving objects:  29% (62/211)   \rReceiving objects:  30% (64/211)   \rReceiving objects:  31% (66/211)   \rReceiving objects:  32% (68/211)   \rReceiving objects:  33% (70/211)   \rremote: Total 211 (delta 118), reused 148 (delta 60), pack-reused 0\u001b[K\n",
            "Receiving objects:  34% (72/211)   \rReceiving objects:  35% (74/211)   \rReceiving objects:  36% (76/211)   \rReceiving objects:  37% (79/211)   \rReceiving objects:  38% (81/211)   \rReceiving objects:  39% (83/211)   \rReceiving objects:  40% (85/211)   \rReceiving objects:  41% (87/211)   \rReceiving objects:  42% (89/211)   \rReceiving objects:  43% (91/211)   \rReceiving objects:  44% (93/211)   \rReceiving objects:  45% (95/211)   \rReceiving objects:  46% (98/211)   \rReceiving objects:  47% (100/211)   \rReceiving objects:  48% (102/211)   \rReceiving objects:  49% (104/211)   \rReceiving objects:  50% (106/211)   \rReceiving objects:  51% (108/211)   \rReceiving objects:  52% (110/211)   \rReceiving objects:  53% (112/211)   \rReceiving objects:  54% (114/211)   \rReceiving objects:  55% (117/211)   \rReceiving objects:  56% (119/211)   \rReceiving objects:  57% (121/211)   \rReceiving objects:  58% (123/211)   \rReceiving objects:  59% (125/211)   \rReceiving objects:  60% (127/211)   \rReceiving objects:  61% (129/211)   \rReceiving objects:  62% (131/211)   \rReceiving objects:  63% (133/211)   \rReceiving objects:  64% (136/211)   \rReceiving objects:  65% (138/211)   \rReceiving objects:  66% (140/211)   \rReceiving objects:  67% (142/211)   \rReceiving objects:  68% (144/211)   \rReceiving objects:  69% (146/211)   \rReceiving objects:  70% (148/211)   \rReceiving objects:  71% (150/211)   \rReceiving objects:  72% (152/211)   \rReceiving objects:  73% (155/211)   \rReceiving objects:  74% (157/211)   \rReceiving objects:  75% (159/211)   \rReceiving objects:  76% (161/211)   \rReceiving objects:  77% (163/211)   \rReceiving objects:  78% (165/211)   \rReceiving objects:  79% (167/211)   \rReceiving objects:  80% (169/211)   \rReceiving objects:  81% (171/211)   \rReceiving objects:  82% (174/211)   \rReceiving objects:  83% (176/211)   \rReceiving objects:  84% (178/211)   \rReceiving objects:  85% (180/211)   \rReceiving objects:  86% (182/211)   \rReceiving objects:  87% (184/211)   \rReceiving objects:  88% (186/211)   \rReceiving objects:  89% (188/211)   \rReceiving objects:  90% (190/211)   \rReceiving objects:  91% (193/211)   \rReceiving objects:  92% (195/211)   \rReceiving objects:  93% (197/211)   \rReceiving objects:  94% (199/211)   \rReceiving objects:  95% (201/211)   \rReceiving objects:  96% (203/211)   \rReceiving objects:  97% (205/211)   \rReceiving objects:  98% (207/211)   \rReceiving objects:  99% (209/211)   \rReceiving objects: 100% (211/211)   \rReceiving objects: 100% (211/211), 222.23 KiB | 27.78 MiB/s, done.\n",
            "Resolving deltas:   0% (0/118)   \rResolving deltas:  32% (38/118)   \rResolving deltas:  33% (39/118)   \rResolving deltas:  45% (54/118)   \rResolving deltas:  50% (60/118)   \rResolving deltas:  69% (82/118)   \rResolving deltas:  75% (89/118)   \rResolving deltas:  77% (91/118)   \rResolving deltas:  78% (93/118)   \rResolving deltas:  83% (98/118)   \rResolving deltas:  88% (105/118)   \rResolving deltas:  94% (112/118)   \rResolving deltas:  95% (113/118)   \rResolving deltas: 100% (118/118)   \rResolving deltas: 100% (118/118), done.\n",
            "/content/SWAG_DNN\n"
          ],
          "name": "stdout"
        }
      ]
    },
    {
      "cell_type": "code",
      "metadata": {
        "id": "au8SJUUimVo0"
      },
      "source": [
        "#STEP 4 :import userdefined library\n",
        "\n",
        "from SWAG_DNN.utils import Dataloader \n",
        "from SWAG_DNN.utils import show_images\n",
        "from SWAG_DNN.utils import classcount\n",
        "from SWAG_DNN.utils import perClassResult\n",
        "from SWAG_DNN.utils import plot_misclassified_image\n",
        "from SWAG_DNN.utils import useful_utils\n",
        "from SWAG_DNN.utils import gradcam\n",
        "from SWAG_DNN.utils import Albumentations\n",
        "from SWAG_DNN.models import BasicModel\n",
        "from SWAG_DNN.models import RESNET\n",
        "from SWAG_DNN.models import DAVIDNET\n",
        "from SWAG_DNN.trainer import train\n",
        "from SWAG_DNN.trainer import test\n",
        "from SWAG_DNN.utils.lr_finder import LRFinder"
      ],
      "execution_count": 7,
      "outputs": []
    },
    {
      "cell_type": "code",
      "metadata": {
        "id": "bd2aG8hal7Fo"
      },
      "source": [
        ""
      ],
      "execution_count": 7,
      "outputs": []
    },
    {
      "cell_type": "code",
      "metadata": {
        "id": "TQNY01MJ1The"
      },
      "source": [
        "#STEP :5 Define parameters \n",
        "\n",
        "class Args:\n",
        "\n",
        "    # Data Loading\n",
        "    # ============\n",
        "\n",
        "    # train_batch_size = 64\n",
        "    # val_batch_size = 64\n",
        "    num_workers = 4\n",
        "    #batch_size = 512\n",
        "    batch_size = 512\n",
        "\n",
        "\n",
        "    # Regularization\n",
        "    # ==============\n",
        "    dropout = 0\n",
        "    lambda_l2=5e-4\n",
        "    lambda_l1=0\n",
        "\n",
        "    # Training\n",
        "    # ========\n",
        "    random_seed = 1\n",
        "    epochs = 30\n",
        "    learning_rate = 0.01\n",
        "    momentum = 0.9\n",
        "    step_size=12\n"
      ],
      "execution_count": 8,
      "outputs": []
    },
    {
      "cell_type": "code",
      "metadata": {
        "colab": {
          "base_uri": "https://localhost:8080/",
          "height": 97,
          "referenced_widgets": [
            "dbf733082a324da989b71b728258c3cf",
            "4dc8f6cbd2084c108d7b3988cf2d4a75",
            "452b31eebfc7438e97fc3b5f5e1e3bf5",
            "b888869b855c4be995cf1fa27428ca79",
            "d440ffd7a42a41969c27f3b5d34d9ce9",
            "a490ad000b084c42af346d2a74013146",
            "a4eb453b4019427597492d42d17dfb5e",
            "e2c4436c07cc4604ad73a82fa1199ac1"
          ]
        },
        "id": "rDf2v87vk3ZN",
        "outputId": "6cc9e864-72d4-40bb-84af-d42b27249001"
      },
      "source": [
        "#get mean and standard deviation of images \n",
        "\n",
        "trainset = torchvision.datasets.CIFAR10(root='./data',download=True,transform=transforms.ToTensor())\n",
        "mean,std = Dataloader.calculate_mean_std(trainset)\n",
        "\n",
        "# mean =[0.5,0.5,0.5]\n",
        "# std =[0.5,0.5,0.5]"
      ],
      "execution_count": 9,
      "outputs": [
        {
          "output_type": "stream",
          "text": [
            "Downloading https://www.cs.toronto.edu/~kriz/cifar-10-python.tar.gz to ./data/cifar-10-python.tar.gz\n"
          ],
          "name": "stdout"
        },
        {
          "output_type": "display_data",
          "data": {
            "application/vnd.jupyter.widget-view+json": {
              "model_id": "dbf733082a324da989b71b728258c3cf",
              "version_minor": 0,
              "version_major": 2
            },
            "text/plain": [
              "HBox(children=(FloatProgress(value=0.0, max=170498071.0), HTML(value='')))"
            ]
          },
          "metadata": {
            "tags": []
          }
        },
        {
          "output_type": "stream",
          "text": [
            "\n",
            "Extracting ./data/cifar-10-python.tar.gz to ./data\n"
          ],
          "name": "stdout"
        }
      ]
    },
    {
      "cell_type": "code",
      "metadata": {
        "colab": {
          "base_uri": "https://localhost:8080/"
        },
        "id": "nmoCeAuvatXX",
        "outputId": "cf4bbe9a-5ac4-4ab3-e7d1-8bebd1ff9e18"
      },
      "source": [
        "train_transform_album = Albumentations.album_compose_train(mean,std)\n",
        "test_transform_album = Albumentations.album_compose_test(mean,std)\n",
        "\n",
        "trainloader,testloader=Dataloader.train_test_loader_with_Albumentation(Args.batch_size,Args.num_workers,train_transform_album,test_transform_album)\n",
        "classes = Dataloader.get_classes()"
      ],
      "execution_count": 10,
      "outputs": [
        {
          "output_type": "stream",
          "text": [
            "Files already downloaded and verified\n",
            "Files already downloaded and verified\n",
            "CUDA Available? True\n"
          ],
          "name": "stdout"
        },
        {
          "output_type": "stream",
          "text": [
            "/usr/local/lib/python3.7/dist-packages/torch/utils/data/dataloader.py:477: UserWarning: This DataLoader will create 4 worker processes in total. Our suggested max number of worker in current system is 2, which is smaller than what this DataLoader is going to create. Please be aware that excessive worker creation might get DataLoader running slow or even freeze, lower the worker number to avoid potential slowness/freeze if necessary.\n",
            "  cpuset_checked))\n"
          ],
          "name": "stderr"
        }
      ]
    },
    {
      "cell_type": "code",
      "metadata": {
        "colab": {
          "base_uri": "https://localhost:8080/",
          "height": 986
        },
        "id": "JzLCVdTAgK0n",
        "outputId": "00bcaf9c-0afd-4fc9-d8de-fea1dbfd8470"
      },
      "source": [
        "#plot  n raw images \n",
        "#make sure n is a squared number \n",
        "show_images.plot_n_image(9,trainloader,classes,mean,std,format='raw')\n"
      ],
      "execution_count": 11,
      "outputs": [
        {
          "output_type": "stream",
          "text": [
            "/usr/local/lib/python3.7/dist-packages/torch/utils/data/dataloader.py:477: UserWarning: This DataLoader will create 4 worker processes in total. Our suggested max number of worker in current system is 2, which is smaller than what this DataLoader is going to create. Please be aware that excessive worker creation might get DataLoader running slow or even freeze, lower the worker number to avoid potential slowness/freeze if necessary.\n",
            "  cpuset_checked))\n",
            "Clipping input data to the valid range for imshow with RGB data ([0..1] for floats or [0..255] for integers).\n",
            "Clipping input data to the valid range for imshow with RGB data ([0..1] for floats or [0..255] for integers).\n",
            "Clipping input data to the valid range for imshow with RGB data ([0..1] for floats or [0..255] for integers).\n",
            "Clipping input data to the valid range for imshow with RGB data ([0..1] for floats or [0..255] for integers).\n",
            "Clipping input data to the valid range for imshow with RGB data ([0..1] for floats or [0..255] for integers).\n",
            "Clipping input data to the valid range for imshow with RGB data ([0..1] for floats or [0..255] for integers).\n",
            "Clipping input data to the valid range for imshow with RGB data ([0..1] for floats or [0..255] for integers).\n",
            "Clipping input data to the valid range for imshow with RGB data ([0..1] for floats or [0..255] for integers).\n",
            "Clipping input data to the valid range for imshow with RGB data ([0..1] for floats or [0..255] for integers).\n"
          ],
          "name": "stderr"
        },
        {
          "output_type": "display_data",
          "data": {
            "image/png": "[encoded data removed]",
            "text/plain": [
              "<Figure size 720x1080 with 9 Axes>"
            ]
          },
          "metadata": {
            "tags": [],
            "needs_background": "light"
          }
        }
      ]
    },
    {
      "cell_type": "code",
      "metadata": {
        "colab": {
          "base_uri": "https://localhost:8080/",
          "height": 986
        },
        "id": "jtiDf-kEg-Ks",
        "outputId": "19f937e1-8baf-497e-9d24-3d753e5d9e9d"
      },
      "source": [
        "#plot  n normalized images \n",
        "#make sure n is a squared number \n",
        "show_images.plot_n_image(9,trainloader,classes,mean,std,format='normalized')"
      ],
      "execution_count": 12,
      "outputs": [
        {
          "output_type": "stream",
          "text": [
            "/usr/local/lib/python3.7/dist-packages/torch/utils/data/dataloader.py:477: UserWarning: This DataLoader will create 4 worker processes in total. Our suggested max number of worker in current system is 2, which is smaller than what this DataLoader is going to create. Please be aware that excessive worker creation might get DataLoader running slow or even freeze, lower the worker number to avoid potential slowness/freeze if necessary.\n",
            "  cpuset_checked))\n",
            "Clipping input data to the valid range for imshow with RGB data ([0..1] for floats or [0..255] for integers).\n",
            "Clipping input data to the valid range for imshow with RGB data ([0..1] for floats or [0..255] for integers).\n",
            "Clipping input data to the valid range for imshow with RGB data ([0..1] for floats or [0..255] for integers).\n",
            "Clipping input data to the valid range for imshow with RGB data ([0..1] for floats or [0..255] for integers).\n",
            "Clipping input data to the valid range for imshow with RGB data ([0..1] for floats or [0..255] for integers).\n",
            "Clipping input data to the valid range for imshow with RGB data ([0..1] for floats or [0..255] for integers).\n",
            "Clipping input data to the valid range for imshow with RGB data ([0..1] for floats or [0..255] for integers).\n",
            "Clipping input data to the valid range for imshow with RGB data ([0..1] for floats or [0..255] for integers).\n",
            "Clipping input data to the valid range for imshow with RGB data ([0..1] for floats or [0..255] for integers).\n"
          ],
          "name": "stderr"
        },
        {
          "output_type": "display_data",
          "data": {
            "image/png": "[encoded data removed]",
            "text/plain": [
              "<Figure size 720x1080 with 9 Axes>"
            ]
          },
          "metadata": {
            "tags": [],
            "needs_background": "light"
          }
        }
      ]
    },
    {
      "cell_type": "code",
      "metadata": {
        "colab": {
          "base_uri": "https://localhost:8080/"
        },
        "id": "f1dIUPrwBPbi",
        "outputId": "72263cff-6784-409d-fffe-57361ecc7c71"
      },
      "source": [
        "\n",
        "dataset = CIFAR10(root='data/', download=True, transform=ToTensor())\n",
        "class_count = classcount.get_train_class_count(dataset,classes)\n",
        "print(class_count)"
      ],
      "execution_count": 13,
      "outputs": [
        {
          "output_type": "stream",
          "text": [
            "Files already downloaded and verified\n",
            "{'frog': 5000, 'truck': 5000, 'deer': 5000, 'car': 5000, 'bird': 5000, 'horse': 5000, 'ship': 5000, 'cat': 5000, 'dog': 5000, 'plane': 5000}\n"
          ],
          "name": "stdout"
        }
      ]
    },
    {
      "cell_type": "markdown",
      "metadata": {
        "id": "RbpXjgW-YTlM"
      },
      "source": [
        ""
      ]
    },
    {
      "cell_type": "code",
      "metadata": {
        "colab": {
          "base_uri": "https://localhost:8080/"
        },
        "id": "R2DuiQTR1CR7",
        "outputId": "b10c3550-0652-4692-cc45-76e35aad4ef0"
      },
      "source": [
        "!pip install torchsummary\n",
        "from torchsummary import summary\n",
        "use_cuda = torch.cuda.is_available()\n",
        "device = torch.device(\"cuda\" if use_cuda else \"cpu\")\n",
        "print(device)\n",
        "\n",
        "#working \n",
        "#model = BasicModel.Net().to(device)\n",
        "\n",
        "#RESNET\n",
        "# model = RESNET.ResNet18().to(device) \n",
        "\n",
        "#DAVIDNET \n",
        "model = DAVIDNET.DAVIDNET().to(device) \n",
        "\n",
        "summary(model, input_size=(3, 32, 32))"
      ],
      "execution_count": 14,
      "outputs": [
        {
          "output_type": "stream",
          "text": [
            "Requirement already satisfied: torchsummary in /usr/local/lib/python3.7/dist-packages (1.5.1)\n",
            "cuda\n",
            "----------------------------------------------------------------\n",
            "        Layer (type)               Output Shape         Param #\n",
            "================================================================\n",
            "            Conv2d-1           [-1, 64, 32, 32]           1,728\n",
            "       BatchNorm2d-2           [-1, 64, 32, 32]             128\n",
            "              ReLU-3           [-1, 64, 32, 32]               0\n",
            "            Conv2d-4          [-1, 128, 32, 32]          73,728\n",
            "         MaxPool2d-5          [-1, 128, 16, 16]               0\n",
            "       BatchNorm2d-6          [-1, 128, 16, 16]             256\n",
            "              ReLU-7          [-1, 128, 16, 16]               0\n",
            "            Conv2d-8          [-1, 128, 16, 16]         147,456\n",
            "       BatchNorm2d-9          [-1, 128, 16, 16]             256\n",
            "             ReLU-10          [-1, 128, 16, 16]               0\n",
            "           Conv2d-11          [-1, 128, 16, 16]         147,456\n",
            "      BatchNorm2d-12          [-1, 128, 16, 16]             256\n",
            "             ReLU-13          [-1, 128, 16, 16]               0\n",
            "           Conv2d-14          [-1, 256, 16, 16]         294,912\n",
            "        MaxPool2d-15            [-1, 256, 8, 8]               0\n",
            "      BatchNorm2d-16            [-1, 256, 8, 8]             512\n",
            "             ReLU-17            [-1, 256, 8, 8]               0\n",
            "           Conv2d-18            [-1, 512, 8, 8]       1,179,648\n",
            "        MaxPool2d-19            [-1, 512, 4, 4]               0\n",
            "      BatchNorm2d-20            [-1, 512, 4, 4]           1,024\n",
            "             ReLU-21            [-1, 512, 4, 4]               0\n",
            "           Conv2d-22            [-1, 512, 4, 4]       2,359,296\n",
            "      BatchNorm2d-23            [-1, 512, 4, 4]           1,024\n",
            "             ReLU-24            [-1, 512, 4, 4]               0\n",
            "           Conv2d-25            [-1, 512, 4, 4]       2,359,296\n",
            "      BatchNorm2d-26            [-1, 512, 4, 4]           1,024\n",
            "             ReLU-27            [-1, 512, 4, 4]               0\n",
            "        MaxPool2d-28            [-1, 512, 1, 1]               0\n",
            "           Linear-29                   [-1, 10]           5,120\n",
            "================================================================\n",
            "Total params: 6,573,120\n",
            "Trainable params: 6,573,120\n",
            "Non-trainable params: 0\n",
            "----------------------------------------------------------------\n",
            "Input size (MB): 0.01\n",
            "Forward/backward pass size (MB): 6.44\n",
            "Params size (MB): 25.07\n",
            "Estimated Total Size (MB): 31.53\n",
            "----------------------------------------------------------------\n"
          ],
          "name": "stdout"
        }
      ]
    },
    {
      "cell_type": "code",
      "metadata": {
        "id": "AqH22Js6E95-"
      },
      "source": [
        "#FIND BEST POSSIBLE LR \n"
      ],
      "execution_count": 15,
      "outputs": []
    },
    {
      "cell_type": "code",
      "metadata": {
        "id": "Cwr1RA56FC8f"
      },
      "source": [
        "import torch.nn as nn\n",
        "import torch.optim as optim\n",
        "min_lr=1e-06\n",
        "import torch.nn as nn\n",
        "import torch.optim as optim\n",
        "\n",
        "criterion = nn.CrossEntropyLoss()\n",
        "optimiser = optim.SGD(model.parameters(), lr=min_lr,momentum=Args.momentum,weight_decay=0.005 )\n",
        "lr_finder = LRFinder(model, optimiser, criterion, device=\"cuda\")\n"
      ],
      "execution_count": 16,
      "outputs": []
    },
    {
      "cell_type": "code",
      "metadata": {
        "id": "3xqZYkmXfEuU",
        "colab": {
          "base_uri": "https://localhost:8080/",
          "height": 465,
          "referenced_widgets": [
            "12945d0102ce4c54a863f161c9f87590",
            "9066a6aab34c4e67a3215c7dcb6575a8",
            "61669061d31b4996994cc7b63facf510",
            "f6fe2ebb10aa42a4b08856a8afb8daf9",
            "af591ba5c81048b3abd7b430dd520332",
            "4488c7f546a741abb895ffff543c84a9",
            "a688b1462792417b9f4c603bbaf27b8b",
            "fb8480104b764b42ac8a7f24218a5e27"
          ]
        },
        "outputId": "1956b754-262e-4a5f-d23b-86937fc84af0"
      },
      "source": [
        "## FIND BEST LR AND PLOT BETWEEN 10-6 and 1 \n",
        "lr_finder.range_test(trainloader, val_loader=testloader,start_lr=1e-06,end_lr=1, num_iter=600 ,step_mode=\"exp\")\n",
        "_,best_descent_lr=lr_finder.plot()\n",
        "## Extract Best LR with minimum losss \n",
        "Best_lr = lr_finder.history['lr'][lr_finder.history['loss'].index(lr_finder.best_loss)]\n",
        "print(\"best LR With steepest descent \", best_descent_lr)\n",
        "print(\"best LR With minimum loss \",Best_lr)\n",
        "lr_finder.reset() # to reset the model and optimizer to their initial state"
      ],
      "execution_count": 17,
      "outputs": [
        {
          "output_type": "stream",
          "text": [
            "/usr/local/lib/python3.7/dist-packages/torch/utils/data/dataloader.py:477: UserWarning: This DataLoader will create 4 worker processes in total. Our suggested max number of worker in current system is 2, which is smaller than what this DataLoader is going to create. Please be aware that excessive worker creation might get DataLoader running slow or even freeze, lower the worker number to avoid potential slowness/freeze if necessary.\n",
            "  cpuset_checked))\n"
          ],
          "name": "stderr"
        },
        {
          "output_type": "display_data",
          "data": {
            "application/vnd.jupyter.widget-view+json": {
              "model_id": "12945d0102ce4c54a863f161c9f87590",
              "version_minor": 0,
              "version_major": 2
            },
            "text/plain": [
              "HBox(children=(FloatProgress(value=0.0, max=600.0), HTML(value='')))"
            ]
          },
          "metadata": {
            "tags": []
          }
        },
        {
          "output_type": "stream",
          "text": [
            "Stopping early, the loss has diverged\n",
            "Learning rate search finished. See the graph with {finder_name}.plot()\n",
            "LR suggestion: steepest gradient\n",
            "Suggested LR: 1.33E-03\n"
          ],
          "name": "stdout"
        },
        {
          "output_type": "display_data",
          "data": {
            "image/png": "[encoded data removed]",
            "text/plain": [
              "<Figure size 432x288 with 1 Axes>"
            ]
          },
          "metadata": {
            "tags": [],
            "needs_background": "light"
          }
        },
        {
          "output_type": "stream",
          "text": [
            "best LR With steepest descent  0.0013341623512779309\n",
            "best LR With minimum loss  0.004130729071659684\n"
          ],
          "name": "stdout"
        }
      ]
    },
    {
      "cell_type": "code",
      "metadata": {
        "id": "BYjEEhiiIKyV",
        "colab": {
          "base_uri": "https://localhost:8080/",
          "height": 465,
          "referenced_widgets": [
            "96889d17df6e403e94c1007fa227dfc4",
            "1cefcd6da5494d1e935f52aaf0509a35",
            "e6dd861e3d1649eea257d6a92b2a73f5",
            "e01352fa54b34b54b13dc552fa5571a6",
            "13e3d116df6742c8b90ef9ae67991b16",
            "827ad2b5804740bf9c270ff9a23d61d4",
            "67da9de912cb4eca8c3f6e67e5ab1309",
            "cd37d3fe77104d3a8bc5d6a4934c928d"
          ]
        },
        "outputId": "1837539b-a2d3-4582-8fdf-530f83ff28fa"
      },
      "source": [
        "# FIND BEST LR AND PLOT BETWEEN 10-3 and 7e-02\n",
        "lr_finder = LRFinder(model, optimiser, criterion, device=\"cuda\")\n",
        "lr_finder.range_test(trainloader, val_loader=testloader,start_lr=1e-03, end_lr=7e-02, num_iter=300 ,step_mode=\"exp\")\n",
        "_,best_descent_lr=lr_finder.plot()\n",
        "## Extract Best LR with minimum losss \n",
        "Best_lr = lr_finder.history['lr'][lr_finder.history['loss'].index(lr_finder.best_loss)]\n",
        "print(\"best LR With steepest descent \", best_descent_lr)\n",
        "print(\"best LR With minimum loss \",Best_lr)\n",
        "lr_finder.reset() # to reset the model and optimizer to their initial state"
      ],
      "execution_count": 18,
      "outputs": [
        {
          "output_type": "stream",
          "text": [
            "/usr/local/lib/python3.7/dist-packages/torch/utils/data/dataloader.py:477: UserWarning: This DataLoader will create 4 worker processes in total. Our suggested max number of worker in current system is 2, which is smaller than what this DataLoader is going to create. Please be aware that excessive worker creation might get DataLoader running slow or even freeze, lower the worker number to avoid potential slowness/freeze if necessary.\n",
            "  cpuset_checked))\n"
          ],
          "name": "stderr"
        },
        {
          "output_type": "display_data",
          "data": {
            "application/vnd.jupyter.widget-view+json": {
              "model_id": "96889d17df6e403e94c1007fa227dfc4",
              "version_minor": 0,
              "version_major": 2
            },
            "text/plain": [
              "HBox(children=(FloatProgress(value=0.0, max=300.0), HTML(value='')))"
            ]
          },
          "metadata": {
            "tags": []
          }
        },
        {
          "output_type": "stream",
          "text": [
            "Stopping early, the loss has diverged\n",
            "Learning rate search finished. See the graph with {finder_name}.plot()\n",
            "LR suggestion: steepest gradient\n",
            "Suggested LR: 1.98E-02\n"
          ],
          "name": "stdout"
        },
        {
          "output_type": "display_data",
          "data": {
            "image/png": "[encoded data removed]",
            "text/plain": [
              "<Figure size 432x288 with 1 Axes>"
            ]
          },
          "metadata": {
            "tags": [],
            "needs_background": "light"
          }
        },
        {
          "output_type": "stream",
          "text": [
            "best LR With steepest descent  0.019764610289769453\n",
            "best LR With minimum loss  0.007005075401472828\n"
          ],
          "name": "stdout"
        }
      ]
    },
    {
      "cell_type": "code",
      "metadata": {
        "id": "uMUVm-Q0IM6b"
      },
      "source": [
        ""
      ],
      "execution_count": 18,
      "outputs": []
    },
    {
      "cell_type": "code",
      "metadata": {
        "colab": {
          "base_uri": "https://localhost:8080/"
        },
        "id": "WEYFKkWMImFX",
        "outputId": "6d91bb99-9679-47e2-db7b-f2bf8eab8657"
      },
      "source": [
        " 1.10E-02\n"
      ],
      "execution_count": 19,
      "outputs": [
        {
          "output_type": "execute_result",
          "data": {
            "text/plain": [
              "0.011"
            ]
          },
          "metadata": {
            "tags": []
          },
          "execution_count": 19
        }
      ]
    },
    {
      "cell_type": "code",
      "metadata": {
        "id": "GdZ6QhV8IooR"
      },
      "source": [
        ""
      ],
      "execution_count": 19,
      "outputs": []
    },
    {
      "cell_type": "code",
      "metadata": {
        "id": "fbFiErmfQEiH"
      },
      "source": [
        ""
      ],
      "execution_count": 19,
      "outputs": []
    },
    {
      "cell_type": "code",
      "metadata": {
        "id": "QCAJp8HhKxRC"
      },
      "source": [
        "#initialize loss , scheduler , optimizer \n"
      ],
      "execution_count": 20,
      "outputs": []
    },
    {
      "cell_type": "code",
      "metadata": {
        "id": "oZv0DFuMK5a5"
      },
      "source": [
        "## **Initialise Loss funtion, Optimizer, Schedular**\n",
        "import torch.nn as nn\n",
        "import torch.optim as optim\n",
        "from torch.optim.lr_scheduler import ReduceLROnPlateau\n",
        "from torch.optim.lr_scheduler import OneCycleLR\n",
        "criterion = nn.CrossEntropyLoss()\n",
        "optimizer = optim.SGD(model.parameters(), lr=0.015,momentum=0.9 ,weight_decay = 0.0001)\n",
        "#scheduler = ReduceLROnPlateau(optimizer, patience = 3)\n",
        "scheduler = OneCycleLR(optimizer, max_lr = 0.015, total_steps=None, epochs=30, steps_per_epoch=len(trainloader), pct_start=0.20, anneal_strategy='linear', cycle_momentum=False, base_momentum=0.85, max_momentum=0.95, div_factor=8,final_div_factor =1)"
      ],
      "execution_count": 21,
      "outputs": []
    },
    {
      "cell_type": "markdown",
      "metadata": {
        "id": "Z2WKXN37pkDt"
      },
      "source": [
        ""
      ]
    },
    {
      "cell_type": "code",
      "metadata": {
        "id": "0Occrhjolc2C"
      },
      "source": [
        "\n",
        "# import torch.optim as optim\n",
        "# from torch.optim.lr_scheduler import StepLR\n",
        "# lossfunc = nn.CrossEntropyLoss()\n",
        "# optimizer = optim.SGD(model.parameters(), lr=Args.learning_rate, momentum=Args.momentum,weight_decay=Args.lambda_l2)\n",
        "# scheduler = StepLR(optimizer, step_size=Args.step_size, gamma=0.1)\n"
      ],
      "execution_count": 22,
      "outputs": []
    },
    {
      "cell_type": "code",
      "metadata": {
        "colab": {
          "base_uri": "https://localhost:8080/"
        },
        "id": "ymHOlCvvbCls",
        "outputId": "c408340b-df53-4da4-cb8b-5f06dcfad465"
      },
      "source": [
        "#Test\n",
        "EPOCHS = Args.epochs\n",
        "\n",
        "EPOCHS = 30\n",
        "trainer = train.Trainer()\n",
        "tester  = test.Tester()\n",
        "Lr_track=[]\n",
        "lossfunc=criterion\n",
        "\n",
        "for epoch in range(EPOCHS):\n",
        "  print(\"EPOCH:\", epoch+1, 'LR:',optimizer.param_groups[0]['lr'])\n",
        "  Lr_track.append(optimizer.param_groups[0]['lr'])\n",
        "  trainer.train(model, device, trainloader, optimizer, lossfunc, epoch, Args.lambda_l1,scheduler)\n",
        "  tester.test(model, device, testloader)\n",
        "\n",
        "test_losses,test_acc=tester.getValuesTest()\n",
        "train_losses,train_acc=trainer.getValuesTrain()"
      ],
      "execution_count": 23,
      "outputs": [
        {
          "output_type": "stream",
          "text": [
            "\r  0%|          | 0/98 [00:00<?, ?it/s]"
          ],
          "name": "stderr"
        },
        {
          "output_type": "stream",
          "text": [
            "EPOCH: 1 LR: 0.001875\n"
          ],
          "name": "stdout"
        },
        {
          "output_type": "stream",
          "text": [
            "/usr/local/lib/python3.7/dist-packages/torch/utils/data/dataloader.py:477: UserWarning: This DataLoader will create 4 worker processes in total. Our suggested max number of worker in current system is 2, which is smaller than what this DataLoader is going to create. Please be aware that excessive worker creation might get DataLoader running slow or even freeze, lower the worker number to avoid potential slowness/freeze if necessary.\n",
            "  cpuset_checked))\n",
            "Train set: Loss=1.3037861585617065 Batch_id=97 Accuracy=38.36: 100%|██████████| 98/98 [00:24<00:00,  3.99it/s]\n",
            "  0%|          | 0/98 [00:00<?, ?it/s]"
          ],
          "name": "stderr"
        },
        {
          "output_type": "stream",
          "text": [
            "\n",
            "Test set: Average loss: 1.2570, Test Accuracy: 5492/10000 (54.92%)\n",
            "\n",
            "EPOCH: 2 LR: 0.004066226575809199\n"
          ],
          "name": "stdout"
        },
        {
          "output_type": "stream",
          "text": [
            "Train set: Loss=1.0352399349212646 Batch_id=97 Accuracy=57.54: 100%|██████████| 98/98 [00:24<00:00,  3.98it/s]\n",
            "  0%|          | 0/98 [00:00<?, ?it/s]"
          ],
          "name": "stderr"
        },
        {
          "output_type": "stream",
          "text": [
            "\n",
            "Test set: Average loss: 1.0233, Test Accuracy: 6461/10000 (64.61%)\n",
            "\n",
            "EPOCH: 3 LR: 0.006257453151618398\n"
          ],
          "name": "stdout"
        },
        {
          "output_type": "stream",
          "text": [
            "Train set: Loss=0.9480570554733276 Batch_id=97 Accuracy=65.73: 100%|██████████| 98/98 [00:24<00:00,  3.99it/s]\n",
            "  0%|          | 0/98 [00:00<?, ?it/s]"
          ],
          "name": "stderr"
        },
        {
          "output_type": "stream",
          "text": [
            "\n",
            "Test set: Average loss: 0.8957, Test Accuracy: 6962/10000 (69.62%)\n",
            "\n",
            "EPOCH: 4 LR: 0.008448679727427598\n"
          ],
          "name": "stdout"
        },
        {
          "output_type": "stream",
          "text": [
            "Train set: Loss=0.7120997309684753 Batch_id=97 Accuracy=71.04: 100%|██████████| 98/98 [00:24<00:00,  3.98it/s]\n",
            "  0%|          | 0/98 [00:00<?, ?it/s]"
          ],
          "name": "stderr"
        },
        {
          "output_type": "stream",
          "text": [
            "\n",
            "Test set: Average loss: 0.6842, Test Accuracy: 7646/10000 (76.46%)\n",
            "\n",
            "EPOCH: 5 LR: 0.010639906303236796\n"
          ],
          "name": "stdout"
        },
        {
          "output_type": "stream",
          "text": [
            "Train set: Loss=0.6848685145378113 Batch_id=97 Accuracy=74.44: 100%|██████████| 98/98 [00:25<00:00,  3.84it/s]\n",
            "  0%|          | 0/98 [00:00<?, ?it/s]"
          ],
          "name": "stderr"
        },
        {
          "output_type": "stream",
          "text": [
            "\n",
            "Test set: Average loss: 0.6928, Test Accuracy: 7770/10000 (77.70%)\n",
            "\n",
            "EPOCH: 6 LR: 0.012831132879045996\n"
          ],
          "name": "stdout"
        },
        {
          "output_type": "stream",
          "text": [
            "Train set: Loss=0.7644230127334595 Batch_id=97 Accuracy=75.74: 100%|██████████| 98/98 [00:25<00:00,  3.81it/s]\n",
            "  0%|          | 0/98 [00:00<?, ?it/s]"
          ],
          "name": "stderr"
        },
        {
          "output_type": "stream",
          "text": [
            "\n",
            "Test set: Average loss: 0.7681, Test Accuracy: 7531/10000 (75.31%)\n",
            "\n",
            "EPOCH: 7 LR: 0.014994419642857143\n"
          ],
          "name": "stdout"
        },
        {
          "output_type": "stream",
          "text": [
            "Train set: Loss=0.8051562309265137 Batch_id=97 Accuracy=79.42: 100%|██████████| 98/98 [00:26<00:00,  3.76it/s]\n",
            "  0%|          | 0/98 [00:00<?, ?it/s]"
          ],
          "name": "stderr"
        },
        {
          "output_type": "stream",
          "text": [
            "\n",
            "Test set: Average loss: 0.6902, Test Accuracy: 7927/10000 (79.27%)\n",
            "\n",
            "EPOCH: 8 LR: 0.014447544642857142\n"
          ],
          "name": "stdout"
        },
        {
          "output_type": "stream",
          "text": [
            "Train set: Loss=0.5576413869857788 Batch_id=97 Accuracy=81.45: 100%|██████████| 98/98 [00:25<00:00,  3.80it/s]\n",
            "  0%|          | 0/98 [00:00<?, ?it/s]"
          ],
          "name": "stderr"
        },
        {
          "output_type": "stream",
          "text": [
            "\n",
            "Test set: Average loss: 0.5493, Test Accuracy: 8273/10000 (82.73%)\n",
            "\n",
            "EPOCH: 9 LR: 0.013900669642857142\n"
          ],
          "name": "stdout"
        },
        {
          "output_type": "stream",
          "text": [
            "Train set: Loss=0.48141714930534363 Batch_id=97 Accuracy=84.55: 100%|██████████| 98/98 [00:26<00:00,  3.76it/s]\n",
            "  0%|          | 0/98 [00:00<?, ?it/s]"
          ],
          "name": "stderr"
        },
        {
          "output_type": "stream",
          "text": [
            "\n",
            "Test set: Average loss: 0.5555, Test Accuracy: 8337/10000 (83.37%)\n",
            "\n",
            "EPOCH: 10 LR: 0.013353794642857143\n"
          ],
          "name": "stdout"
        },
        {
          "output_type": "stream",
          "text": [
            "Train set: Loss=0.4504113495349884 Batch_id=97 Accuracy=86.27: 100%|██████████| 98/98 [00:26<00:00,  3.75it/s]\n",
            "  0%|          | 0/98 [00:00<?, ?it/s]"
          ],
          "name": "stderr"
        },
        {
          "output_type": "stream",
          "text": [
            "\n",
            "Test set: Average loss: 0.4680, Test Accuracy: 8488/10000 (84.88%)\n",
            "\n",
            "EPOCH: 11 LR: 0.012806919642857142\n"
          ],
          "name": "stdout"
        },
        {
          "output_type": "stream",
          "text": [
            "Train set: Loss=0.3234047293663025 Batch_id=97 Accuracy=87.50: 100%|██████████| 98/98 [00:26<00:00,  3.75it/s]\n",
            "  0%|          | 0/98 [00:00<?, ?it/s]"
          ],
          "name": "stderr"
        },
        {
          "output_type": "stream",
          "text": [
            "\n",
            "Test set: Average loss: 0.4179, Test Accuracy: 8685/10000 (86.85%)\n",
            "\n",
            "EPOCH: 12 LR: 0.012260044642857142\n"
          ],
          "name": "stdout"
        },
        {
          "output_type": "stream",
          "text": [
            "Train set: Loss=0.30294546484947205 Batch_id=97 Accuracy=89.17: 100%|██████████| 98/98 [00:26<00:00,  3.72it/s]\n",
            "  0%|          | 0/98 [00:00<?, ?it/s]"
          ],
          "name": "stderr"
        },
        {
          "output_type": "stream",
          "text": [
            "\n",
            "Test set: Average loss: 0.3801, Test Accuracy: 8750/10000 (87.50%)\n",
            "\n",
            "EPOCH: 13 LR: 0.011713169642857141\n"
          ],
          "name": "stdout"
        },
        {
          "output_type": "stream",
          "text": [
            "Train set: Loss=0.22416909039020538 Batch_id=97 Accuracy=90.28: 100%|██████████| 98/98 [00:26<00:00,  3.77it/s]\n",
            "  0%|          | 0/98 [00:00<?, ?it/s]"
          ],
          "name": "stderr"
        },
        {
          "output_type": "stream",
          "text": [
            "\n",
            "Test set: Average loss: 0.3950, Test Accuracy: 8728/10000 (87.28%)\n",
            "\n",
            "EPOCH: 14 LR: 0.011166294642857143\n"
          ],
          "name": "stdout"
        },
        {
          "output_type": "stream",
          "text": [
            "Train set: Loss=0.20996148884296417 Batch_id=97 Accuracy=91.48: 100%|██████████| 98/98 [00:26<00:00,  3.75it/s]\n",
            "  0%|          | 0/98 [00:00<?, ?it/s]"
          ],
          "name": "stderr"
        },
        {
          "output_type": "stream",
          "text": [
            "\n",
            "Test set: Average loss: 0.4078, Test Accuracy: 8713/10000 (87.13%)\n",
            "\n",
            "EPOCH: 15 LR: 0.010619419642857142\n"
          ],
          "name": "stdout"
        },
        {
          "output_type": "stream",
          "text": [
            "Train set: Loss=0.1486138105392456 Batch_id=97 Accuracy=92.07: 100%|██████████| 98/98 [00:26<00:00,  3.75it/s]\n",
            "  0%|          | 0/98 [00:00<?, ?it/s]"
          ],
          "name": "stderr"
        },
        {
          "output_type": "stream",
          "text": [
            "\n",
            "Test set: Average loss: 0.3668, Test Accuracy: 8825/10000 (88.25%)\n",
            "\n",
            "EPOCH: 16 LR: 0.010072544642857142\n"
          ],
          "name": "stdout"
        },
        {
          "output_type": "stream",
          "text": [
            "Train set: Loss=0.16299517452716827 Batch_id=97 Accuracy=92.46: 100%|██████████| 98/98 [00:25<00:00,  3.77it/s]\n",
            "  0%|          | 0/98 [00:00<?, ?it/s]"
          ],
          "name": "stderr"
        },
        {
          "output_type": "stream",
          "text": [
            "\n",
            "Test set: Average loss: 0.3589, Test Accuracy: 8906/10000 (89.06%)\n",
            "\n",
            "EPOCH: 17 LR: 0.009525669642857143\n"
          ],
          "name": "stdout"
        },
        {
          "output_type": "stream",
          "text": [
            "Train set: Loss=0.25340503454208374 Batch_id=97 Accuracy=93.15: 100%|██████████| 98/98 [00:26<00:00,  3.71it/s]\n",
            "  0%|          | 0/98 [00:00<?, ?it/s]"
          ],
          "name": "stderr"
        },
        {
          "output_type": "stream",
          "text": [
            "\n",
            "Test set: Average loss: 0.4149, Test Accuracy: 8735/10000 (87.35%)\n",
            "\n",
            "EPOCH: 18 LR: 0.008978794642857143\n"
          ],
          "name": "stdout"
        },
        {
          "output_type": "stream",
          "text": [
            "Train set: Loss=0.19238603115081787 Batch_id=97 Accuracy=94.04: 100%|██████████| 98/98 [00:26<00:00,  3.75it/s]\n",
            "  0%|          | 0/98 [00:00<?, ?it/s]"
          ],
          "name": "stderr"
        },
        {
          "output_type": "stream",
          "text": [
            "\n",
            "Test set: Average loss: 0.3388, Test Accuracy: 8932/10000 (89.32%)\n",
            "\n",
            "EPOCH: 19 LR: 0.008431919642857142\n"
          ],
          "name": "stdout"
        },
        {
          "output_type": "stream",
          "text": [
            "Train set: Loss=0.1367647796869278 Batch_id=97 Accuracy=94.63: 100%|██████████| 98/98 [00:26<00:00,  3.76it/s]\n",
            "  0%|          | 0/98 [00:00<?, ?it/s]"
          ],
          "name": "stderr"
        },
        {
          "output_type": "stream",
          "text": [
            "\n",
            "Test set: Average loss: 0.3449, Test Accuracy: 8934/10000 (89.34%)\n",
            "\n",
            "EPOCH: 20 LR: 0.007885044642857143\n"
          ],
          "name": "stdout"
        },
        {
          "output_type": "stream",
          "text": [
            "Train set: Loss=0.12248100340366364 Batch_id=97 Accuracy=95.09: 100%|██████████| 98/98 [00:26<00:00,  3.77it/s]\n",
            "  0%|          | 0/98 [00:00<?, ?it/s]"
          ],
          "name": "stderr"
        },
        {
          "output_type": "stream",
          "text": [
            "\n",
            "Test set: Average loss: 0.3322, Test Accuracy: 8952/10000 (89.52%)\n",
            "\n",
            "EPOCH: 21 LR: 0.007338169642857142\n"
          ],
          "name": "stdout"
        },
        {
          "output_type": "stream",
          "text": [
            "Train set: Loss=0.14050443470478058 Batch_id=97 Accuracy=95.68: 100%|██████████| 98/98 [00:26<00:00,  3.73it/s]\n",
            "  0%|          | 0/98 [00:00<?, ?it/s]"
          ],
          "name": "stderr"
        },
        {
          "output_type": "stream",
          "text": [
            "\n",
            "Test set: Average loss: 0.3295, Test Accuracy: 8992/10000 (89.92%)\n",
            "\n",
            "EPOCH: 22 LR: 0.006791294642857142\n"
          ],
          "name": "stdout"
        },
        {
          "output_type": "stream",
          "text": [
            "Train set: Loss=0.13911259174346924 Batch_id=97 Accuracy=96.11: 100%|██████████| 98/98 [00:26<00:00,  3.73it/s]\n",
            "  0%|          | 0/98 [00:00<?, ?it/s]"
          ],
          "name": "stderr"
        },
        {
          "output_type": "stream",
          "text": [
            "\n",
            "Test set: Average loss: 0.3080, Test Accuracy: 9050/10000 (90.50%)\n",
            "\n",
            "EPOCH: 23 LR: 0.006244419642857144\n"
          ],
          "name": "stdout"
        },
        {
          "output_type": "stream",
          "text": [
            "Train set: Loss=0.1387454718351364 Batch_id=97 Accuracy=96.43: 100%|██████████| 98/98 [00:26<00:00,  3.74it/s]\n",
            "  0%|          | 0/98 [00:00<?, ?it/s]"
          ],
          "name": "stderr"
        },
        {
          "output_type": "stream",
          "text": [
            "\n",
            "Test set: Average loss: 0.3152, Test Accuracy: 9041/10000 (90.41%)\n",
            "\n",
            "EPOCH: 24 LR: 0.005697544642857141\n"
          ],
          "name": "stdout"
        },
        {
          "output_type": "stream",
          "text": [
            "Train set: Loss=0.09504061192274094 Batch_id=97 Accuracy=96.92: 100%|██████████| 98/98 [00:26<00:00,  3.71it/s]\n",
            "  0%|          | 0/98 [00:00<?, ?it/s]"
          ],
          "name": "stderr"
        },
        {
          "output_type": "stream",
          "text": [
            "\n",
            "Test set: Average loss: 0.3194, Test Accuracy: 9056/10000 (90.56%)\n",
            "\n",
            "EPOCH: 25 LR: 0.005150669642857143\n"
          ],
          "name": "stdout"
        },
        {
          "output_type": "stream",
          "text": [
            "Train set: Loss=0.09816566854715347 Batch_id=97 Accuracy=96.97: 100%|██████████| 98/98 [00:26<00:00,  3.75it/s]\n",
            "  0%|          | 0/98 [00:00<?, ?it/s]"
          ],
          "name": "stderr"
        },
        {
          "output_type": "stream",
          "text": [
            "\n",
            "Test set: Average loss: 0.3171, Test Accuracy: 9037/10000 (90.37%)\n",
            "\n",
            "EPOCH: 26 LR: 0.004603794642857144\n"
          ],
          "name": "stdout"
        },
        {
          "output_type": "stream",
          "text": [
            "Train set: Loss=0.09166517108678818 Batch_id=97 Accuracy=97.40: 100%|██████████| 98/98 [00:25<00:00,  3.81it/s]\n",
            "  0%|          | 0/98 [00:00<?, ?it/s]"
          ],
          "name": "stderr"
        },
        {
          "output_type": "stream",
          "text": [
            "\n",
            "Test set: Average loss: 0.3029, Test Accuracy: 9098/10000 (90.98%)\n",
            "\n",
            "EPOCH: 27 LR: 0.004056919642857142\n"
          ],
          "name": "stdout"
        },
        {
          "output_type": "stream",
          "text": [
            "Train set: Loss=0.06231857091188431 Batch_id=97 Accuracy=97.61: 100%|██████████| 98/98 [00:25<00:00,  3.78it/s]\n",
            "  0%|          | 0/98 [00:00<?, ?it/s]"
          ],
          "name": "stderr"
        },
        {
          "output_type": "stream",
          "text": [
            "\n",
            "Test set: Average loss: 0.3026, Test Accuracy: 9076/10000 (90.76%)\n",
            "\n",
            "EPOCH: 28 LR: 0.003510044642857143\n"
          ],
          "name": "stdout"
        },
        {
          "output_type": "stream",
          "text": [
            "Train set: Loss=0.0658104345202446 Batch_id=97 Accuracy=97.86: 100%|██████████| 98/98 [00:26<00:00,  3.72it/s]\n",
            "  0%|          | 0/98 [00:00<?, ?it/s]"
          ],
          "name": "stderr"
        },
        {
          "output_type": "stream",
          "text": [
            "\n",
            "Test set: Average loss: 0.2946, Test Accuracy: 9098/10000 (90.98%)\n",
            "\n",
            "EPOCH: 29 LR: 0.0029631696428571424\n"
          ],
          "name": "stdout"
        },
        {
          "output_type": "stream",
          "text": [
            "Train set: Loss=0.05923284962773323 Batch_id=97 Accuracy=98.06: 100%|██████████| 98/98 [00:26<00:00,  3.73it/s]\n",
            "  0%|          | 0/98 [00:00<?, ?it/s]"
          ],
          "name": "stderr"
        },
        {
          "output_type": "stream",
          "text": [
            "\n",
            "Test set: Average loss: 0.2990, Test Accuracy: 9087/10000 (90.87%)\n",
            "\n",
            "EPOCH: 30 LR: 0.002416294642857142\n"
          ],
          "name": "stdout"
        },
        {
          "output_type": "stream",
          "text": [
            "Train set: Loss=0.06998132914304733 Batch_id=97 Accuracy=98.12: 100%|██████████| 98/98 [00:25<00:00,  3.77it/s]\n"
          ],
          "name": "stderr"
        },
        {
          "output_type": "stream",
          "text": [
            "\n",
            "Test set: Average loss: 0.2955, Test Accuracy: 9100/10000 (91.00%)\n",
            "\n"
          ],
          "name": "stdout"
        }
      ]
    },
    {
      "cell_type": "code",
      "metadata": {
        "colab": {
          "base_uri": "https://localhost:8080/"
        },
        "id": "wjPFOgboo6ck",
        "outputId": "fd2b3ac5-d5ce-4c5e-bd40-39528b5b8b0f"
      },
      "source": [
        "new_train_acc,new_train_loss=useful_utils.modify_train_loss_accuracy_from_batch_level_to_epoch_level(train_acc,train_losses,trainloader)\n",
        "\n",
        "train_acc_mod=new_train_acc\n",
        "train_losses_mod=new_train_loss\n",
        "len(train_acc_mod),len(train_losses_mod),len(new_train_loss),len(Lr_track)"
      ],
      "execution_count": 24,
      "outputs": [
        {
          "output_type": "execute_result",
          "data": {
            "text/plain": [
              "(30, 30, 30, 30)"
            ]
          },
          "metadata": {
            "tags": []
          },
          "execution_count": 24
        }
      ]
    },
    {
      "cell_type": "code",
      "metadata": {
        "id": "uCqnDd5Lr7QP"
      },
      "source": [
        "import matplotlib.pyplot as plt\n",
        "def plot_lr_metric(lr_metric):\n",
        "    plt.figure(figsize=(7, 5))\n",
        "    plt.plot(lr_metric)\n",
        "    plt.title('Learning Rate')\n",
        "    plt.show()\n"
      ],
      "execution_count": 25,
      "outputs": []
    },
    {
      "cell_type": "code",
      "metadata": {
        "colab": {
          "base_uri": "https://localhost:8080/",
          "height": 610
        },
        "id": "vJREo3Os-nMi",
        "outputId": "cf9c17ef-d6cb-4918-f080-03d9eb13acf7"
      },
      "source": [
        "def plot_train_test_loss_accuracy(train_losses_mod,train_acc_mod,test_losses,test_acc):\n",
        "  import seaborn as sns\n",
        "  import matplotlib.pyplot as plt\n",
        "  sns.set()\n",
        "  plt.style.use(\"dark_background\")\n",
        "\n",
        "  fig, axs = plt.subplots(2,2,figsize=(15,10))\n",
        "  axs[0, 0].plot(train_losses_mod)\n",
        "  axs[0, 0].set_title(\"Training Loss\")\n",
        "  axs[1, 0].plot(train_acc_mod)\n",
        "  axs[1, 0].set_title(\"Training Accuracy\")\n",
        "  axs[0, 1].plot(test_losses)\n",
        "  axs[0, 1].set_title(\"Test Loss\")\n",
        "  axs[1, 1].plot(test_acc)\n",
        "  axs[1, 1].set_title(\"Test Accuracy\")\n",
        "  plt.show()\n",
        "\n",
        "plot_train_test_loss_accuracy(train_losses_mod,train_acc_mod,test_losses,test_acc)"
      ],
      "execution_count": 26,
      "outputs": [
        {
          "output_type": "display_data",
          "data": {
            "image/png": "[encoded data removed]",
            "text/plain": [
              "<Figure size 1080x720 with 4 Axes>"
            ]
          },
          "metadata": {
            "tags": []
          }
        }
      ]
    },
    {
      "cell_type": "code",
      "metadata": {
        "id": "q57Mls8H5YFz",
        "colab": {
          "base_uri": "https://localhost:8080/",
          "height": 337
        },
        "outputId": "0d016687-712f-4815-c2e3-c0e0eab321cc"
      },
      "source": [
        "\n",
        "plot_lr_metric(Lr_track)\n"
      ],
      "execution_count": 27,
      "outputs": [
        {
          "output_type": "display_data",
          "data": {
            "image/png": "[encoded data removed]",
            "text/plain": [
              "<Figure size 504x360 with 1 Axes>"
            ]
          },
          "metadata": {
            "tags": []
          }
        }
      ]
    },
    {
      "cell_type": "code",
      "metadata": {
        "id": "utDigT4p9vML"
      },
      "source": [
        "\n",
        "torch.save(model,'./data/cifar')\n"
      ],
      "execution_count": 28,
      "outputs": []
    },
    {
      "cell_type": "code",
      "metadata": {
        "colab": {
          "base_uri": "https://localhost:8080/"
        },
        "id": "hqSlNEl0usOQ",
        "outputId": "0d1ca20b-24f9-48d8-84d5-abaaca360471"
      },
      "source": [
        "#load the model\n",
        "model = torch.load('./data/cifar')\n",
        "model.eval()"
      ],
      "execution_count": 29,
      "outputs": [
        {
          "output_type": "execute_result",
          "data": {
            "text/plain": [
              "DAVIDNET(\n",
              "  (preplayer): Sequential(\n",
              "    (0): Conv2d(3, 64, kernel_size=(3, 3), stride=(1, 1), padding=(1, 1), bias=False)\n",
              "    (1): BatchNorm2d(64, eps=1e-05, momentum=0.1, affine=True, track_running_stats=True)\n",
              "    (2): ReLU()\n",
              "  )\n",
              "  (x1): Sequential(\n",
              "    (0): Conv2d(64, 128, kernel_size=(3, 3), stride=(1, 1), padding=(1, 1), bias=False)\n",
              "    (1): MaxPool2d(kernel_size=2, stride=2, padding=0, dilation=1, ceil_mode=False)\n",
              "    (2): BatchNorm2d(128, eps=1e-05, momentum=0.1, affine=True, track_running_stats=True)\n",
              "    (3): ReLU()\n",
              "  )\n",
              "  (R1): Sequential(\n",
              "    (0): Conv2d(128, 128, kernel_size=(3, 3), stride=(1, 1), padding=(1, 1), bias=False)\n",
              "    (1): BatchNorm2d(128, eps=1e-05, momentum=0.1, affine=True, track_running_stats=True)\n",
              "    (2): ReLU()\n",
              "    (3): Conv2d(128, 128, kernel_size=(3, 3), stride=(1, 1), padding=(1, 1), bias=False)\n",
              "    (4): BatchNorm2d(128, eps=1e-05, momentum=0.1, affine=True, track_running_stats=True)\n",
              "    (5): ReLU()\n",
              "  )\n",
              "  (layer2): Sequential(\n",
              "    (0): Conv2d(128, 256, kernel_size=(3, 3), stride=(1, 1), padding=(1, 1), bias=False)\n",
              "    (1): MaxPool2d(kernel_size=2, stride=2, padding=0, dilation=1, ceil_mode=False)\n",
              "    (2): BatchNorm2d(256, eps=1e-05, momentum=0.1, affine=True, track_running_stats=True)\n",
              "    (3): ReLU()\n",
              "  )\n",
              "  (x2): Sequential(\n",
              "    (0): Conv2d(256, 512, kernel_size=(3, 3), stride=(1, 1), padding=(1, 1), bias=False)\n",
              "    (1): MaxPool2d(kernel_size=2, stride=2, padding=0, dilation=1, ceil_mode=False)\n",
              "    (2): BatchNorm2d(512, eps=1e-05, momentum=0.1, affine=True, track_running_stats=True)\n",
              "    (3): ReLU()\n",
              "  )\n",
              "  (R2): Sequential(\n",
              "    (0): Conv2d(512, 512, kernel_size=(3, 3), stride=(1, 1), padding=(1, 1), bias=False)\n",
              "    (1): BatchNorm2d(512, eps=1e-05, momentum=0.1, affine=True, track_running_stats=True)\n",
              "    (2): ReLU()\n",
              "    (3): Conv2d(512, 512, kernel_size=(3, 3), stride=(1, 1), padding=(1, 1), bias=False)\n",
              "    (4): BatchNorm2d(512, eps=1e-05, momentum=0.1, affine=True, track_running_stats=True)\n",
              "    (5): ReLU()\n",
              "  )\n",
              "  (pool): MaxPool2d(kernel_size=4, stride=4, padding=0, dilation=1, ceil_mode=False)\n",
              "  (fc): Linear(in_features=512, out_features=10, bias=False)\n",
              ")"
            ]
          },
          "metadata": {
            "tags": []
          },
          "execution_count": 29
        }
      ]
    },
    {
      "cell_type": "code",
      "metadata": {
        "colab": {
          "base_uri": "https://localhost:8080/"
        },
        "id": "Qvi5MLkqziBU",
        "outputId": "b672628b-7467-4f86-be49-4241b04aa555"
      },
      "source": [
        "#GET PERCENTAGE ACCURACY FOR EACH CLASS      \n",
        "perClassResult.get_percent_acc_each_class(model,device,classes,testloader)"
      ],
      "execution_count": 30,
      "outputs": [
        {
          "output_type": "stream",
          "text": [
            "/usr/local/lib/python3.7/dist-packages/torch/utils/data/dataloader.py:477: UserWarning: This DataLoader will create 4 worker processes in total. Our suggested max number of worker in current system is 2, which is smaller than what this DataLoader is going to create. Please be aware that excessive worker creation might get DataLoader running slow or even freeze, lower the worker number to avoid potential slowness/freeze if necessary.\n",
            "  cpuset_checked))\n"
          ],
          "name": "stderr"
        },
        {
          "output_type": "stream",
          "text": [
            "Accuracy of plane : 100 %\n",
            "Accuracy of   car : 88 %\n",
            "Accuracy of  bird : 75 %\n",
            "Accuracy of   cat : 62 %\n",
            "Accuracy of  deer : 90 %\n",
            "Accuracy of   dog : 83 %\n",
            "Accuracy of  frog : 100 %\n",
            "Accuracy of horse : 100 %\n",
            "Accuracy of  ship : 100 %\n",
            "Accuracy of truck : 100 %\n"
          ],
          "name": "stdout"
        }
      ]
    },
    {
      "cell_type": "code",
      "metadata": {
        "colab": {
          "base_uri": "https://localhost:8080/",
          "height": 1000
        },
        "id": "zxt8Y2en_ccg",
        "outputId": "e8105944-0caf-4ea0-83a2-f47d3a45aa00"
      },
      "source": [
        "#Plot misclassified Image\n",
        "plot_misclassified_image.plot_misclassified(25, testloader, device,model,classes,mean,std,format='raw')"
      ],
      "execution_count": 31,
      "outputs": [
        {
          "output_type": "stream",
          "text": [
            "/usr/local/lib/python3.7/dist-packages/torch/utils/data/dataloader.py:477: UserWarning: This DataLoader will create 4 worker processes in total. Our suggested max number of worker in current system is 2, which is smaller than what this DataLoader is going to create. Please be aware that excessive worker creation might get DataLoader running slow or even freeze, lower the worker number to avoid potential slowness/freeze if necessary.\n",
            "  cpuset_checked))\n",
            "Clipping input data to the valid range for imshow with RGB data ([0..1] for floats or [0..255] for integers).\n",
            "Clipping input data to the valid range for imshow with RGB data ([0..1] for floats or [0..255] for integers).\n",
            "Clipping input data to the valid range for imshow with RGB data ([0..1] for floats or [0..255] for integers).\n",
            "Clipping input data to the valid range for imshow with RGB data ([0..1] for floats or [0..255] for integers).\n",
            "Clipping input data to the valid range for imshow with RGB data ([0..1] for floats or [0..255] for integers).\n",
            "Clipping input data to the valid range for imshow with RGB data ([0..1] for floats or [0..255] for integers).\n",
            "Clipping input data to the valid range for imshow with RGB data ([0..1] for floats or [0..255] for integers).\n",
            "Clipping input data to the valid range for imshow with RGB data ([0..1] for floats or [0..255] for integers).\n",
            "Clipping input data to the valid range for imshow with RGB data ([0..1] for floats or [0..255] for integers).\n",
            "Clipping input data to the valid range for imshow with RGB data ([0..1] for floats or [0..255] for integers).\n",
            "Clipping input data to the valid range for imshow with RGB data ([0..1] for floats or [0..255] for integers).\n",
            "Clipping input data to the valid range for imshow with RGB data ([0..1] for floats or [0..255] for integers).\n",
            "Clipping input data to the valid range for imshow with RGB data ([0..1] for floats or [0..255] for integers).\n",
            "Clipping input data to the valid range for imshow with RGB data ([0..1] for floats or [0..255] for integers).\n",
            "Clipping input data to the valid range for imshow with RGB data ([0..1] for floats or [0..255] for integers).\n",
            "Clipping input data to the valid range for imshow with RGB data ([0..1] for floats or [0..255] for integers).\n"
          ],
          "name": "stderr"
        },
        {
          "output_type": "display_data",
          "data": {
            "image/png": "[encoded data removed]",
            "text/plain": [
              "<Figure size 720x1080 with 25 Axes>"
            ]
          },
          "metadata": {
            "tags": []
          }
        }
      ]
    },
    {
      "cell_type": "code",
      "metadata": {
        "id": "3-oFIAmg674d"
      },
      "source": [
        "## GRAD CAM \n"
      ],
      "execution_count": 32,
      "outputs": []
    },
    {
      "cell_type": "code",
      "metadata": {
        "id": "gQf1d0mvfHIh"
      },
      "source": [
        "#GRAD CAM for user defined images\n",
        "# path='/content/SWAG_DNN/img'\n",
        "# import PIL\n",
        "# img_name =[path+'/dog.jpg',path+'/snake.jpg']\n",
        "# gradcam.grad_cam_for_user_defined_images(img_name,device,mean,std,model)"
      ],
      "execution_count": 33,
      "outputs": []
    },
    {
      "cell_type": "code",
      "metadata": {
        "id": "4hdg6EW1Wtlw"
      },
      "source": [
        "# missed_images, predicted, actual = plot_misclassified_image.get_misclassified(model,testloader,device)\n",
        "\n",
        "# #lets see gradcam of  4 misclassified images \n",
        "# gradcam.show_gradcam_for_n_images_only_result(25,missed_images,predicted,actual,classes,model,device,mean,std)"
      ],
      "execution_count": 34,
      "outputs": []
    },
    {
      "cell_type": "code",
      "metadata": {
        "id": "8i-Jggitnroi"
      },
      "source": [
        "# proper_images, predicted, actual = plot_misclassified_image.get_properclassified(model,testloader,device)\n",
        "\n",
        "# #lets see gradcam of  4 misclassified images \n",
        "# gradcam.show_gradcam_for_n_images(4,proper_images,predicted,actual,classes,model,device,mean,std)"
      ],
      "execution_count": 35,
      "outputs": []
    },
    {
      "cell_type": "code",
      "metadata": {
        "id": "nDzGG3P6amNW"
      },
      "source": [
        ""
      ],
      "execution_count": 35,
      "outputs": []
    }
  ]
}