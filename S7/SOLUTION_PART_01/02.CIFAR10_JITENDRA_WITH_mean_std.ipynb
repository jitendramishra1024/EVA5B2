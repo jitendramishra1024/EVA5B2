{
  "nbformat": 4,
  "nbformat_minor": 0,
  "metadata": {
    "colab": {
      "name": "CIFAR10_JITENDRA_WITH_mean_std.ipynb",
      "provenance": [],
      "collapsed_sections": []
    },
    "kernelspec": {
      "name": "python3",
      "display_name": "Python 3"
    },
    "accelerator": "GPU",
    "widgets": {
      "application/vnd.jupyter.widget-state+json": {
        "96dbcff4abe74b239ed831431945f064": {
          "model_module": "@jupyter-widgets/controls",
          "model_name": "HBoxModel",
          "state": {
            "_view_name": "HBoxView",
            "_dom_classes": [],
            "_model_name": "HBoxModel",
            "_view_module": "@jupyter-widgets/controls",
            "_model_module_version": "1.5.0",
            "_view_count": null,
            "_view_module_version": "1.5.0",
            "box_style": "",
            "layout": "IPY_MODEL_433db8d6c2874d1784e870387377e898",
            "_model_module": "@jupyter-widgets/controls",
            "children": [
              "IPY_MODEL_84a3619f26b24ff198dc51df05253e3d",
              "IPY_MODEL_3bbdf425307040598b36077247a5c10a"
            ]
          }
        },
        "433db8d6c2874d1784e870387377e898": {
          "model_module": "@jupyter-widgets/base",
          "model_name": "LayoutModel",
          "state": {
            "_view_name": "LayoutView",
            "grid_template_rows": null,
            "right": null,
            "justify_content": null,
            "_view_module": "@jupyter-widgets/base",
            "overflow": null,
            "_model_module_version": "1.2.0",
            "_view_count": null,
            "flex_flow": null,
            "width": null,
            "min_width": null,
            "border": null,
            "align_items": null,
            "bottom": null,
            "_model_module": "@jupyter-widgets/base",
            "top": null,
            "grid_column": null,
            "overflow_y": null,
            "overflow_x": null,
            "grid_auto_flow": null,
            "grid_area": null,
            "grid_template_columns": null,
            "flex": null,
            "_model_name": "LayoutModel",
            "justify_items": null,
            "grid_row": null,
            "max_height": null,
            "align_content": null,
            "visibility": null,
            "align_self": null,
            "height": null,
            "min_height": null,
            "padding": null,
            "grid_auto_rows": null,
            "grid_gap": null,
            "max_width": null,
            "order": null,
            "_view_module_version": "1.2.0",
            "grid_template_areas": null,
            "object_position": null,
            "object_fit": null,
            "grid_auto_columns": null,
            "margin": null,
            "display": null,
            "left": null
          }
        },
        "84a3619f26b24ff198dc51df05253e3d": {
          "model_module": "@jupyter-widgets/controls",
          "model_name": "FloatProgressModel",
          "state": {
            "_view_name": "ProgressView",
            "style": "IPY_MODEL_16b4bb4f59d04dcda2c2006302f83de9",
            "_dom_classes": [],
            "description": "",
            "_model_name": "FloatProgressModel",
            "bar_style": "success",
            "max": 170498071,
            "_view_module": "@jupyter-widgets/controls",
            "_model_module_version": "1.5.0",
            "value": 170498071,
            "_view_count": null,
            "_view_module_version": "1.5.0",
            "orientation": "horizontal",
            "min": 0,
            "description_tooltip": null,
            "_model_module": "@jupyter-widgets/controls",
            "layout": "IPY_MODEL_ee3100e3258c484d80355dabfb571521"
          }
        },
        "3bbdf425307040598b36077247a5c10a": {
          "model_module": "@jupyter-widgets/controls",
          "model_name": "HTMLModel",
          "state": {
            "_view_name": "HTMLView",
            "style": "IPY_MODEL_474ee5e6611645efaf3e38e03289a399",
            "_dom_classes": [],
            "description": "",
            "_model_name": "HTMLModel",
            "placeholder": "​",
            "_view_module": "@jupyter-widgets/controls",
            "_model_module_version": "1.5.0",
            "value": " 170499072/? [00:18&lt;00:00, 9049478.05it/s]",
            "_view_count": null,
            "_view_module_version": "1.5.0",
            "description_tooltip": null,
            "_model_module": "@jupyter-widgets/controls",
            "layout": "IPY_MODEL_c5dce63eac5c4626a5f6cd00de0c8832"
          }
        },
        "16b4bb4f59d04dcda2c2006302f83de9": {
          "model_module": "@jupyter-widgets/controls",
          "model_name": "ProgressStyleModel",
          "state": {
            "_view_name": "StyleView",
            "_model_name": "ProgressStyleModel",
            "description_width": "initial",
            "_view_module": "@jupyter-widgets/base",
            "_model_module_version": "1.5.0",
            "_view_count": null,
            "_view_module_version": "1.2.0",
            "bar_color": null,
            "_model_module": "@jupyter-widgets/controls"
          }
        },
        "ee3100e3258c484d80355dabfb571521": {
          "model_module": "@jupyter-widgets/base",
          "model_name": "LayoutModel",
          "state": {
            "_view_name": "LayoutView",
            "grid_template_rows": null,
            "right": null,
            "justify_content": null,
            "_view_module": "@jupyter-widgets/base",
            "overflow": null,
            "_model_module_version": "1.2.0",
            "_view_count": null,
            "flex_flow": null,
            "width": null,
            "min_width": null,
            "border": null,
            "align_items": null,
            "bottom": null,
            "_model_module": "@jupyter-widgets/base",
            "top": null,
            "grid_column": null,
            "overflow_y": null,
            "overflow_x": null,
            "grid_auto_flow": null,
            "grid_area": null,
            "grid_template_columns": null,
            "flex": null,
            "_model_name": "LayoutModel",
            "justify_items": null,
            "grid_row": null,
            "max_height": null,
            "align_content": null,
            "visibility": null,
            "align_self": null,
            "height": null,
            "min_height": null,
            "padding": null,
            "grid_auto_rows": null,
            "grid_gap": null,
            "max_width": null,
            "order": null,
            "_view_module_version": "1.2.0",
            "grid_template_areas": null,
            "object_position": null,
            "object_fit": null,
            "grid_auto_columns": null,
            "margin": null,
            "display": null,
            "left": null
          }
        },
        "474ee5e6611645efaf3e38e03289a399": {
          "model_module": "@jupyter-widgets/controls",
          "model_name": "DescriptionStyleModel",
          "state": {
            "_view_name": "StyleView",
            "_model_name": "DescriptionStyleModel",
            "description_width": "",
            "_view_module": "@jupyter-widgets/base",
            "_model_module_version": "1.5.0",
            "_view_count": null,
            "_view_module_version": "1.2.0",
            "_model_module": "@jupyter-widgets/controls"
          }
        },
        "c5dce63eac5c4626a5f6cd00de0c8832": {
          "model_module": "@jupyter-widgets/base",
          "model_name": "LayoutModel",
          "state": {
            "_view_name": "LayoutView",
            "grid_template_rows": null,
            "right": null,
            "justify_content": null,
            "_view_module": "@jupyter-widgets/base",
            "overflow": null,
            "_model_module_version": "1.2.0",
            "_view_count": null,
            "flex_flow": null,
            "width": null,
            "min_width": null,
            "border": null,
            "align_items": null,
            "bottom": null,
            "_model_module": "@jupyter-widgets/base",
            "top": null,
            "grid_column": null,
            "overflow_y": null,
            "overflow_x": null,
            "grid_auto_flow": null,
            "grid_area": null,
            "grid_template_columns": null,
            "flex": null,
            "_model_name": "LayoutModel",
            "justify_items": null,
            "grid_row": null,
            "max_height": null,
            "align_content": null,
            "visibility": null,
            "align_self": null,
            "height": null,
            "min_height": null,
            "padding": null,
            "grid_auto_rows": null,
            "grid_gap": null,
            "max_width": null,
            "order": null,
            "_view_module_version": "1.2.0",
            "grid_template_areas": null,
            "object_position": null,
            "object_fit": null,
            "grid_auto_columns": null,
            "margin": null,
            "display": null,
            "left": null
          }
        }
      }
    }
  },
  "cells": [
    {
      "cell_type": "code",
      "metadata": {
        "id": "LjMjY6OFzMfq"
      },
      "source": [
        " #LETS WORK WITH CIFAR 10 DATA "
      ],
      "execution_count": 1,
      "outputs": []
    },
    {
      "cell_type": "code",
      "metadata": {
        "colab": {
          "base_uri": "https://localhost:8080/"
        },
        "id": "3Bcx3UzXMWp6",
        "outputId": "46db77bc-f7c9-49d7-c653-aa3955bd93f2"
      },
      "source": [
        "from google.colab import drive\r\n",
        "drive.mount('/content/drive')"
      ],
      "execution_count": 2,
      "outputs": [
        {
          "output_type": "stream",
          "text": [
            "Mounted at /content/drive\n"
          ],
          "name": "stdout"
        }
      ]
    },
    {
      "cell_type": "code",
      "metadata": {
        "colab": {
          "base_uri": "https://localhost:8080/"
        },
        "id": "iRNwgrNdMwtz",
        "outputId": "c3017505-4a5f-4f58-eeac-6d71398c833f"
      },
      "source": [
        "!nvidia-smi"
      ],
      "execution_count": 3,
      "outputs": [
        {
          "output_type": "stream",
          "text": [
            "Sat Mar 13 13:22:22 2021       \n",
            "+-----------------------------------------------------------------------------+\n",
            "| NVIDIA-SMI 460.56       Driver Version: 460.32.03    CUDA Version: 11.2     |\n",
            "|-------------------------------+----------------------+----------------------+\n",
            "| GPU  Name        Persistence-M| Bus-Id        Disp.A | Volatile Uncorr. ECC |\n",
            "| Fan  Temp  Perf  Pwr:Usage/Cap|         Memory-Usage | GPU-Util  Compute M. |\n",
            "|                               |                      |               MIG M. |\n",
            "|===============================+======================+======================|\n",
            "|   0  Tesla K80           Off  | 00000000:00:04.0 Off |                    0 |\n",
            "| N/A   73C    P8    35W / 149W |      0MiB / 11441MiB |      0%      Default |\n",
            "|                               |                      |                  N/A |\n",
            "+-------------------------------+----------------------+----------------------+\n",
            "                                                                               \n",
            "+-----------------------------------------------------------------------------+\n",
            "| Processes:                                                                  |\n",
            "|  GPU   GI   CI        PID   Type   Process name                  GPU Memory |\n",
            "|        ID   ID                                                   Usage      |\n",
            "|=============================================================================|\n",
            "|  No running processes found                                                 |\n",
            "+-----------------------------------------------------------------------------+\n"
          ],
          "name": "stdout"
        }
      ]
    },
    {
      "cell_type": "code",
      "metadata": {
        "colab": {
          "base_uri": "https://localhost:8080/"
        },
        "id": "F8O0l1WFNhQ8",
        "outputId": "5a1abd41-f22a-431e-9347-cbae8cc61627"
      },
      "source": [
        "!cat /proc/meminfo"
      ],
      "execution_count": 4,
      "outputs": [
        {
          "output_type": "stream",
          "text": [
            "MemTotal:       13333568 kB\n",
            "MemFree:        10574272 kB\n",
            "MemAvailable:   12461572 kB\n",
            "Buffers:           85848 kB\n",
            "Cached:          1944976 kB\n",
            "SwapCached:            0 kB\n",
            "Active:           993492 kB\n",
            "Inactive:        1450804 kB\n",
            "Active(anon):     382100 kB\n",
            "Inactive(anon):      364 kB\n",
            "Active(file):     611392 kB\n",
            "Inactive(file):  1450440 kB\n",
            "Unevictable:           0 kB\n",
            "Mlocked:               0 kB\n",
            "SwapTotal:             0 kB\n",
            "SwapFree:              0 kB\n",
            "Dirty:              3568 kB\n",
            "Writeback:             0 kB\n",
            "AnonPages:        413688 kB\n",
            "Mapped:           244056 kB\n",
            "Shmem:              1012 kB\n",
            "Slab:             177816 kB\n",
            "SReclaimable:     132504 kB\n",
            "SUnreclaim:        45312 kB\n",
            "KernelStack:        4688 kB\n",
            "PageTables:         5988 kB\n",
            "NFS_Unstable:          0 kB\n",
            "Bounce:                0 kB\n",
            "WritebackTmp:          0 kB\n",
            "CommitLimit:     6666784 kB\n",
            "Committed_AS:    3210768 kB\n",
            "VmallocTotal:   34359738367 kB\n",
            "VmallocUsed:           0 kB\n",
            "VmallocChunk:          0 kB\n",
            "Percpu:             1040 kB\n",
            "AnonHugePages:         0 kB\n",
            "ShmemHugePages:        0 kB\n",
            "ShmemPmdMapped:        0 kB\n",
            "HugePages_Total:       0\n",
            "HugePages_Free:        0\n",
            "HugePages_Rsvd:        0\n",
            "HugePages_Surp:        0\n",
            "Hugepagesize:       2048 kB\n",
            "Hugetlb:               0 kB\n",
            "DirectMap4k:      134348 kB\n",
            "DirectMap2M:     4059136 kB\n",
            "DirectMap1G:    11534336 kB\n"
          ],
          "name": "stdout"
        }
      ]
    },
    {
      "cell_type": "markdown",
      "metadata": {
        "id": "O_uYQHKAzQJ0"
      },
      "source": [
        "#ABOUT CIFAR 10 \r\n",
        "\r\n",
        "It has the classes: ‘airplane’, ‘automobile’, ‘bird’, ‘cat’, ‘deer’, ‘dog’, ‘frog’, ‘horse’, ‘ship’, ‘truck’. The images in CIFAR-10 are of size 3x32x32, i.e. 3-channel color images of 32x32 pixels in size.\r\n",
        "\r\n",
        "#How to get Images \r\n",
        "\r\n",
        " we have  a package called torchvision, that has data loaders for common datasets such as Imagenet, CIFAR10, MNIST, etc. and data transformers for images, viz., torchvision.datasets and torch.utils.data.DataLoader.\r\n",
        "\r\n",
        " "
      ]
    },
    {
      "cell_type": "markdown",
      "metadata": {
        "id": "pTNxewmy0NTK"
      },
      "source": [
        ""
      ]
    },
    {
      "cell_type": "code",
      "metadata": {
        "id": "yYslfljp0Kqo"
      },
      "source": [
        "#STEP 1 : LOAD CIFAR 10 DATA\r\n"
      ],
      "execution_count": 5,
      "outputs": []
    },
    {
      "cell_type": "code",
      "metadata": {
        "id": "lZnINUY_0pIL"
      },
      "source": [
        "#SECTION1 REQUIRED LIBRARY \r\n",
        "import torch\r\n",
        "import torch.nn as nn\r\n",
        "import torch.nn.functional as F\r\n",
        "import torch.optim as optim\r\n",
        "from torchvision import datasets, transforms\r\n",
        "import numpy as np\r\n",
        "import torchvision\r\n"
      ],
      "execution_count": 6,
      "outputs": []
    },
    {
      "cell_type": "code",
      "metadata": {
        "id": "TQNY01MJ1The"
      },
      "source": [
        "#DOWNLOAD THE IMAGES \r\n",
        "\r\n",
        "class Args:\r\n",
        "\r\n",
        "    # Data Loading\r\n",
        "    # ============\r\n",
        "\r\n",
        "    train_batch_size = 64\r\n",
        "    val_batch_size = 64\r\n",
        "    batch_size=128\r\n",
        "    num_workers = 4\r\n",
        "\r\n",
        "    # Regularization\r\n",
        "    # ==============\r\n",
        "    dropout = 0.1\r\n",
        "    dropout = 0\r\n",
        "\r\n",
        "    # Training\r\n",
        "    # ========\r\n",
        "    random_seed = 1\r\n",
        "    epochs = 50\r\n",
        "    learning_rate = 0.01\r\n",
        "    momentum = 0.9\r\n"
      ],
      "execution_count": 7,
      "outputs": []
    },
    {
      "cell_type": "code",
      "metadata": {
        "id": "AZga8DmFJuhU",
        "colab": {
          "base_uri": "https://localhost:8080/",
          "height": 100,
          "referenced_widgets": [
            "96dbcff4abe74b239ed831431945f064",
            "433db8d6c2874d1784e870387377e898",
            "84a3619f26b24ff198dc51df05253e3d",
            "3bbdf425307040598b36077247a5c10a",
            "16b4bb4f59d04dcda2c2006302f83de9",
            "ee3100e3258c484d80355dabfb571521",
            "474ee5e6611645efaf3e38e03289a399",
            "c5dce63eac5c4626a5f6cd00de0c8832"
          ]
        },
        "outputId": "b4868ad9-61f6-4e74-ea8e-a431dbd49e5f"
      },
      "source": [
        "import torchvision.transforms as transforms\r\n",
        "def calculate_mean_std(dataset):\r\n",
        "  loader = torch.utils.data.DataLoader(dataset,\r\n",
        "                          batch_size=128,\r\n",
        "                          num_workers=0,\r\n",
        "                          shuffle=False)\r\n",
        "\r\n",
        "  mean = 0.\r\n",
        "  std = 0.\r\n",
        "  for images, _ in loader:\r\n",
        "      batch_samples = images.size(0) # batch size (the last batch can have smaller size!)\r\n",
        "      images = images.view(batch_samples, images.size(1), -1)\r\n",
        "      mean += images.mean(2).sum(0)\r\n",
        "      std += images.std(2).sum(0)\r\n",
        "\r\n",
        "  mean /= len(loader.dataset)\r\n",
        "  std /= len(loader.dataset)\r\n",
        "  mean=mean.tolist()\r\n",
        "  std=std.tolist()\r\n",
        "  return mean,std \r\n",
        "trainset = torchvision.datasets.CIFAR10(root='./data',download=True,transform=transforms.ToTensor())\r\n",
        "mean,std = calculate_mean_std(trainset)\r\n",
        "\r\n"
      ],
      "execution_count": 8,
      "outputs": [
        {
          "output_type": "stream",
          "text": [
            "Downloading https://www.cs.toronto.edu/~kriz/cifar-10-python.tar.gz to ./data/cifar-10-python.tar.gz\n"
          ],
          "name": "stdout"
        },
        {
          "output_type": "display_data",
          "data": {
            "application/vnd.jupyter.widget-view+json": {
              "model_id": "96dbcff4abe74b239ed831431945f064",
              "version_minor": 0,
              "version_major": 2
            },
            "text/plain": [
              "HBox(children=(FloatProgress(value=0.0, max=170498071.0), HTML(value='')))"
            ]
          },
          "metadata": {
            "tags": []
          }
        },
        {
          "output_type": "stream",
          "text": [
            "\n",
            "Extracting ./data/cifar-10-python.tar.gz to ./data\n"
          ],
          "name": "stdout"
        }
      ]
    },
    {
      "cell_type": "code",
      "metadata": {
        "id": "plq_uU4vmkj2"
      },
      "source": [
        "# mean =[0.5,0.5,0.5]\r\n",
        "# std =[0.5,0.5,0.5]"
      ],
      "execution_count": 9,
      "outputs": []
    },
    {
      "cell_type": "code",
      "metadata": {
        "colab": {
          "base_uri": "https://localhost:8080/"
        },
        "id": "eO9OJweR2x7A",
        "outputId": "963c17f0-61ee-44e6-d47a-6635855dea67"
      },
      "source": [
        "import torch\r\n",
        "import torchvision\r\n",
        "import torchvision.transforms as transforms\r\n",
        "\r\n",
        "\r\n",
        "train_transform = transforms.Compose(\r\n",
        "[transforms.ToTensor(),\r\n",
        "transforms.Normalize(mean, std)\r\n",
        "])\r\n",
        "test_transform = transforms.Compose(\r\n",
        "[transforms.ToTensor(),\r\n",
        "transforms.Normalize(mean, std)\r\n",
        "])\r\n",
        "\r\n",
        "train = torchvision.datasets.CIFAR10('./data', train=True, download=True, transform=train_transform)\r\n",
        "test = torchvision.datasets.CIFAR10('./data', train=False, download=True, transform=test_transform)\r\n",
        "SEED = 1\r\n",
        "# CUDA?\r\n",
        "cuda = torch.cuda.is_available()\r\n",
        "print(\"CUDA Available?\", cuda)\r\n",
        "# For reproducibility\r\n",
        "torch.manual_seed(SEED)\r\n",
        "if cuda:\r\n",
        "    torch.cuda.manual_seed(SEED)\r\n",
        "# dataloader arguments - something you'll fetch these from cmdprmt\r\n",
        "dataloader_args = dict(shuffle=True, batch_size=Args.batch_size, num_workers=Args.num_workers, pin_memory=True) if cuda else dict(shuffle=True, batch_size=Args.batch_size)\r\n",
        "# train dataloader\r\n",
        "trainloader = torch.utils.data.DataLoader(train, **dataloader_args)\r\n",
        "# test dataloader\r\n",
        "testloader = torch.utils.data.DataLoader(test, **dataloader_args)\r\n",
        "\r\n",
        "################\r\n",
        "\r\n",
        "classes = ('plane', 'car', 'bird', 'cat',\r\n",
        "           'deer', 'dog', 'frog', 'horse', 'ship', 'truck')"
      ],
      "execution_count": 10,
      "outputs": [
        {
          "output_type": "stream",
          "text": [
            "Files already downloaded and verified\n",
            "Files already downloaded and verified\n",
            "CUDA Available? True\n"
          ],
          "name": "stdout"
        },
        {
          "output_type": "stream",
          "text": [
            "/usr/local/lib/python3.7/dist-packages/torch/utils/data/dataloader.py:477: UserWarning: This DataLoader will create 4 worker processes in total. Our suggested max number of worker in current system is 2, which is smaller than what this DataLoader is going to create. Please be aware that excessive worker creation might get DataLoader running slow or even freeze, lower the worker number to avoid potential slowness/freeze if necessary.\n",
            "  cpuset_checked))\n"
          ],
          "name": "stderr"
        }
      ]
    },
    {
      "cell_type": "code",
      "metadata": {
        "id": "2AF9jFAtkcBQ"
      },
      "source": [
        ""
      ],
      "execution_count": 10,
      "outputs": []
    },
    {
      "cell_type": "code",
      "metadata": {
        "colab": {
          "base_uri": "https://localhost:8080/",
          "height": 926
        },
        "id": "PjeQHNYQ3jOg",
        "outputId": "dfa0f9de-212c-4a4d-efaa-c129f3090cab"
      },
      "source": [
        "import math \r\n",
        "import matplotlib.pyplot as plt\r\n",
        "import numpy as np\r\n",
        "\r\n",
        "def plot_n_image(number,trainloader,classes,mean,std,format):\r\n",
        "    # get some random training images\r\n",
        "    dataiter = iter(trainloader)\r\n",
        "    images, labels = dataiter.next()\r\n",
        "    nrows = math.floor(math.sqrt(number))\r\n",
        "    ncols = math.ceil(math.sqrt(number))\r\n",
        "\r\n",
        "    fig, ax = plt.subplots(nrows, ncols, figsize=(10, 15))\r\n",
        "\r\n",
        "    for i in range(nrows):\r\n",
        "        for j in range(ncols):\r\n",
        "            index = i * ncols + j\r\n",
        "            ax[i, j].axis(\"off\")\r\n",
        "            ax[i, j].set_title(classes[labels[index]])\r\n",
        "            #FIRST UNNORMALIZE THEN SHOW \r\n",
        "            mean = np.array(mean)\r\n",
        "            std = np.array(std)\r\n",
        "            if format=='raw':\r\n",
        "              ax[i, j].imshow(np.transpose(images[index].cpu().numpy(), (1, 2, 0))*std+mean, cmap=\"gray_r\")\r\n",
        "            elif format=='normalized':\r\n",
        "              ax[i, j].imshow(np.transpose(images[index].cpu().numpy(), (1, 2, 0)), cmap=\"gray_r\")\r\n",
        "    \r\n",
        "\r\n",
        "plot_n_image(9,trainloader,classes,mean,std,format='raw')"
      ],
      "execution_count": 11,
      "outputs": [
        {
          "output_type": "stream",
          "text": [
            "/usr/local/lib/python3.7/dist-packages/torch/utils/data/dataloader.py:477: UserWarning: This DataLoader will create 4 worker processes in total. Our suggested max number of worker in current system is 2, which is smaller than what this DataLoader is going to create. Please be aware that excessive worker creation might get DataLoader running slow or even freeze, lower the worker number to avoid potential slowness/freeze if necessary.\n",
            "  cpuset_checked))\n",
            "Clipping input data to the valid range for imshow with RGB data ([0..1] for floats or [0..255] for integers).\n",
            "Clipping input data to the valid range for imshow with RGB data ([0..1] for floats or [0..255] for integers).\n",
            "Clipping input data to the valid range for imshow with RGB data ([0..1] for floats or [0..255] for integers).\n",
            "Clipping input data to the valid range for imshow with RGB data ([0..1] for floats or [0..255] for integers).\n",
            "Clipping input data to the valid range for imshow with RGB data ([0..1] for floats or [0..255] for integers).\n"
          ],
          "name": "stderr"
        },
        {
          "output_type": "display_data",
          "data": {
            "image/png": "[encoded data removed]",
            "text/plain": [
              "<Figure size 720x1080 with 9 Axes>"
            ]
          },
          "metadata": {
            "tags": [],
            "needs_background": "light"
          }
        }
      ]
    },
    {
      "cell_type": "code",
      "metadata": {
        "id": "CB9MWZu8tcWu",
        "colab": {
          "base_uri": "https://localhost:8080/",
          "height": 994
        },
        "outputId": "0a9452fa-ef2e-4ef8-bc27-38a70419bbd7"
      },
      "source": [
        "#PLOT A BATCH OF NORMALIZED IMAGE \r\n",
        "plot_n_image(9,trainloader,classes,mean,std,format='normalized')"
      ],
      "execution_count": 12,
      "outputs": [
        {
          "output_type": "stream",
          "text": [
            "/usr/local/lib/python3.7/dist-packages/torch/utils/data/dataloader.py:477: UserWarning: This DataLoader will create 4 worker processes in total. Our suggested max number of worker in current system is 2, which is smaller than what this DataLoader is going to create. Please be aware that excessive worker creation might get DataLoader running slow or even freeze, lower the worker number to avoid potential slowness/freeze if necessary.\n",
            "  cpuset_checked))\n",
            "Clipping input data to the valid range for imshow with RGB data ([0..1] for floats or [0..255] for integers).\n",
            "Clipping input data to the valid range for imshow with RGB data ([0..1] for floats or [0..255] for integers).\n",
            "Clipping input data to the valid range for imshow with RGB data ([0..1] for floats or [0..255] for integers).\n",
            "Clipping input data to the valid range for imshow with RGB data ([0..1] for floats or [0..255] for integers).\n",
            "Clipping input data to the valid range for imshow with RGB data ([0..1] for floats or [0..255] for integers).\n",
            "Clipping input data to the valid range for imshow with RGB data ([0..1] for floats or [0..255] for integers).\n",
            "Clipping input data to the valid range for imshow with RGB data ([0..1] for floats or [0..255] for integers).\n",
            "Clipping input data to the valid range for imshow with RGB data ([0..1] for floats or [0..255] for integers).\n",
            "Clipping input data to the valid range for imshow with RGB data ([0..1] for floats or [0..255] for integers).\n"
          ],
          "name": "stderr"
        },
        {
          "output_type": "display_data",
          "data": {
            "image/png": "[encoded data removed]",
            "text/plain": [
              "<Figure size 720x1080 with 9 Axes>"
            ]
          },
          "metadata": {
            "tags": [],
            "needs_background": "light"
          }
        }
      ]
    },
    {
      "cell_type": "code",
      "metadata": {
        "colab": {
          "base_uri": "https://localhost:8080/"
        },
        "id": "f1dIUPrwBPbi",
        "outputId": "8041bde1-6c3d-4285-ddd3-5fae182d3948"
      },
      "source": [
        "from torchvision.datasets import CIFAR10\r\n",
        "from torchvision.transforms import ToTensor\r\n",
        "dataset = CIFAR10(root='data/', download=True, transform=ToTensor())\r\n",
        "class_count = {}\r\n",
        "for _, index in dataset:\r\n",
        "    label = classes[index]\r\n",
        "    if label not in class_count:\r\n",
        "        class_count[label] = 0\r\n",
        "    class_count[label] += 1\r\n",
        "class_count"
      ],
      "execution_count": 13,
      "outputs": [
        {
          "output_type": "stream",
          "text": [
            "Files already downloaded and verified\n"
          ],
          "name": "stdout"
        },
        {
          "output_type": "execute_result",
          "data": {
            "text/plain": [
              "{'bird': 5000,\n",
              " 'car': 5000,\n",
              " 'cat': 5000,\n",
              " 'deer': 5000,\n",
              " 'dog': 5000,\n",
              " 'frog': 5000,\n",
              " 'horse': 5000,\n",
              " 'plane': 5000,\n",
              " 'ship': 5000,\n",
              " 'truck': 5000}"
            ]
          },
          "metadata": {
            "tags": []
          },
          "execution_count": 13
        }
      ]
    },
    {
      "cell_type": "markdown",
      "metadata": {
        "id": "RbpXjgW-YTlM"
      },
      "source": [
        ""
      ]
    },
    {
      "cell_type": "code",
      "metadata": {
        "id": "OH_jHH170UqL"
      },
      "source": [
        "class Net(nn.Module):\r\n",
        "\r\n",
        "    def __init__(self):\r\n",
        "        \"\"\" This function instantiates all the model layers \"\"\"\r\n",
        "\r\n",
        "        super(Net, self).__init__()\r\n",
        "        dropout_rate=0\r\n",
        "        self.convblock1 = nn.Sequential(\r\n",
        "            # Input: 32x32x3 | Output: 32x32x32 | RF: 3x3\r\n",
        "            nn.Conv2d(in_channels=3, out_channels=32, kernel_size=3, padding=1),  \r\n",
        "            nn.ReLU(),\r\n",
        "            nn.BatchNorm2d(32),\r\n",
        "            nn.Dropout(dropout_rate),\r\n",
        "\r\n",
        "            # Input: 32x32x32 | Output: 32x32x64 | RF: 5x5\r\n",
        "            nn.Conv2d(in_channels=32, out_channels=64, kernel_size=3, padding=1),\r\n",
        "            nn.ReLU(),\r\n",
        "            nn.BatchNorm2d(64),\r\n",
        "            nn.Dropout(dropout_rate)\r\n",
        "        )\r\n",
        "\r\n",
        "        self.transblock1 = nn.Sequential(\r\n",
        "            # Input: 32x32x64 | Output: 16x16x64 | RF: 6x6\r\n",
        "            nn.MaxPool2d(2, 2),  \r\n",
        "            # Input: 16x16x64 | Output: 16x16x32 | RF: 6x6\r\n",
        "            nn.Conv2d(in_channels=64, out_channels=32, kernel_size=1)  \r\n",
        "        )\r\n",
        "\r\n",
        "        self.convblock2 = nn.Sequential(\r\n",
        "            # Input: 16x16x32 | Output: 16x16x32 | RF: 10x10\r\n",
        "            nn.Conv2d(in_channels=32, out_channels=32, kernel_size=3, padding=1),  \r\n",
        "            nn.ReLU(),\r\n",
        "            nn.BatchNorm2d(32),\r\n",
        "            nn.Dropout(dropout_rate),\r\n",
        "\r\n",
        "            # Input: 16x16x32 | Output: 16x16x64 | RF: 14x14\r\n",
        "            nn.Conv2d(in_channels=32, out_channels=64, kernel_size=3, padding=1), \r\n",
        "            nn.ReLU(),\r\n",
        "            nn.BatchNorm2d(64),\r\n",
        "            nn.Dropout(dropout_rate)\r\n",
        "        )\r\n",
        "\r\n",
        "        self.transblock2 = nn.Sequential(\r\n",
        "            # Input: 16x16x64 | Output: 8x8x64 | RF: 16x16\r\n",
        "            nn.MaxPool2d(2, 2),  \r\n",
        "            # Input: 8x8x64 | Output: 8x8x32 | RF: 16x16\r\n",
        "            nn.Conv2d(in_channels=64, out_channels=32, kernel_size=1)  \r\n",
        "        )\r\n",
        "\r\n",
        "        self.convblock3 = nn.Sequential(\r\n",
        "             # Input: 8x8x32 | Output: 8x8x32 | RF: 24x24\r\n",
        "            nn.Conv2d(in_channels=32, out_channels=32, kernel_size=3, padding=1), \r\n",
        "            nn.ReLU(),\r\n",
        "            nn.BatchNorm2d(32),\r\n",
        "            nn.Dropout(dropout_rate),\r\n",
        "\r\n",
        "            # Depthwise separable convolution\r\n",
        "            # Input: 8x8x32 | Output: 8x8x32 | RF: 32x32\r\n",
        "            nn.Conv2d(in_channels=32, out_channels=32, kernel_size=3, groups=32, padding=1), \r\n",
        "             # Input: 8x8x32 | Output: 8x8x64 | RF: 32x32 \r\n",
        "            nn.Conv2d(in_channels=32, out_channels=64, kernel_size=1), \r\n",
        "            nn.ReLU(),\r\n",
        "            nn.BatchNorm2d(64),\r\n",
        "            nn.Dropout(dropout_rate)\r\n",
        "        )\r\n",
        "\r\n",
        "        self.transblock3 = nn.Sequential(\r\n",
        "            nn.MaxPool2d(2, 2),  # Input: 8x8x64 | Output: 4x4x64 | RF: 36x36\r\n",
        "            nn.Conv2d(in_channels=64, out_channels=32, kernel_size=1)  # Input: 4x4x64 | Output: 4x4x32 | RF: 36x36\r\n",
        "        )\r\n",
        "\r\n",
        "        self.convblock4 = nn.Sequential(\r\n",
        "            nn.Conv2d(in_channels=32, out_channels=32, kernel_size=3, padding=1),\r\n",
        "              # Input: 4x4x32 | Output: 4x4x32 | RF: 52x52\r\n",
        "            nn.ReLU(),\r\n",
        "            nn.BatchNorm2d(32),\r\n",
        "            nn.Dropout(dropout_rate),\r\n",
        "\r\n",
        "            # Dilated convolution\r\n",
        "            nn.Conv2d(in_channels=32, out_channels=64, kernel_size=3, padding=1, dilation=2),\r\n",
        "            # Input: 4x4x32 | Output: 2x2x64 | RF: 68X68\r\n",
        "            nn.ReLU(),\r\n",
        "            nn.BatchNorm2d(64),\r\n",
        "            nn.Dropout(dropout_rate)\r\n",
        "        )\r\n",
        "\r\n",
        "        self.gap = nn.Sequential(\r\n",
        "            #Input 2X2X64 |Output  1X1X64 | RF :76X 76\r\n",
        "            nn.AvgPool2d(kernel_size=2),\r\n",
        "            #Input 1X1X64 | Output 1X1X10 | RF :76 X76\r\n",
        "            nn.Conv2d(in_channels=64,out_channels=10,kernel_size=(1,1),padding = 0, bias = True)\r\n",
        "            #nn.AdaptiveAvgPool2d(1)\r\n",
        "           \r\n",
        "        ) \r\n",
        "\r\n",
        "\r\n",
        "        \r\n",
        "    \r\n",
        "    def forward(self, x):\r\n",
        "        \"\"\" This function defines the network structure \"\"\"\r\n",
        "\r\n",
        "        x = self.convblock1(x)\r\n",
        "        x = self.transblock1(x)\r\n",
        "        x = self.convblock2(x)\r\n",
        "        x = self.transblock2(x)\r\n",
        "        x = self.convblock3(x)\r\n",
        "        x = self.transblock3(x)\r\n",
        "        x = self.convblock4(x)\r\n",
        "        x = self.gap(x)\r\n",
        "        x = x.view(-1, 10)\r\n",
        "        #x = self.fc(x)\r\n",
        "        return x\r\n",
        "\r\n",
        "\r\n"
      ],
      "execution_count": 14,
      "outputs": []
    },
    {
      "cell_type": "code",
      "metadata": {
        "id": "iONS_wi9Dk5x"
      },
      "source": [
        "# import torch.nn as nn\r\n",
        "\r\n",
        "# class Net1(nn.Module):\r\n",
        "#     def __init__(self, args):\r\n",
        "#         super(Net, self).__init__()\r\n",
        "\r\n",
        "#         self.layer1 = nn.Sequential(\r\n",
        "#             nn.Conv2d(in_channels=3, out_channels=32, kernel_size=(3, 3), padding=1, bias=False),\r\n",
        "#             nn.ReLU(),\r\n",
        "#             nn.BatchNorm2d(32),\r\n",
        "#             nn.Dropout(args.dropout_value),  # In: 32x32x3 | Out: 32x32x32 | RF: 3x3\r\n",
        "\r\n",
        "#             nn.Conv2d(in_channels=32, out_channels=32, kernel_size=(3, 3), padding=1, bias=False),\r\n",
        "#             nn.ReLU(),\r\n",
        "#             nn.BatchNorm2d(32), # In: 32x32x32 | Out: 32x32x32 | RF: 5x5\r\n",
        "#         )\r\n",
        "#         self.pool1 = nn.MaxPool2d(2, 2) # In: 32x32x32 | Out: 16x16x32 | RF: 6x6\r\n",
        "#         self.layer2 = nn.Sequential(\r\n",
        "#             nn.Conv2d(in_channels=32, out_channels=64, kernel_size=(3, 3), padding=1, bias=False),\r\n",
        "#             nn.ReLU(),\r\n",
        "#             nn.BatchNorm2d(64),\r\n",
        "#             nn.Dropout(args.dropout_value),  # In: 16x16x32 | Out: 16x16x64 | RF: 10x10\r\n",
        "\r\n",
        "#             nn.Conv2d(in_channels=64, out_channels=64, kernel_size=(3, 3), padding=1, bias=False),\r\n",
        "#             nn.ReLU(),\r\n",
        "#             nn.BatchNorm2d(64), # In: 16x16x64 | Out: 16x16x64 | RF: 14x14\r\n",
        "#         )\r\n",
        "#         self.pool2 = nn.MaxPool2d(2, 2) # In: 16x16x64 | Out: 8x8x64 | RF:16x16\r\n",
        "#         self.layer3 = nn.Sequential(\r\n",
        "#             nn.Conv2d(in_channels=64, out_channels=64, kernel_size=(3, 3), padding=1, groups=64, bias=False),\r\n",
        "#             nn.Conv2d(in_channels=64, out_channels=64, kernel_size=(1, 1), padding=0, bias=False),\r\n",
        "#             nn.ReLU(),\r\n",
        "#             nn.BatchNorm2d(64),\r\n",
        "#             nn.Dropout(args.dropout_value),  # In: 8x8x64 | Out: 8x8x64 | RF: 24x24\r\n",
        "\r\n",
        "#             nn.Conv2d(in_channels=64, out_channels=64, kernel_size=(3, 3), padding=1, bias=False),\r\n",
        "#             nn.ReLU(),\r\n",
        "#             nn.BatchNorm2d(64), # In: 8x8x64 | Out: 8x8x64 | RF: 32x32\r\n",
        "#         )\r\n",
        "#         self.pool3 = nn.MaxPool2d(2, 2) # In: 8x8x64 | Out: 4x4x64 | RF: 36x36\r\n",
        "#         self.layer4 = nn.Sequential(\r\n",
        "#             nn.Conv2d(in_channels=64, out_channels=128, kernel_size=(3, 3), padding=1, dilation=2, bias=False),\r\n",
        "#             nn.ReLU(),\r\n",
        "#             nn.BatchNorm2d(128),\r\n",
        "#             nn.Dropout(args.dropout_value),  # In: 4x4x64 | Out: 4x4x128 | RF: 68x68\r\n",
        "\r\n",
        "#             nn.Conv2d(in_channels=128, out_channels=128, kernel_size=(3, 3), padding=1, bias=False),\r\n",
        "#             nn.ReLU(),\r\n",
        "#             nn.BatchNorm2d(128),  # In: 4x4x128 | Out: 4x4x128 | RF: 84x84\r\n",
        "#         )\r\n",
        "#         self.gap = nn.AdaptiveAvgPool2d(output_size=1)  # In: 4x4x128 | Out: 1x1x128 | RF: 108x108\r\n",
        "#         self.layer5 = nn.Sequential(\r\n",
        "#             nn.Linear(in_features=128, out_features=10),\r\n",
        "#             # nn.ReLU() NEVER!\r\n",
        "#         )\r\n",
        "\r\n",
        "#     def forward(self, x):\r\n",
        "#         x = self.layer1(x)\r\n",
        "#         x = self.pool1(x)\r\n",
        "#         x = self.layer2(x)\r\n",
        "#         x = self.pool2(x)\r\n",
        "#         x = self.layer3(x)\r\n",
        "#         x = self.pool3(x)\r\n",
        "#         x = self.layer4(x)\r\n",
        "#         x = self.gap(x)\r\n",
        "#         x = x.view(-1, 128)\r\n",
        "#         x = self.layer5(x)\r\n",
        "#         return x"
      ],
      "execution_count": 15,
      "outputs": []
    },
    {
      "cell_type": "code",
      "metadata": {
        "colab": {
          "base_uri": "https://localhost:8080/"
        },
        "id": "R2DuiQTR1CR7",
        "outputId": "8cc9e30b-66b9-49b2-e81c-867f3ef7f7ad"
      },
      "source": [
        "!pip install torchsummary\r\n",
        "from torchsummary import summary\r\n",
        "use_cuda = torch.cuda.is_available()\r\n",
        "device = torch.device(\"cuda\" if use_cuda else \"cpu\")\r\n",
        "print(device)\r\n",
        "#model = Net().to(device) \r\n",
        "model = Net().to(device) \r\n",
        "summary(model, input_size=(3, 32, 32))"
      ],
      "execution_count": 16,
      "outputs": [
        {
          "output_type": "stream",
          "text": [
            "Requirement already satisfied: torchsummary in /usr/local/lib/python3.7/dist-packages (1.5.1)\n",
            "cuda\n",
            "----------------------------------------------------------------\n",
            "        Layer (type)               Output Shape         Param #\n",
            "================================================================\n",
            "            Conv2d-1           [-1, 32, 32, 32]             896\n",
            "              ReLU-2           [-1, 32, 32, 32]               0\n",
            "       BatchNorm2d-3           [-1, 32, 32, 32]              64\n",
            "           Dropout-4           [-1, 32, 32, 32]               0\n",
            "            Conv2d-5           [-1, 64, 32, 32]          18,496\n",
            "              ReLU-6           [-1, 64, 32, 32]               0\n",
            "       BatchNorm2d-7           [-1, 64, 32, 32]             128\n",
            "           Dropout-8           [-1, 64, 32, 32]               0\n",
            "         MaxPool2d-9           [-1, 64, 16, 16]               0\n",
            "           Conv2d-10           [-1, 32, 16, 16]           2,080\n",
            "           Conv2d-11           [-1, 32, 16, 16]           9,248\n",
            "             ReLU-12           [-1, 32, 16, 16]               0\n",
            "      BatchNorm2d-13           [-1, 32, 16, 16]              64\n",
            "          Dropout-14           [-1, 32, 16, 16]               0\n",
            "           Conv2d-15           [-1, 64, 16, 16]          18,496\n",
            "             ReLU-16           [-1, 64, 16, 16]               0\n",
            "      BatchNorm2d-17           [-1, 64, 16, 16]             128\n",
            "          Dropout-18           [-1, 64, 16, 16]               0\n",
            "        MaxPool2d-19             [-1, 64, 8, 8]               0\n",
            "           Conv2d-20             [-1, 32, 8, 8]           2,080\n",
            "           Conv2d-21             [-1, 32, 8, 8]           9,248\n",
            "             ReLU-22             [-1, 32, 8, 8]               0\n",
            "      BatchNorm2d-23             [-1, 32, 8, 8]              64\n",
            "          Dropout-24             [-1, 32, 8, 8]               0\n",
            "           Conv2d-25             [-1, 32, 8, 8]             320\n",
            "           Conv2d-26             [-1, 64, 8, 8]           2,112\n",
            "             ReLU-27             [-1, 64, 8, 8]               0\n",
            "      BatchNorm2d-28             [-1, 64, 8, 8]             128\n",
            "          Dropout-29             [-1, 64, 8, 8]               0\n",
            "        MaxPool2d-30             [-1, 64, 4, 4]               0\n",
            "           Conv2d-31             [-1, 32, 4, 4]           2,080\n",
            "           Conv2d-32             [-1, 32, 4, 4]           9,248\n",
            "             ReLU-33             [-1, 32, 4, 4]               0\n",
            "      BatchNorm2d-34             [-1, 32, 4, 4]              64\n",
            "          Dropout-35             [-1, 32, 4, 4]               0\n",
            "           Conv2d-36             [-1, 64, 2, 2]          18,496\n",
            "             ReLU-37             [-1, 64, 2, 2]               0\n",
            "      BatchNorm2d-38             [-1, 64, 2, 2]             128\n",
            "          Dropout-39             [-1, 64, 2, 2]               0\n",
            "        AvgPool2d-40             [-1, 64, 1, 1]               0\n",
            "           Conv2d-41             [-1, 10, 1, 1]             650\n",
            "================================================================\n",
            "Total params: 94,218\n",
            "Trainable params: 94,218\n",
            "Non-trainable params: 0\n",
            "----------------------------------------------------------------\n",
            "Input size (MB): 0.01\n",
            "Forward/backward pass size (MB): 4.22\n",
            "Params size (MB): 0.36\n",
            "Estimated Total Size (MB): 4.59\n",
            "----------------------------------------------------------------\n"
          ],
          "name": "stdout"
        }
      ]
    },
    {
      "cell_type": "code",
      "metadata": {
        "id": "0Occrhjolc2C"
      },
      "source": [
        "\r\n",
        "import torch.optim as optim\r\n",
        "from torch.optim.lr_scheduler import StepLR\r\n",
        "#criterion = nn.CrossEntropyLoss()\r\n",
        "lossfunc = nn.CrossEntropyLoss()\r\n",
        "optimizer = optim.SGD(model.parameters(), lr=0.01, momentum=0.9,weight_decay=0.001)\r\n",
        "scheduler = StepLR(optimizer, step_size=6, gamma=0.1)"
      ],
      "execution_count": 17,
      "outputs": []
    },
    {
      "cell_type": "code",
      "metadata": {
        "id": "JiRNC2PAUMKL"
      },
      "source": [
        "from tqdm import tqdm\r\n",
        "\r\n",
        "class Trainer():\r\n",
        "\r\n",
        "  def __init__(self):\r\n",
        "    self.train_losses = []\r\n",
        "    self.test_losses = []\r\n",
        "    self.train_acc = []\r\n",
        "    self.test_acc = []\r\n",
        "\r\n",
        "  def train(self, model, device, train_loader, optimizer, loss_func, epoch, lambda_l1):\r\n",
        "    model.train()\r\n",
        "    pbar = tqdm(train_loader)\r\n",
        "\r\n",
        "    correct = 0\r\n",
        "    processed = 0\r\n",
        "    for batch_idx, (data, target) in enumerate(pbar):\r\n",
        "      ##extra \r\n",
        "      running_loss = 0.0\r\n",
        "      running_corrects = 0\r\n",
        "      ##\r\n",
        "      # get samples\r\n",
        "      data, target = data.to(device), target.to(device)\r\n",
        "\r\n",
        "      # Init\r\n",
        "      optimizer.zero_grad()\r\n",
        "      # In PyTorch, we need to set the gradients to zero before starting to do backpropragation because PyTorch accumulates the gradients on subsequent backward passes. \r\n",
        "      # Because of this, when you start your training loop, ideally you should zero out the gradients so that you do the parameter update correctly.\r\n",
        "\r\n",
        "      # Predict\r\n",
        "      y_pred = model(data)\r\n",
        "\r\n",
        "      # Calculate loss\r\n",
        "      loss = loss_func(y_pred, target)\r\n",
        "      # L2 loss\r\n",
        "\r\n",
        "      # L1 loss\r\n",
        "      l1 = 0\r\n",
        "      # lambda_l1 = 0.05\r\n",
        "      for p in model.parameters():\r\n",
        "        l1 = l1 + p.abs().sum()\r\n",
        "      loss = loss + lambda_l1*l1\r\n",
        "\r\n",
        "      self.train_losses.append(loss)\r\n",
        "\r\n",
        "      # Backpropagation\r\n",
        "      loss.backward()\r\n",
        "      optimizer.step()\r\n",
        "\r\n",
        "\r\n",
        "      # Update pbar-tqdm\r\n",
        "      \r\n",
        "      pred = y_pred.argmax(dim=1, keepdim=True)  # get the index of the max log-probability\r\n",
        "      correct += pred.eq(target.view_as(pred)).sum().item()\r\n",
        "      processed += len(data)\r\n",
        "      pbar.set_description(desc= f'Train set: Loss={loss.item()} Batch_id={batch_idx} Accuracy={100*correct/processed:0.2f}')\r\n",
        "      self.train_acc.append(100*correct/processed)\r\n",
        "      tqdm._instances.clear()\r\n",
        "\r\n",
        "  def test(self, model, device, test_loader):\r\n",
        "    model.eval()\r\n",
        "    test_loss = 0\r\n",
        "    correct = 0\r\n",
        "    with torch.no_grad():\r\n",
        "        for data, target in test_loader:\r\n",
        "            data, target = data.to(device), target.to(device)\r\n",
        "            output = model(data)\r\n",
        "            test_loss += F.nll_loss(output, target, reduction='sum').item()  # sum up batch loss\r\n",
        "            pred = output.argmax(dim=1, keepdim=True)  # get the index of the max log-probability\r\n",
        "            correct += pred.eq(target.view_as(pred)).sum().item()\r\n",
        "\r\n",
        "    test_loss /= len(test_loader.dataset)\r\n",
        "    self.test_losses.append(test_loss)\r\n",
        "\r\n",
        "    print('\\nTest set: Average loss: {:.4f}, Test Accuracy: {}/{} ({:.2f}%)\\n'.format(\r\n",
        "        test_loss, correct, len(test_loader.dataset),\r\n",
        "        100. * correct / len(test_loader.dataset)))\r\n",
        "    \r\n",
        "    self.test_acc.append(100. * correct / len(test_loader.dataset))\r\n",
        "\r\n",
        "  def getValues(self):\r\n",
        "    return (self.train_losses, self.test_losses, self.train_acc, self.test_acc)\r\n",
        "  "
      ],
      "execution_count": 18,
      "outputs": []
    },
    {
      "cell_type": "code",
      "metadata": {
        "id": "S-vImNrFklHH"
      },
      "source": [
        "from tqdm import tqdm\r\n",
        "\r\n",
        "class Trainer():\r\n",
        "\r\n",
        "  def __init__(self):\r\n",
        "    self.train_losses = []\r\n",
        "    self.test_losses = []\r\n",
        "    self.train_acc = []\r\n",
        "    self.test_acc = []\r\n",
        "\r\n",
        "  def train(self, model, device, train_loader, optimizer, loss_func, epoch, lambda_l1):\r\n",
        "    model.train()\r\n",
        "    pbar = tqdm(train_loader)\r\n",
        "    loss1=[]\r\n",
        "    acc1=[]\r\n",
        "    correct = 0\r\n",
        "    processed = 0\r\n",
        "    for batch_idx, (data, target) in enumerate(pbar):\r\n",
        "      ##extra \r\n",
        "      running_loss = 0.0\r\n",
        "      running_corrects = 0\r\n",
        "      ##\r\n",
        "      # get samples\r\n",
        "      data, target = data.to(device), target.to(device)\r\n",
        "\r\n",
        "      # Init\r\n",
        "      optimizer.zero_grad()\r\n",
        "      # In PyTorch, we need to set the gradients to zero before starting to do backpropragation because PyTorch accumulates the gradients on subsequent backward passes. \r\n",
        "      # Because of this, when you start your training loop, ideally you should zero out the gradients so that you do the parameter update correctly.\r\n",
        "\r\n",
        "      # Predict\r\n",
        "      y_pred = model(data)\r\n",
        "\r\n",
        "      # Calculate loss\r\n",
        "      loss = loss_func(y_pred, target)\r\n",
        "      # L2 loss\r\n",
        "\r\n",
        "      # L1 loss\r\n",
        "      l1 = 0\r\n",
        "      # lambda_l1 = 0.05\r\n",
        "      for p in model.parameters():\r\n",
        "        l1 = l1 + p.abs().sum()\r\n",
        "      loss = loss + lambda_l1*l1\r\n",
        "\r\n",
        "      self.train_losses.append(loss)\r\n",
        "\r\n",
        "      # Backpropagation\r\n",
        "      loss.backward()\r\n",
        "      optimizer.step()\r\n",
        "\r\n",
        "\r\n",
        "      # Update pbar-tqdm\r\n",
        "      \r\n",
        "      pred = y_pred.argmax(dim=1, keepdim=True)  # get the index of the max log-probability\r\n",
        "      correct += pred.eq(target.view_as(pred)).sum().item()\r\n",
        "      processed += len(data)\r\n",
        "      pbar.set_description(desc= f'Train set: Loss={loss.item()} Batch_id={batch_idx} Accuracy={100*correct/processed:0.2f}')\r\n",
        "      self.train_acc.append(100*correct/processed)\r\n",
        "      tqdm._instances.clear()\r\n",
        "\r\n",
        "  def test(self, model, device, test_loader):\r\n",
        "    model.eval()\r\n",
        "    test_loss = 0\r\n",
        "    correct = 0\r\n",
        "    with torch.no_grad():\r\n",
        "        for data, target in test_loader:\r\n",
        "            data, target = data.to(device), target.to(device)\r\n",
        "            output = model(data)\r\n",
        "            test_loss += F.nll_loss(output, target, reduction='sum').item()  # sum up batch loss\r\n",
        "            pred = output.argmax(dim=1, keepdim=True)  # get the index of the max log-probability\r\n",
        "            correct += pred.eq(target.view_as(pred)).sum().item()\r\n",
        "\r\n",
        "    test_loss /= len(test_loader.dataset)\r\n",
        "    self.test_losses.append(test_loss)\r\n",
        "\r\n",
        "    print('\\nTest set: Average loss: {:.4f}, Test Accuracy: {}/{} ({:.2f}%)\\n'.format(\r\n",
        "        test_loss, correct, len(test_loader.dataset),\r\n",
        "        100. * correct / len(test_loader.dataset)))\r\n",
        "    \r\n",
        "    self.test_acc.append(100. * correct / len(test_loader.dataset))\r\n",
        "\r\n",
        "  def getValues(self):\r\n",
        "    return (self.train_losses, self.test_losses, self.train_acc, self.test_acc)\r\n",
        "\r\n",
        "  "
      ],
      "execution_count": 19,
      "outputs": []
    },
    {
      "cell_type": "code",
      "metadata": {
        "colab": {
          "base_uri": "https://localhost:8080/"
        },
        "id": "uOZr7f-Y3YL4",
        "outputId": "81aafc6e-567f-4410-e833-d899fdd057df"
      },
      "source": [
        "\r\n",
        "EPOCHS = 15\r\n",
        "\r\n",
        "trainer = Trainer()\r\n",
        "\r\n",
        "for epoch in range(EPOCHS):\r\n",
        "  # print(\"EPOCH:\", epoch, \"last LR=\",scheduler.get_last_lr(), \"LR = \", scheduler.get_lr())\r\n",
        "  print(\"EPOCH:\", epoch+1)\r\n",
        "  # def train(model, device, train_loader, optimizer, epoch, lambda_l1):\r\n",
        "  trainer.train(model, device, trainloader, optimizer, lossfunc, epoch, 5e-4)\r\n",
        "  scheduler.step()\r\n",
        "  trainer.test(model, device, testloader)\r\n",
        "  # scheduler.step() # for StepLR\r\n",
        "\r\n",
        "(train_losses, test_losses, train_acc, test_acc) = trainer.getValues()\r\n",
        "\r\n",
        "\r\n"
      ],
      "execution_count": 20,
      "outputs": [
        {
          "output_type": "stream",
          "text": [
            "\r  0%|          | 0/391 [00:00<?, ?it/s]"
          ],
          "name": "stderr"
        },
        {
          "output_type": "stream",
          "text": [
            "EPOCH: 1\n"
          ],
          "name": "stdout"
        },
        {
          "output_type": "stream",
          "text": [
            "/usr/local/lib/python3.7/dist-packages/torch/utils/data/dataloader.py:477: UserWarning: This DataLoader will create 4 worker processes in total. Our suggested max number of worker in current system is 2, which is smaller than what this DataLoader is going to create. Please be aware that excessive worker creation might get DataLoader running slow or even freeze, lower the worker number to avoid potential slowness/freeze if necessary.\n",
            "  cpuset_checked))\n",
            "Train set: Loss=2.112069845199585 Batch_id=390 Accuracy=51.40: 100%|██████████| 391/391 [00:21<00:00, 17.83it/s]\n",
            "  0%|          | 0/391 [00:00<?, ?it/s]"
          ],
          "name": "stderr"
        },
        {
          "output_type": "stream",
          "text": [
            "\n",
            "Test set: Average loss: -3.0265, Test Accuracy: 6121/10000 (61.21%)\n",
            "\n",
            "EPOCH: 2\n"
          ],
          "name": "stdout"
        },
        {
          "output_type": "stream",
          "text": [
            "Train set: Loss=1.9625096321105957 Batch_id=390 Accuracy=65.60: 100%|██████████| 391/391 [00:22<00:00, 17.61it/s]\n",
            "  0%|          | 0/391 [00:00<?, ?it/s]"
          ],
          "name": "stderr"
        },
        {
          "output_type": "stream",
          "text": [
            "\n",
            "Test set: Average loss: -3.9107, Test Accuracy: 6361/10000 (63.61%)\n",
            "\n",
            "EPOCH: 3\n"
          ],
          "name": "stdout"
        },
        {
          "output_type": "stream",
          "text": [
            "Train set: Loss=1.620896816253662 Batch_id=390 Accuracy=69.31: 100%|██████████| 391/391 [00:22<00:00, 17.67it/s]\n",
            "  0%|          | 0/391 [00:00<?, ?it/s]"
          ],
          "name": "stderr"
        },
        {
          "output_type": "stream",
          "text": [
            "\n",
            "Test set: Average loss: -3.9859, Test Accuracy: 6600/10000 (66.00%)\n",
            "\n",
            "EPOCH: 4\n"
          ],
          "name": "stdout"
        },
        {
          "output_type": "stream",
          "text": [
            "Train set: Loss=1.597697377204895 Batch_id=390 Accuracy=70.82: 100%|██████████| 391/391 [00:22<00:00, 17.64it/s]\n",
            "  0%|          | 0/391 [00:00<?, ?it/s]"
          ],
          "name": "stderr"
        },
        {
          "output_type": "stream",
          "text": [
            "\n",
            "Test set: Average loss: -4.1787, Test Accuracy: 6923/10000 (69.23%)\n",
            "\n",
            "EPOCH: 5\n"
          ],
          "name": "stdout"
        },
        {
          "output_type": "stream",
          "text": [
            "Train set: Loss=1.7253949642181396 Batch_id=390 Accuracy=72.50: 100%|██████████| 391/391 [00:22<00:00, 17.70it/s]\n",
            "  0%|          | 0/391 [00:00<?, ?it/s]"
          ],
          "name": "stderr"
        },
        {
          "output_type": "stream",
          "text": [
            "\n",
            "Test set: Average loss: -4.4802, Test Accuracy: 7207/10000 (72.07%)\n",
            "\n",
            "EPOCH: 6\n"
          ],
          "name": "stdout"
        },
        {
          "output_type": "stream",
          "text": [
            "Train set: Loss=1.5721821784973145 Batch_id=390 Accuracy=73.34: 100%|██████████| 391/391 [00:21<00:00, 18.02it/s]\n",
            "  0%|          | 0/391 [00:00<?, ?it/s]"
          ],
          "name": "stderr"
        },
        {
          "output_type": "stream",
          "text": [
            "\n",
            "Test set: Average loss: -3.7542, Test Accuracy: 6632/10000 (66.32%)\n",
            "\n",
            "EPOCH: 7\n"
          ],
          "name": "stdout"
        },
        {
          "output_type": "stream",
          "text": [
            "Train set: Loss=1.1400742530822754 Batch_id=390 Accuracy=80.58: 100%|██████████| 391/391 [00:22<00:00, 17.72it/s]\n",
            "  0%|          | 0/391 [00:00<?, ?it/s]"
          ],
          "name": "stderr"
        },
        {
          "output_type": "stream",
          "text": [
            "\n",
            "Test set: Average loss: -4.9986, Test Accuracy: 7983/10000 (79.83%)\n",
            "\n",
            "EPOCH: 8\n"
          ],
          "name": "stdout"
        },
        {
          "output_type": "stream",
          "text": [
            "Train set: Loss=1.0963159799575806 Batch_id=390 Accuracy=82.82: 100%|██████████| 391/391 [00:22<00:00, 17.67it/s]\n",
            "  0%|          | 0/391 [00:00<?, ?it/s]"
          ],
          "name": "stderr"
        },
        {
          "output_type": "stream",
          "text": [
            "\n",
            "Test set: Average loss: -5.0341, Test Accuracy: 8051/10000 (80.51%)\n",
            "\n",
            "EPOCH: 9\n"
          ],
          "name": "stdout"
        },
        {
          "output_type": "stream",
          "text": [
            "Train set: Loss=0.9670060873031616 Batch_id=390 Accuracy=83.66: 100%|██████████| 391/391 [00:22<00:00, 17.68it/s]\n",
            "  0%|          | 0/391 [00:00<?, ?it/s]"
          ],
          "name": "stderr"
        },
        {
          "output_type": "stream",
          "text": [
            "\n",
            "Test set: Average loss: -5.2636, Test Accuracy: 8057/10000 (80.57%)\n",
            "\n",
            "EPOCH: 10\n"
          ],
          "name": "stdout"
        },
        {
          "output_type": "stream",
          "text": [
            "Train set: Loss=1.0787745714187622 Batch_id=390 Accuracy=84.34: 100%|██████████| 391/391 [00:22<00:00, 17.62it/s]\n",
            "  0%|          | 0/391 [00:00<?, ?it/s]"
          ],
          "name": "stderr"
        },
        {
          "output_type": "stream",
          "text": [
            "\n",
            "Test set: Average loss: -5.3179, Test Accuracy: 8035/10000 (80.35%)\n",
            "\n",
            "EPOCH: 11\n"
          ],
          "name": "stdout"
        },
        {
          "output_type": "stream",
          "text": [
            "Train set: Loss=0.8333446979522705 Batch_id=390 Accuracy=84.34: 100%|██████████| 391/391 [00:21<00:00, 17.82it/s]\n",
            "  0%|          | 0/391 [00:00<?, ?it/s]"
          ],
          "name": "stderr"
        },
        {
          "output_type": "stream",
          "text": [
            "\n",
            "Test set: Average loss: -5.4914, Test Accuracy: 8092/10000 (80.92%)\n",
            "\n",
            "EPOCH: 12\n"
          ],
          "name": "stdout"
        },
        {
          "output_type": "stream",
          "text": [
            "Train set: Loss=0.975207507610321 Batch_id=390 Accuracy=85.02: 100%|██████████| 391/391 [00:22<00:00, 17.73it/s]\n",
            "  0%|          | 0/391 [00:00<?, ?it/s]"
          ],
          "name": "stderr"
        },
        {
          "output_type": "stream",
          "text": [
            "\n",
            "Test set: Average loss: -5.5116, Test Accuracy: 8038/10000 (80.38%)\n",
            "\n",
            "EPOCH: 13\n"
          ],
          "name": "stdout"
        },
        {
          "output_type": "stream",
          "text": [
            "Train set: Loss=0.8067104816436768 Batch_id=390 Accuracy=87.67: 100%|██████████| 391/391 [00:22<00:00, 17.74it/s]\n",
            "  0%|          | 0/391 [00:00<?, ?it/s]"
          ],
          "name": "stderr"
        },
        {
          "output_type": "stream",
          "text": [
            "\n",
            "Test set: Average loss: -5.6366, Test Accuracy: 8160/10000 (81.60%)\n",
            "\n",
            "EPOCH: 14\n"
          ],
          "name": "stdout"
        },
        {
          "output_type": "stream",
          "text": [
            "Train set: Loss=0.9652137160301208 Batch_id=390 Accuracy=88.42: 100%|██████████| 391/391 [00:22<00:00, 17.69it/s]\n",
            "  0%|          | 0/391 [00:00<?, ?it/s]"
          ],
          "name": "stderr"
        },
        {
          "output_type": "stream",
          "text": [
            "\n",
            "Test set: Average loss: -5.6745, Test Accuracy: 8180/10000 (81.80%)\n",
            "\n",
            "EPOCH: 15\n"
          ],
          "name": "stdout"
        },
        {
          "output_type": "stream",
          "text": [
            "Train set: Loss=0.8072885274887085 Batch_id=390 Accuracy=88.68: 100%|██████████| 391/391 [00:22<00:00, 17.55it/s]\n"
          ],
          "name": "stderr"
        },
        {
          "output_type": "stream",
          "text": [
            "\n",
            "Test set: Average loss: -5.6539, Test Accuracy: 8184/10000 (81.84%)\n",
            "\n"
          ],
          "name": "stdout"
        }
      ]
    },
    {
      "cell_type": "code",
      "metadata": {
        "id": "JL-IDs7RLHky"
      },
      "source": [
        "#modify train_acc and train_loss so that we will get one value for every epoch \r\n",
        "# we will avarage out every train loss and acc of every batch \r\n",
        "\r\n",
        "new_train_acc=[]\r\n",
        "sum=0\r\n",
        "count=0\r\n",
        "for i in range (len(train_acc)):\r\n",
        "  sum=sum+train_acc[i]\r\n",
        "  count=count+1\r\n",
        "  if count%len(trainloader)==0:\r\n",
        "    new_train_acc.append(sum/len(trainloader))\r\n",
        "    sum=0\r\n",
        "train_acc=new_train_acc\r\n",
        "new_train_loss=[]\r\n",
        "sum=0\r\n",
        "count=0\r\n",
        "for i in range (len(train_losses)):\r\n",
        "  sum=sum+train_losses[i]\r\n",
        "  count=count+1\r\n",
        "  if count%len(trainloader)==0:\r\n",
        "    new_train_loss.append(sum/len(trainloader))\r\n",
        "    sum=0\r\n",
        "train_losses=new_train_loss\r\n"
      ],
      "execution_count": 21,
      "outputs": []
    },
    {
      "cell_type": "code",
      "metadata": {
        "id": "pLn9kFV8ix-G"
      },
      "source": [
        ""
      ],
      "execution_count": 21,
      "outputs": []
    },
    {
      "cell_type": "code",
      "metadata": {
        "id": "M_l3MKj8jAaI"
      },
      "source": [
        ""
      ],
      "execution_count": 21,
      "outputs": []
    },
    {
      "cell_type": "code",
      "metadata": {
        "id": "vJREo3Os-nMi",
        "colab": {
          "base_uri": "https://localhost:8080/",
          "height": 610
        },
        "outputId": "e607dac2-b03b-49bc-a1b9-c5b08295ff84"
      },
      "source": [
        "import seaborn as sns\r\n",
        "import matplotlib.pyplot as plt\r\n",
        "sns.set()\r\n",
        "plt.style.use(\"dark_background\")\r\n",
        "\r\n",
        "fig, axs = plt.subplots(2,2,figsize=(15,10))\r\n",
        "axs[0, 0].plot(train_losses)\r\n",
        "axs[0, 0].set_title(\"Training Loss\")\r\n",
        "axs[1, 0].plot(train_acc)\r\n",
        "axs[1, 0].set_title(\"Training Accuracy\")\r\n",
        "axs[0, 1].plot(test_losses)\r\n",
        "axs[0, 1].set_title(\"Test Loss\")\r\n",
        "axs[1, 1].plot(test_acc)\r\n",
        "axs[1, 1].set_title(\"Test Accuracy\")\r\n",
        "plt.show()"
      ],
      "execution_count": 22,
      "outputs": [
        {
          "output_type": "display_data",
          "data": {
            "image/png": "[encoded data removed]",
            "text/plain": [
              "<Figure size 1080x720 with 4 Axes>"
            ]
          },
          "metadata": {
            "tags": []
          }
        }
      ]
    },
    {
      "cell_type": "code",
      "metadata": {
        "colab": {
          "base_uri": "https://localhost:8080/"
        },
        "id": "utDigT4p9vML",
        "outputId": "28ee2d09-cedc-41e8-dbcd-5c15afc79ab4"
      },
      "source": [
        "torch.save(model,'./data/cifar')\r\n",
        "model = torch.load('./data/cifar')\r\n",
        "model.eval()"
      ],
      "execution_count": 23,
      "outputs": [
        {
          "output_type": "execute_result",
          "data": {
            "text/plain": [
              "Net(\n",
              "  (convblock1): Sequential(\n",
              "    (0): Conv2d(3, 32, kernel_size=(3, 3), stride=(1, 1), padding=(1, 1))\n",
              "    (1): ReLU()\n",
              "    (2): BatchNorm2d(32, eps=1e-05, momentum=0.1, affine=True, track_running_stats=True)\n",
              "    (3): Dropout(p=0, inplace=False)\n",
              "    (4): Conv2d(32, 64, kernel_size=(3, 3), stride=(1, 1), padding=(1, 1))\n",
              "    (5): ReLU()\n",
              "    (6): BatchNorm2d(64, eps=1e-05, momentum=0.1, affine=True, track_running_stats=True)\n",
              "    (7): Dropout(p=0, inplace=False)\n",
              "  )\n",
              "  (transblock1): Sequential(\n",
              "    (0): MaxPool2d(kernel_size=2, stride=2, padding=0, dilation=1, ceil_mode=False)\n",
              "    (1): Conv2d(64, 32, kernel_size=(1, 1), stride=(1, 1))\n",
              "  )\n",
              "  (convblock2): Sequential(\n",
              "    (0): Conv2d(32, 32, kernel_size=(3, 3), stride=(1, 1), padding=(1, 1))\n",
              "    (1): ReLU()\n",
              "    (2): BatchNorm2d(32, eps=1e-05, momentum=0.1, affine=True, track_running_stats=True)\n",
              "    (3): Dropout(p=0, inplace=False)\n",
              "    (4): Conv2d(32, 64, kernel_size=(3, 3), stride=(1, 1), padding=(1, 1))\n",
              "    (5): ReLU()\n",
              "    (6): BatchNorm2d(64, eps=1e-05, momentum=0.1, affine=True, track_running_stats=True)\n",
              "    (7): Dropout(p=0, inplace=False)\n",
              "  )\n",
              "  (transblock2): Sequential(\n",
              "    (0): MaxPool2d(kernel_size=2, stride=2, padding=0, dilation=1, ceil_mode=False)\n",
              "    (1): Conv2d(64, 32, kernel_size=(1, 1), stride=(1, 1))\n",
              "  )\n",
              "  (convblock3): Sequential(\n",
              "    (0): Conv2d(32, 32, kernel_size=(3, 3), stride=(1, 1), padding=(1, 1))\n",
              "    (1): ReLU()\n",
              "    (2): BatchNorm2d(32, eps=1e-05, momentum=0.1, affine=True, track_running_stats=True)\n",
              "    (3): Dropout(p=0, inplace=False)\n",
              "    (4): Conv2d(32, 32, kernel_size=(3, 3), stride=(1, 1), padding=(1, 1), groups=32)\n",
              "    (5): Conv2d(32, 64, kernel_size=(1, 1), stride=(1, 1))\n",
              "    (6): ReLU()\n",
              "    (7): BatchNorm2d(64, eps=1e-05, momentum=0.1, affine=True, track_running_stats=True)\n",
              "    (8): Dropout(p=0, inplace=False)\n",
              "  )\n",
              "  (transblock3): Sequential(\n",
              "    (0): MaxPool2d(kernel_size=2, stride=2, padding=0, dilation=1, ceil_mode=False)\n",
              "    (1): Conv2d(64, 32, kernel_size=(1, 1), stride=(1, 1))\n",
              "  )\n",
              "  (convblock4): Sequential(\n",
              "    (0): Conv2d(32, 32, kernel_size=(3, 3), stride=(1, 1), padding=(1, 1))\n",
              "    (1): ReLU()\n",
              "    (2): BatchNorm2d(32, eps=1e-05, momentum=0.1, affine=True, track_running_stats=True)\n",
              "    (3): Dropout(p=0, inplace=False)\n",
              "    (4): Conv2d(32, 64, kernel_size=(3, 3), stride=(1, 1), padding=(1, 1), dilation=(2, 2))\n",
              "    (5): ReLU()\n",
              "    (6): BatchNorm2d(64, eps=1e-05, momentum=0.1, affine=True, track_running_stats=True)\n",
              "    (7): Dropout(p=0, inplace=False)\n",
              "  )\n",
              "  (gap): Sequential(\n",
              "    (0): AvgPool2d(kernel_size=2, stride=2, padding=0)\n",
              "    (1): Conv2d(64, 10, kernel_size=(1, 1), stride=(1, 1))\n",
              "  )\n",
              ")"
            ]
          },
          "metadata": {
            "tags": []
          },
          "execution_count": 23
        }
      ]
    },
    {
      "cell_type": "code",
      "metadata": {
        "colab": {
          "base_uri": "https://localhost:8080/"
        },
        "id": "Qvi5MLkqziBU",
        "outputId": "d5b7ee18-0950-40f8-d2f3-55b8190c22de"
      },
      "source": [
        "#GET PERCENTAGE ACCURACY FOR EACH CLASS\r\n",
        "class_correct = list(0. for i in range(10))\r\n",
        "class_total = list(0. for i in range(10))\r\n",
        "with torch.no_grad():\r\n",
        "    for images,labels in testloader:\r\n",
        "        #images, labels = data\r\n",
        "        images, labels = images.to(device), labels.to(device)\r\n",
        "        outputs = model(images)\r\n",
        "        _, predicted = torch.max(outputs, 1)\r\n",
        "        c = (predicted == labels).squeeze()\r\n",
        "        for i in range(4):\r\n",
        "            label = labels[i]\r\n",
        "            class_correct[label] += c[i].item()\r\n",
        "            class_total[label] += 1\r\n",
        "\r\n",
        "\r\n",
        "for i in range(10):\r\n",
        "    print('Accuracy of %5s : %2d %%' % (\r\n",
        "        classes[i], 100 * class_correct[i] / class_total[i]))"
      ],
      "execution_count": 24,
      "outputs": [
        {
          "output_type": "stream",
          "text": [
            "/usr/local/lib/python3.7/dist-packages/torch/utils/data/dataloader.py:477: UserWarning: This DataLoader will create 4 worker processes in total. Our suggested max number of worker in current system is 2, which is smaller than what this DataLoader is going to create. Please be aware that excessive worker creation might get DataLoader running slow or even freeze, lower the worker number to avoid potential slowness/freeze if necessary.\n",
            "  cpuset_checked))\n"
          ],
          "name": "stderr"
        },
        {
          "output_type": "stream",
          "text": [
            "Accuracy of plane : 81 %\n",
            "Accuracy of   car : 90 %\n",
            "Accuracy of  bird : 63 %\n",
            "Accuracy of   cat : 76 %\n",
            "Accuracy of  deer : 83 %\n",
            "Accuracy of   dog : 80 %\n",
            "Accuracy of  frog : 80 %\n",
            "Accuracy of horse : 89 %\n",
            "Accuracy of  ship : 81 %\n",
            "Accuracy of truck : 78 %\n"
          ],
          "name": "stdout"
        }
      ]
    },
    {
      "cell_type": "code",
      "metadata": {
        "id": "DBhx7bJl3xRK"
      },
      "source": [
        "def get_misclassified(model, test_loader, device):\r\n",
        "  misclassified = []\r\n",
        "  misclassified_pred = []\r\n",
        "  misclassified_target = []\r\n",
        "  # put the model to evaluation mode\r\n",
        "  model.eval()\r\n",
        "  # turn off gradients\r\n",
        "  with torch.no_grad():\r\n",
        "      for data, target in test_loader:\r\n",
        "        # move them to the respective device\r\n",
        "        data, target = data.to(device), target.to(device)\r\n",
        "        # do inferencing\r\n",
        "        output = model(data)\r\n",
        "        # get the predicted output\r\n",
        "        pred = output.argmax(dim=1, keepdim=True)\r\n",
        "\r\n",
        "        # get the current misclassified in this batch\r\n",
        "        list_misclassified = (pred.eq(target.view_as(pred)) == False).squeeze()\r\n",
        "        #list_misclassified  = [item for sublist in list_misclassified  for item in sublist]\r\n",
        "        #print(list_misclassified)\r\n",
        "        #print(data.shape)\r\n",
        "        batch_misclassified = data[list_misclassified]\r\n",
        "        batch_mis_pred = pred[list_misclassified]\r\n",
        "        batch_mis_target = target.view_as(pred)[list_misclassified]\r\n",
        "\r\n",
        "        misclassified.append(batch_misclassified)\r\n",
        "        misclassified_pred.append(batch_mis_pred)\r\n",
        "        misclassified_target.append(batch_mis_target)\r\n",
        "        #print(len(misclassified))\r\n",
        "\r\n",
        "  # group all the batched together\r\n",
        "  misclassified = torch.cat(misclassified)\r\n",
        "  misclassified_pred = torch.cat(misclassified_pred)\r\n",
        "  misclassified_target = torch.cat(misclassified_target)\r\n",
        "\r\n",
        "  return  misclassified, misclassified_pred, misclassified_target"
      ],
      "execution_count": 25,
      "outputs": []
    },
    {
      "cell_type": "code",
      "metadata": {
        "colab": {
          "base_uri": "https://localhost:8080/",
          "height": 1000
        },
        "id": "SM_SXK_j_THv",
        "outputId": "2e05f6f5-7f33-4249-8de1-cea82247e670"
      },
      "source": [
        "model = torch.load('./data/cifar')\r\n",
        "model.eval()\r\n",
        "import math \r\n",
        "mean,std = calculate_mean_std(trainset)\r\n",
        "def plot_misclassified(number,test_loader, device,model,mean,std,format):\r\n",
        "    image_data, predicted, actual = get_misclassified(model,testloader,device)\r\n",
        "    print(len(image_data))\r\n",
        "    nrows = math.floor(math.sqrt(number))\r\n",
        "    ncols = math.ceil(math.sqrt(number))\r\n",
        "\r\n",
        "    fig, ax = plt.subplots(nrows, ncols, figsize=(10, 15))\r\n",
        "\r\n",
        "    for i in range(nrows):\r\n",
        "        for j in range(ncols):\r\n",
        "            index = i * ncols + j\r\n",
        "            ax[i, j].axis(\"off\")\r\n",
        "            ax[i, j].set_title(\"Predicted: %s\\nActual: %s\" % (classes[predicted[index]], classes[actual[index]]))\r\n",
        "            #FIRST UNNORMALIZE THEN SHOW \r\n",
        "            #ax[i, j].imshow(np.transpose(image_data[index].cpu().numpy()/ 2 + 0.5, (1, 2, 0)), cmap=\"gray_r\")\r\n",
        "            #FIRST UNNORMALIZE THEN SHOW \r\n",
        "            mean = np.array(mean)\r\n",
        "            std = np.array(std)\r\n",
        "            if format=='raw':\r\n",
        "              ax[i, j].imshow(np.transpose(image_data[index].cpu().numpy(), (1, 2, 0))*std+mean, cmap=\"gray_r\")\r\n",
        "            elif format=='normalized':\r\n",
        "              ax[i, j].imshow(np.transpose(image_data[index].cpu().numpy(), (1, 2, 0)), cmap=\"gray_r\")\r\n",
        "            \r\n",
        "\r\n",
        "\r\n",
        "\r\n",
        "plot_misclassified(25, testloader, device,model,mean,std,format=\"raw\")"
      ],
      "execution_count": 32,
      "outputs": [
        {
          "output_type": "stream",
          "text": [
            "/usr/local/lib/python3.7/dist-packages/torch/utils/data/dataloader.py:477: UserWarning: This DataLoader will create 4 worker processes in total. Our suggested max number of worker in current system is 2, which is smaller than what this DataLoader is going to create. Please be aware that excessive worker creation might get DataLoader running slow or even freeze, lower the worker number to avoid potential slowness/freeze if necessary.\n",
            "  cpuset_checked))\n"
          ],
          "name": "stderr"
        },
        {
          "output_type": "stream",
          "text": [
            "1816\n"
          ],
          "name": "stdout"
        },
        {
          "output_type": "stream",
          "text": [
            "Clipping input data to the valid range for imshow with RGB data ([0..1] for floats or [0..255] for integers).\n",
            "Clipping input data to the valid range for imshow with RGB data ([0..1] for floats or [0..255] for integers).\n",
            "Clipping input data to the valid range for imshow with RGB data ([0..1] for floats or [0..255] for integers).\n",
            "Clipping input data to the valid range for imshow with RGB data ([0..1] for floats or [0..255] for integers).\n",
            "Clipping input data to the valid range for imshow with RGB data ([0..1] for floats or [0..255] for integers).\n",
            "Clipping input data to the valid range for imshow with RGB data ([0..1] for floats or [0..255] for integers).\n",
            "Clipping input data to the valid range for imshow with RGB data ([0..1] for floats or [0..255] for integers).\n",
            "Clipping input data to the valid range for imshow with RGB data ([0..1] for floats or [0..255] for integers).\n",
            "Clipping input data to the valid range for imshow with RGB data ([0..1] for floats or [0..255] for integers).\n"
          ],
          "name": "stderr"
        },
        {
          "output_type": "display_data",
          "data": {
            "image/png": "[encoded data removed]",
            "text/plain": [
              "<Figure size 720x1080 with 25 Axes>"
            ]
          },
          "metadata": {
            "tags": []
          }
        }
      ]
    },
    {
      "cell_type": "code",
      "metadata": {
        "id": "zxt8Y2en_ccg"
      },
      "source": [
        ""
      ],
      "execution_count": null,
      "outputs": []
    }
  ]
}