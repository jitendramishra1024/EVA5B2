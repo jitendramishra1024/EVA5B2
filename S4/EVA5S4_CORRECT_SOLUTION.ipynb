{
  "nbformat": 4,
  "nbformat_minor": 0,
  "metadata": {
    "accelerator": "GPU",
    "colab": {
      "name": "EVA5S4_CORRECT_SOLUTION.ipynb",
      "provenance": [],
      "collapsed_sections": []
    },
    "kernelspec": {
      "display_name": "Python 3",
      "name": "python3"
    }
  },
  "cells": [
    {
      "cell_type": "code",
      "metadata": {
        "id": "0m2JWFliFfKT"
      },
      "source": [
        "from __future__ import print_function\n",
        "import torch\n",
        "import torch.nn as nn\n",
        "import torch.nn.functional as F\n",
        "import torch.optim as optim\n",
        "from torchvision import datasets, transforms"
      ],
      "execution_count": 64,
      "outputs": []
    },
    {
      "cell_type": "code",
      "metadata": {
        "id": "Y7CwCmOMUX6O"
      },
      "source": [
        "class Net(nn.Module):\r\n",
        "    def __init__(self):\r\n",
        "      super(Net, self).__init__()\r\n",
        "\r\n",
        "      self.input_block = nn.Sequential(\r\n",
        "      #INPUT 28X28X1 >>CONV 3X3X1X16 >>26X26X16\r\n",
        "          nn.Conv2d(1, 16, 3, bias=False), \r\n",
        "          nn.ReLU(),\r\n",
        "          nn.BatchNorm2d(16),\r\n",
        "          nn.Dropout2d(0.1),\r\n",
        "\r\n",
        " \r\n",
        "      #INPUT 26X26X16 >>CONV 3X3X16X32 >>24X24X32\r\n",
        "          nn.Conv2d(16, 32, 3, bias=False), \r\n",
        "          nn.ReLU(),\r\n",
        "          nn.BatchNorm2d(32),\r\n",
        "          nn.Dropout2d(0.1),\r\n",
        "      )\r\n",
        "            # translation layer\r\n",
        "      \r\n",
        "      self.trans1 = nn.Sequential(\r\n",
        "          #24X24x32 >>CONV 1X1X32X8 >>24X24X8\r\n",
        "          nn.Conv2d(32, 8, 1, bias=False), \r\n",
        "          nn.ReLU(),\r\n",
        "          #24X24x8 >>MAXPOOL (2,2) >>12X12X8\r\n",
        "          nn.MaxPool2d(2, 2),\r\n",
        "      )\r\n",
        "      self.conv_block = nn.Sequential(\r\n",
        "          #12X12x8 >>CONV 3X3X8X16 PAD=1 >>12X12X16\r\n",
        "          nn.Conv2d(8, 16, 3,padding=1, bias=False),\r\n",
        "          nn.ReLU(),\r\n",
        "          nn.BatchNorm2d(16),\r\n",
        "          nn.Dropout2d(0.1),\r\n",
        "\r\n",
        "          #12X12x16 >>CONV 3X3X16X32 >>10X10X32\r\n",
        "\r\n",
        "         nn.Conv2d(16, 32, 3, bias=False),\r\n",
        "          nn.ReLU(),\r\n",
        "          nn.BatchNorm2d(32),\r\n",
        "          nn.Dropout2d(0.1),\r\n",
        "\r\n",
        "      )\r\n",
        "                  # translation layer\r\n",
        "      self.trans2 = nn.Sequential(\r\n",
        "          #10X10x32 >>CONV 1X1X32X8 >>10X10X8\r\n",
        "          nn.Conv2d(32, 8, 1, bias=False), \r\n",
        "          nn.ReLU(),\r\n",
        "          #10X10x8 >>MAXPOOL (2,2) >>5X5X8\r\n",
        "          nn.MaxPool2d(2, 2),\r\n",
        "      )\r\n",
        "      self.conv_block2 = nn.Sequential(\r\n",
        "        #5X5X8 >>CONV 3X3X8X16 PAD=1 >>5X5X16\r\n",
        "         nn.Conv2d(8, 16, 3,padding=1,bias=False),\r\n",
        "        nn.ReLU(),\r\n",
        "        nn.BatchNorm2d(16),\r\n",
        "        nn.Dropout2d(0.1),  \r\n",
        "        #5X5X16 >>CONV 3X3X8X32 PAD=0 >>3X3X32\r\n",
        "        nn.Conv2d(16, 32, 3,bias=False),\r\n",
        "        nn.ReLU(),\r\n",
        "        nn.BatchNorm2d(32),\r\n",
        "        nn.Dropout2d(0.1),\r\n",
        "\r\n",
        "      )\r\n",
        "\r\n",
        "          \r\n",
        "      self.avg_pool = nn.Sequential(\r\n",
        "      #3X3X32 >>CONV 1X1X32X10  >>3X3X10\r\n",
        "      nn.Conv2d(32, 10, 1, bias=False),\r\n",
        "      #3X3X10 >>AVG pool(3X3) >>1X1X10\r\n",
        "      nn.AvgPool2d(3)\r\n",
        "      )\r\n",
        "\r\n",
        "    \"\"\"forward: performs a forward pass when model(x) is called\r\n",
        "    Params\r\n",
        "        x: the input data\r\n",
        "    Returns\r\n",
        "        y: the output of the model\r\n",
        "    \"\"\"\r\n",
        "    def forward(self, x):\r\n",
        "        x = self.input_block(x)\r\n",
        "        x = self.trans1(x)\r\n",
        "        x = self.conv_block(x)\r\n",
        "        x = self.trans2(x)\r\n",
        "        x = self.conv_block2(x)\r\n",
        "        x = self.avg_pool(x)\r\n",
        "        x = x.view(-1, 10)\r\n",
        "        return F.log_softmax(x)"
      ],
      "execution_count": 65,
      "outputs": []
    },
    {
      "cell_type": "code",
      "metadata": {
        "colab": {
          "base_uri": "https://localhost:8080/"
        },
        "id": "xdydjYTZFyi3",
        "outputId": "65778d56-c3d6-4cfe-c6f8-a24c42a19e6a"
      },
      "source": [
        "!pip install torchsummary\n",
        "from torchsummary import summary\n",
        "use_cuda = torch.cuda.is_available()\n",
        "device = torch.device(\"cuda\" if use_cuda else \"cpu\")\n",
        "model = Net().to(device)\n",
        "summary(model, input_size=(1, 28, 28))"
      ],
      "execution_count": 66,
      "outputs": [
        {
          "output_type": "stream",
          "text": [
            "Requirement already satisfied: torchsummary in /usr/local/lib/python3.6/dist-packages (1.5.1)\n",
            "----------------------------------------------------------------\n",
            "        Layer (type)               Output Shape         Param #\n",
            "================================================================\n",
            "            Conv2d-1           [-1, 16, 26, 26]             144\n",
            "              ReLU-2           [-1, 16, 26, 26]               0\n",
            "       BatchNorm2d-3           [-1, 16, 26, 26]              32\n",
            "         Dropout2d-4           [-1, 16, 26, 26]               0\n",
            "            Conv2d-5           [-1, 32, 24, 24]           4,608\n",
            "              ReLU-6           [-1, 32, 24, 24]               0\n",
            "       BatchNorm2d-7           [-1, 32, 24, 24]              64\n",
            "         Dropout2d-8           [-1, 32, 24, 24]               0\n",
            "            Conv2d-9            [-1, 8, 24, 24]             256\n",
            "             ReLU-10            [-1, 8, 24, 24]               0\n",
            "        MaxPool2d-11            [-1, 8, 12, 12]               0\n",
            "           Conv2d-12           [-1, 16, 12, 12]           1,152\n",
            "             ReLU-13           [-1, 16, 12, 12]               0\n",
            "      BatchNorm2d-14           [-1, 16, 12, 12]              32\n",
            "        Dropout2d-15           [-1, 16, 12, 12]               0\n",
            "           Conv2d-16           [-1, 32, 10, 10]           4,608\n",
            "             ReLU-17           [-1, 32, 10, 10]               0\n",
            "      BatchNorm2d-18           [-1, 32, 10, 10]              64\n",
            "        Dropout2d-19           [-1, 32, 10, 10]               0\n",
            "           Conv2d-20            [-1, 8, 10, 10]             256\n",
            "             ReLU-21            [-1, 8, 10, 10]               0\n",
            "        MaxPool2d-22              [-1, 8, 5, 5]               0\n",
            "           Conv2d-23             [-1, 16, 5, 5]           1,152\n",
            "             ReLU-24             [-1, 16, 5, 5]               0\n",
            "      BatchNorm2d-25             [-1, 16, 5, 5]              32\n",
            "        Dropout2d-26             [-1, 16, 5, 5]               0\n",
            "           Conv2d-27             [-1, 32, 3, 3]           4,608\n",
            "             ReLU-28             [-1, 32, 3, 3]               0\n",
            "      BatchNorm2d-29             [-1, 32, 3, 3]              64\n",
            "        Dropout2d-30             [-1, 32, 3, 3]               0\n",
            "           Conv2d-31             [-1, 10, 3, 3]             320\n",
            "        AvgPool2d-32             [-1, 10, 1, 1]               0\n",
            "================================================================\n",
            "Total params: 17,392\n",
            "Trainable params: 17,392\n",
            "Non-trainable params: 0\n",
            "----------------------------------------------------------------\n",
            "Input size (MB): 0.00\n",
            "Forward/backward pass size (MB): 1.18\n",
            "Params size (MB): 0.07\n",
            "Estimated Total Size (MB): 1.24\n",
            "----------------------------------------------------------------\n"
          ],
          "name": "stdout"
        },
        {
          "output_type": "stream",
          "text": [
            "/usr/local/lib/python3.6/dist-packages/ipykernel_launcher.py:79: UserWarning: Implicit dimension choice for log_softmax has been deprecated. Change the call to include dim=X as an argument.\n"
          ],
          "name": "stderr"
        }
      ]
    },
    {
      "cell_type": "code",
      "metadata": {
        "id": "DqTWLaM5GHgH"
      },
      "source": [
        "\n",
        "\n",
        "torch.manual_seed(1)\n",
        "batch_size = 128\n",
        "\n",
        "kwargs = {'num_workers': 1, 'pin_memory': True} if use_cuda else {}\n",
        "train_loader = torch.utils.data.DataLoader(\n",
        "    datasets.MNIST('../data', train=True, download=True,\n",
        "                    transform=transforms.Compose([\n",
        "                        transforms.ToTensor(),\n",
        "                        transforms.Normalize((0.1307,), (0.3081,))\n",
        "                    ])),\n",
        "    batch_size=batch_size, shuffle=True, **kwargs)\n",
        "test_loader = torch.utils.data.DataLoader(\n",
        "    datasets.MNIST('../data', train=False, transform=transforms.Compose([\n",
        "                        transforms.ToTensor(),\n",
        "                        transforms.Normalize((0.1307,), (0.3081,))\n",
        "                    ])),\n",
        "    batch_size=batch_size, shuffle=True, **kwargs)\n"
      ],
      "execution_count": 67,
      "outputs": []
    },
    {
      "cell_type": "code",
      "metadata": {
        "id": "8fDefDhaFlwH"
      },
      "source": [
        "from tqdm import tqdm\n",
        "def train(model, device, train_loader, optimizer, epoch):\n",
        "    model.train()\n",
        "    pbar = tqdm(train_loader)\n",
        "    for batch_idx, (data, target) in enumerate(pbar):\n",
        "        data, target = data.to(device), target.to(device)\n",
        "        optimizer.zero_grad()\n",
        "        output = model(data)\n",
        "        loss = F.nll_loss(output, target)\n",
        "        loss.backward()\n",
        "        optimizer.step()\n",
        "        pbar.set_description(desc= f'loss={loss.item()} batch_id={batch_idx}')\n",
        "        tqdm._instances.clear()\n",
        "\n",
        "\n",
        "def test(model, device, test_loader):\n",
        "    model.eval()\n",
        "    test_loss = 0\n",
        "    correct = 0\n",
        "    with torch.no_grad():\n",
        "        for data, target in test_loader:\n",
        "            data, target = data.to(device), target.to(device)\n",
        "            output = model(data)\n",
        "            test_loss += F.nll_loss(output, target, reduction='sum').item()  # sum up batch loss\n",
        "            pred = output.argmax(dim=1, keepdim=True)  # get the index of the max log-probability\n",
        "            correct += pred.eq(target.view_as(pred)).sum().item()\n",
        "\n",
        "    test_loss /= len(test_loader.dataset)\n",
        "\n",
        "    print('\\nTest set: Average loss: {:.4f}, Accuracy: {}/{} ({:.2f}%)\\n'.format(\n",
        "        test_loss, correct, len(test_loader.dataset),\n",
        "        100. * correct / len(test_loader.dataset)))"
      ],
      "execution_count": 68,
      "outputs": []
    },
    {
      "cell_type": "code",
      "metadata": {
        "colab": {
          "base_uri": "https://localhost:8080/"
        },
        "id": "MMWbLWO6FuHb",
        "outputId": "069dea74-5e46-43dc-d34b-aee263838d21"
      },
      "source": [
        "\n",
        "model = Net().to(device)\n",
        "optimizer = optim.SGD(model.parameters(), lr=0.01, momentum=0.9)\n",
        "\n",
        "for epoch in range(1, 20):\n",
        "    print('\\nEpoch {} : '.format(epoch))\n",
        "    train(model, device, train_loader, optimizer, epoch)\n",
        "    test(model, device, test_loader)"
      ],
      "execution_count": 69,
      "outputs": [
        {
          "output_type": "stream",
          "text": [
            "\r  0%|          | 0/469 [00:00<?, ?it/s]"
          ],
          "name": "stderr"
        },
        {
          "output_type": "stream",
          "text": [
            "\n",
            "Epoch 1 : \n"
          ],
          "name": "stdout"
        },
        {
          "output_type": "stream",
          "text": [
            "/usr/local/lib/python3.6/dist-packages/ipykernel_launcher.py:79: UserWarning: Implicit dimension choice for log_softmax has been deprecated. Change the call to include dim=X as an argument.\n",
            "loss=0.15373198688030243 batch_id=468: 100%|██████████| 469/469 [00:14<00:00, 32.81it/s]\n",
            "  0%|          | 0/469 [00:00<?, ?it/s]"
          ],
          "name": "stderr"
        },
        {
          "output_type": "stream",
          "text": [
            "\n",
            "Test set: Average loss: 0.0583, Accuracy: 9830/10000 (98.30%)\n",
            "\n",
            "\n",
            "Epoch 2 : \n"
          ],
          "name": "stdout"
        },
        {
          "output_type": "stream",
          "text": [
            "loss=0.1574583202600479 batch_id=468: 100%|██████████| 469/469 [00:14<00:00, 33.15it/s]\n",
            "  0%|          | 0/469 [00:00<?, ?it/s]"
          ],
          "name": "stderr"
        },
        {
          "output_type": "stream",
          "text": [
            "\n",
            "Test set: Average loss: 0.0411, Accuracy: 9873/10000 (98.73%)\n",
            "\n",
            "\n",
            "Epoch 3 : \n"
          ],
          "name": "stdout"
        },
        {
          "output_type": "stream",
          "text": [
            "loss=0.06953919678926468 batch_id=468: 100%|██████████| 469/469 [00:14<00:00, 32.71it/s]\n",
            "  0%|          | 0/469 [00:00<?, ?it/s]"
          ],
          "name": "stderr"
        },
        {
          "output_type": "stream",
          "text": [
            "\n",
            "Test set: Average loss: 0.0320, Accuracy: 9907/10000 (99.07%)\n",
            "\n",
            "\n",
            "Epoch 4 : \n"
          ],
          "name": "stdout"
        },
        {
          "output_type": "stream",
          "text": [
            "loss=0.054636579006910324 batch_id=468: 100%|██████████| 469/469 [00:14<00:00, 32.69it/s]\n",
            "  0%|          | 0/469 [00:00<?, ?it/s]"
          ],
          "name": "stderr"
        },
        {
          "output_type": "stream",
          "text": [
            "\n",
            "Test set: Average loss: 0.0284, Accuracy: 9911/10000 (99.11%)\n",
            "\n",
            "\n",
            "Epoch 5 : \n"
          ],
          "name": "stdout"
        },
        {
          "output_type": "stream",
          "text": [
            "loss=0.15699239075183868 batch_id=468: 100%|██████████| 469/469 [00:14<00:00, 32.58it/s]\n",
            "  0%|          | 0/469 [00:00<?, ?it/s]"
          ],
          "name": "stderr"
        },
        {
          "output_type": "stream",
          "text": [
            "\n",
            "Test set: Average loss: 0.0285, Accuracy: 9902/10000 (99.02%)\n",
            "\n",
            "\n",
            "Epoch 6 : \n"
          ],
          "name": "stdout"
        },
        {
          "output_type": "stream",
          "text": [
            "loss=0.03671620786190033 batch_id=468: 100%|██████████| 469/469 [00:14<00:00, 32.74it/s]\n",
            "  0%|          | 0/469 [00:00<?, ?it/s]"
          ],
          "name": "stderr"
        },
        {
          "output_type": "stream",
          "text": [
            "\n",
            "Test set: Average loss: 0.0244, Accuracy: 9923/10000 (99.23%)\n",
            "\n",
            "\n",
            "Epoch 7 : \n"
          ],
          "name": "stdout"
        },
        {
          "output_type": "stream",
          "text": [
            "loss=0.10490930825471878 batch_id=468: 100%|██████████| 469/469 [00:14<00:00, 32.68it/s]\n",
            "  0%|          | 0/469 [00:00<?, ?it/s]"
          ],
          "name": "stderr"
        },
        {
          "output_type": "stream",
          "text": [
            "\n",
            "Test set: Average loss: 0.0221, Accuracy: 9937/10000 (99.37%)\n",
            "\n",
            "\n",
            "Epoch 8 : \n"
          ],
          "name": "stdout"
        },
        {
          "output_type": "stream",
          "text": [
            "loss=0.07315364480018616 batch_id=468: 100%|██████████| 469/469 [00:14<00:00, 32.56it/s]\n",
            "  0%|          | 0/469 [00:00<?, ?it/s]"
          ],
          "name": "stderr"
        },
        {
          "output_type": "stream",
          "text": [
            "\n",
            "Test set: Average loss: 0.0204, Accuracy: 9934/10000 (99.34%)\n",
            "\n",
            "\n",
            "Epoch 9 : \n"
          ],
          "name": "stdout"
        },
        {
          "output_type": "stream",
          "text": [
            "loss=0.01604723371565342 batch_id=468: 100%|██████████| 469/469 [00:14<00:00, 32.56it/s]\n",
            "  0%|          | 0/469 [00:00<?, ?it/s]"
          ],
          "name": "stderr"
        },
        {
          "output_type": "stream",
          "text": [
            "\n",
            "Test set: Average loss: 0.0218, Accuracy: 9930/10000 (99.30%)\n",
            "\n",
            "\n",
            "Epoch 10 : \n"
          ],
          "name": "stdout"
        },
        {
          "output_type": "stream",
          "text": [
            "loss=0.03279125317931175 batch_id=468: 100%|██████████| 469/469 [00:14<00:00, 32.39it/s]\n",
            "  0%|          | 0/469 [00:00<?, ?it/s]"
          ],
          "name": "stderr"
        },
        {
          "output_type": "stream",
          "text": [
            "\n",
            "Test set: Average loss: 0.0209, Accuracy: 9927/10000 (99.27%)\n",
            "\n",
            "\n",
            "Epoch 11 : \n"
          ],
          "name": "stdout"
        },
        {
          "output_type": "stream",
          "text": [
            "loss=0.008071278221905231 batch_id=468: 100%|██████████| 469/469 [00:14<00:00, 32.08it/s]\n",
            "  0%|          | 0/469 [00:00<?, ?it/s]"
          ],
          "name": "stderr"
        },
        {
          "output_type": "stream",
          "text": [
            "\n",
            "Test set: Average loss: 0.0204, Accuracy: 9931/10000 (99.31%)\n",
            "\n",
            "\n",
            "Epoch 12 : \n"
          ],
          "name": "stdout"
        },
        {
          "output_type": "stream",
          "text": [
            "loss=0.04712295904755592 batch_id=468: 100%|██████████| 469/469 [00:14<00:00, 32.14it/s]\n",
            "  0%|          | 0/469 [00:00<?, ?it/s]"
          ],
          "name": "stderr"
        },
        {
          "output_type": "stream",
          "text": [
            "\n",
            "Test set: Average loss: 0.0244, Accuracy: 9923/10000 (99.23%)\n",
            "\n",
            "\n",
            "Epoch 13 : \n"
          ],
          "name": "stdout"
        },
        {
          "output_type": "stream",
          "text": [
            "loss=0.04689441993832588 batch_id=468: 100%|██████████| 469/469 [00:14<00:00, 32.09it/s]\n",
            "  0%|          | 0/469 [00:00<?, ?it/s]"
          ],
          "name": "stderr"
        },
        {
          "output_type": "stream",
          "text": [
            "\n",
            "Test set: Average loss: 0.0192, Accuracy: 9934/10000 (99.34%)\n",
            "\n",
            "\n",
            "Epoch 14 : \n"
          ],
          "name": "stdout"
        },
        {
          "output_type": "stream",
          "text": [
            "loss=0.013911074958741665 batch_id=468: 100%|██████████| 469/469 [00:14<00:00, 32.34it/s]\n",
            "  0%|          | 0/469 [00:00<?, ?it/s]"
          ],
          "name": "stderr"
        },
        {
          "output_type": "stream",
          "text": [
            "\n",
            "Test set: Average loss: 0.0202, Accuracy: 9933/10000 (99.33%)\n",
            "\n",
            "\n",
            "Epoch 15 : \n"
          ],
          "name": "stdout"
        },
        {
          "output_type": "stream",
          "text": [
            "loss=0.011045374907553196 batch_id=468: 100%|██████████| 469/469 [00:14<00:00, 31.88it/s]\n",
            "  0%|          | 0/469 [00:00<?, ?it/s]"
          ],
          "name": "stderr"
        },
        {
          "output_type": "stream",
          "text": [
            "\n",
            "Test set: Average loss: 0.0193, Accuracy: 9941/10000 (99.41%)\n",
            "\n",
            "\n",
            "Epoch 16 : \n"
          ],
          "name": "stdout"
        },
        {
          "output_type": "stream",
          "text": [
            "loss=0.007611522451043129 batch_id=468: 100%|██████████| 469/469 [00:14<00:00, 31.94it/s]\n",
            "  0%|          | 0/469 [00:00<?, ?it/s]"
          ],
          "name": "stderr"
        },
        {
          "output_type": "stream",
          "text": [
            "\n",
            "Test set: Average loss: 0.0167, Accuracy: 9945/10000 (99.45%)\n",
            "\n",
            "\n",
            "Epoch 17 : \n"
          ],
          "name": "stdout"
        },
        {
          "output_type": "stream",
          "text": [
            "loss=0.07214698940515518 batch_id=468: 100%|██████████| 469/469 [00:14<00:00, 31.31it/s]\n",
            "  0%|          | 0/469 [00:00<?, ?it/s]"
          ],
          "name": "stderr"
        },
        {
          "output_type": "stream",
          "text": [
            "\n",
            "Test set: Average loss: 0.0178, Accuracy: 9939/10000 (99.39%)\n",
            "\n",
            "\n",
            "Epoch 18 : \n"
          ],
          "name": "stdout"
        },
        {
          "output_type": "stream",
          "text": [
            "loss=0.012802723795175552 batch_id=468: 100%|██████████| 469/469 [00:15<00:00, 31.13it/s]\n",
            "  0%|          | 0/469 [00:00<?, ?it/s]"
          ],
          "name": "stderr"
        },
        {
          "output_type": "stream",
          "text": [
            "\n",
            "Test set: Average loss: 0.0167, Accuracy: 9949/10000 (99.49%)\n",
            "\n",
            "\n",
            "Epoch 19 : \n"
          ],
          "name": "stdout"
        },
        {
          "output_type": "stream",
          "text": [
            "loss=0.024139123037457466 batch_id=468: 100%|██████████| 469/469 [00:14<00:00, 31.40it/s]\n"
          ],
          "name": "stderr"
        },
        {
          "output_type": "stream",
          "text": [
            "\n",
            "Test set: Average loss: 0.0192, Accuracy: 9941/10000 (99.41%)\n",
            "\n"
          ],
          "name": "stdout"
        }
      ]
    },
    {
      "cell_type": "code",
      "metadata": {
        "id": "So5uk4EkHW6R"
      },
      "source": [
        ""
      ],
      "execution_count": 69,
      "outputs": []
    }
  ]
}