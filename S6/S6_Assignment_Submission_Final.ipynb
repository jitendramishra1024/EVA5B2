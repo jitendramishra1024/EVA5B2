{
  "nbformat": 4,
  "nbformat_minor": 0,
  "metadata": {
    "accelerator": "GPU",
    "colab": {
      "name": "S6_Assignment_Submission_Final.ipynb",
      "provenance": [],
      "collapsed_sections": [],
      "toc_visible": true
    },
    "kernelspec": {
      "display_name": "Python 3",
      "name": "python3"
    },
    "widgets": {
      "application/vnd.jupyter.widget-state+json": {
        "ed0a6b9181a94805b29bcc0e7c7fcc0b": {
          "model_module": "@jupyter-widgets/controls",
          "model_name": "HBoxModel",
          "state": {
            "_view_name": "HBoxView",
            "_dom_classes": [],
            "_model_name": "HBoxModel",
            "_view_module": "@jupyter-widgets/controls",
            "_model_module_version": "1.5.0",
            "_view_count": null,
            "_view_module_version": "1.5.0",
            "box_style": "",
            "layout": "IPY_MODEL_e8f0dee6c4a8411da727c083957b71f0",
            "_model_module": "@jupyter-widgets/controls",
            "children": [
              "IPY_MODEL_6984ad5536ad444ebc20d80f062ff580",
              "IPY_MODEL_1b4fdacaf40743a287c3e5df221c8775"
            ]
          }
        },
        "e8f0dee6c4a8411da727c083957b71f0": {
          "model_module": "@jupyter-widgets/base",
          "model_name": "LayoutModel",
          "state": {
            "_view_name": "LayoutView",
            "grid_template_rows": null,
            "right": null,
            "justify_content": null,
            "_view_module": "@jupyter-widgets/base",
            "overflow": null,
            "_model_module_version": "1.2.0",
            "_view_count": null,
            "flex_flow": null,
            "width": null,
            "min_width": null,
            "border": null,
            "align_items": null,
            "bottom": null,
            "_model_module": "@jupyter-widgets/base",
            "top": null,
            "grid_column": null,
            "overflow_y": null,
            "overflow_x": null,
            "grid_auto_flow": null,
            "grid_area": null,
            "grid_template_columns": null,
            "flex": null,
            "_model_name": "LayoutModel",
            "justify_items": null,
            "grid_row": null,
            "max_height": null,
            "align_content": null,
            "visibility": null,
            "align_self": null,
            "height": null,
            "min_height": null,
            "padding": null,
            "grid_auto_rows": null,
            "grid_gap": null,
            "max_width": null,
            "order": null,
            "_view_module_version": "1.2.0",
            "grid_template_areas": null,
            "object_position": null,
            "object_fit": null,
            "grid_auto_columns": null,
            "margin": null,
            "display": null,
            "left": null
          }
        },
        "6984ad5536ad444ebc20d80f062ff580": {
          "model_module": "@jupyter-widgets/controls",
          "model_name": "FloatProgressModel",
          "state": {
            "_view_name": "ProgressView",
            "style": "IPY_MODEL_6b0bfa1aabe544419062847e38fcc844",
            "_dom_classes": [],
            "description": "",
            "_model_name": "FloatProgressModel",
            "bar_style": "info",
            "max": 1,
            "_view_module": "@jupyter-widgets/controls",
            "_model_module_version": "1.5.0",
            "value": 1,
            "_view_count": null,
            "_view_module_version": "1.5.0",
            "orientation": "horizontal",
            "min": 0,
            "description_tooltip": null,
            "_model_module": "@jupyter-widgets/controls",
            "layout": "IPY_MODEL_517e6499f1ea44dfb66dc756ae45cb4f"
          }
        },
        "1b4fdacaf40743a287c3e5df221c8775": {
          "model_module": "@jupyter-widgets/controls",
          "model_name": "HTMLModel",
          "state": {
            "_view_name": "HTMLView",
            "style": "IPY_MODEL_00d73786172a45108a331e7986761b07",
            "_dom_classes": [],
            "description": "",
            "_model_name": "HTMLModel",
            "placeholder": "​",
            "_view_module": "@jupyter-widgets/controls",
            "_model_module_version": "1.5.0",
            "value": " 9920512/? [00:20&lt;00:00, 1048731.05it/s]",
            "_view_count": null,
            "_view_module_version": "1.5.0",
            "description_tooltip": null,
            "_model_module": "@jupyter-widgets/controls",
            "layout": "IPY_MODEL_57064259727c49ed91ca39e0309da43b"
          }
        },
        "6b0bfa1aabe544419062847e38fcc844": {
          "model_module": "@jupyter-widgets/controls",
          "model_name": "ProgressStyleModel",
          "state": {
            "_view_name": "StyleView",
            "_model_name": "ProgressStyleModel",
            "description_width": "initial",
            "_view_module": "@jupyter-widgets/base",
            "_model_module_version": "1.5.0",
            "_view_count": null,
            "_view_module_version": "1.2.0",
            "bar_color": null,
            "_model_module": "@jupyter-widgets/controls"
          }
        },
        "517e6499f1ea44dfb66dc756ae45cb4f": {
          "model_module": "@jupyter-widgets/base",
          "model_name": "LayoutModel",
          "state": {
            "_view_name": "LayoutView",
            "grid_template_rows": null,
            "right": null,
            "justify_content": null,
            "_view_module": "@jupyter-widgets/base",
            "overflow": null,
            "_model_module_version": "1.2.0",
            "_view_count": null,
            "flex_flow": null,
            "width": null,
            "min_width": null,
            "border": null,
            "align_items": null,
            "bottom": null,
            "_model_module": "@jupyter-widgets/base",
            "top": null,
            "grid_column": null,
            "overflow_y": null,
            "overflow_x": null,
            "grid_auto_flow": null,
            "grid_area": null,
            "grid_template_columns": null,
            "flex": null,
            "_model_name": "LayoutModel",
            "justify_items": null,
            "grid_row": null,
            "max_height": null,
            "align_content": null,
            "visibility": null,
            "align_self": null,
            "height": null,
            "min_height": null,
            "padding": null,
            "grid_auto_rows": null,
            "grid_gap": null,
            "max_width": null,
            "order": null,
            "_view_module_version": "1.2.0",
            "grid_template_areas": null,
            "object_position": null,
            "object_fit": null,
            "grid_auto_columns": null,
            "margin": null,
            "display": null,
            "left": null
          }
        },
        "00d73786172a45108a331e7986761b07": {
          "model_module": "@jupyter-widgets/controls",
          "model_name": "DescriptionStyleModel",
          "state": {
            "_view_name": "StyleView",
            "_model_name": "DescriptionStyleModel",
            "description_width": "",
            "_view_module": "@jupyter-widgets/base",
            "_model_module_version": "1.5.0",
            "_view_count": null,
            "_view_module_version": "1.2.0",
            "_model_module": "@jupyter-widgets/controls"
          }
        },
        "57064259727c49ed91ca39e0309da43b": {
          "model_module": "@jupyter-widgets/base",
          "model_name": "LayoutModel",
          "state": {
            "_view_name": "LayoutView",
            "grid_template_rows": null,
            "right": null,
            "justify_content": null,
            "_view_module": "@jupyter-widgets/base",
            "overflow": null,
            "_model_module_version": "1.2.0",
            "_view_count": null,
            "flex_flow": null,
            "width": null,
            "min_width": null,
            "border": null,
            "align_items": null,
            "bottom": null,
            "_model_module": "@jupyter-widgets/base",
            "top": null,
            "grid_column": null,
            "overflow_y": null,
            "overflow_x": null,
            "grid_auto_flow": null,
            "grid_area": null,
            "grid_template_columns": null,
            "flex": null,
            "_model_name": "LayoutModel",
            "justify_items": null,
            "grid_row": null,
            "max_height": null,
            "align_content": null,
            "visibility": null,
            "align_self": null,
            "height": null,
            "min_height": null,
            "padding": null,
            "grid_auto_rows": null,
            "grid_gap": null,
            "max_width": null,
            "order": null,
            "_view_module_version": "1.2.0",
            "grid_template_areas": null,
            "object_position": null,
            "object_fit": null,
            "grid_auto_columns": null,
            "margin": null,
            "display": null,
            "left": null
          }
        },
        "9ae845b2e3954c8db4d68e059f821ce2": {
          "model_module": "@jupyter-widgets/controls",
          "model_name": "HBoxModel",
          "state": {
            "_view_name": "HBoxView",
            "_dom_classes": [],
            "_model_name": "HBoxModel",
            "_view_module": "@jupyter-widgets/controls",
            "_model_module_version": "1.5.0",
            "_view_count": null,
            "_view_module_version": "1.5.0",
            "box_style": "",
            "layout": "IPY_MODEL_8f0ed6d2277a4651961b8de100e9f9d5",
            "_model_module": "@jupyter-widgets/controls",
            "children": [
              "IPY_MODEL_242cc3cb641e4df182d5e2e60b9baa95",
              "IPY_MODEL_47937994c4ed4e259fdb801ada5711ba"
            ]
          }
        },
        "8f0ed6d2277a4651961b8de100e9f9d5": {
          "model_module": "@jupyter-widgets/base",
          "model_name": "LayoutModel",
          "state": {
            "_view_name": "LayoutView",
            "grid_template_rows": null,
            "right": null,
            "justify_content": null,
            "_view_module": "@jupyter-widgets/base",
            "overflow": null,
            "_model_module_version": "1.2.0",
            "_view_count": null,
            "flex_flow": null,
            "width": null,
            "min_width": null,
            "border": null,
            "align_items": null,
            "bottom": null,
            "_model_module": "@jupyter-widgets/base",
            "top": null,
            "grid_column": null,
            "overflow_y": null,
            "overflow_x": null,
            "grid_auto_flow": null,
            "grid_area": null,
            "grid_template_columns": null,
            "flex": null,
            "_model_name": "LayoutModel",
            "justify_items": null,
            "grid_row": null,
            "max_height": null,
            "align_content": null,
            "visibility": null,
            "align_self": null,
            "height": null,
            "min_height": null,
            "padding": null,
            "grid_auto_rows": null,
            "grid_gap": null,
            "max_width": null,
            "order": null,
            "_view_module_version": "1.2.0",
            "grid_template_areas": null,
            "object_position": null,
            "object_fit": null,
            "grid_auto_columns": null,
            "margin": null,
            "display": null,
            "left": null
          }
        },
        "242cc3cb641e4df182d5e2e60b9baa95": {
          "model_module": "@jupyter-widgets/controls",
          "model_name": "FloatProgressModel",
          "state": {
            "_view_name": "ProgressView",
            "style": "IPY_MODEL_755b31f6dd424ff8a5f5020acd29066a",
            "_dom_classes": [],
            "description": "",
            "_model_name": "FloatProgressModel",
            "bar_style": "success",
            "max": 1,
            "_view_module": "@jupyter-widgets/controls",
            "_model_module_version": "1.5.0",
            "value": 1,
            "_view_count": null,
            "_view_module_version": "1.5.0",
            "orientation": "horizontal",
            "min": 0,
            "description_tooltip": null,
            "_model_module": "@jupyter-widgets/controls",
            "layout": "IPY_MODEL_73dd40c188f44cb4ad1bbfe164421366"
          }
        },
        "47937994c4ed4e259fdb801ada5711ba": {
          "model_module": "@jupyter-widgets/controls",
          "model_name": "HTMLModel",
          "state": {
            "_view_name": "HTMLView",
            "style": "IPY_MODEL_ea7831438db04b29bda4095fcbd773f0",
            "_dom_classes": [],
            "description": "",
            "_model_name": "HTMLModel",
            "placeholder": "​",
            "_view_module": "@jupyter-widgets/controls",
            "_model_module_version": "1.5.0",
            "value": " 32768/? [00:00&lt;00:00, 121517.70it/s]",
            "_view_count": null,
            "_view_module_version": "1.5.0",
            "description_tooltip": null,
            "_model_module": "@jupyter-widgets/controls",
            "layout": "IPY_MODEL_7faac537e2e341218e4d633f4a22a69e"
          }
        },
        "755b31f6dd424ff8a5f5020acd29066a": {
          "model_module": "@jupyter-widgets/controls",
          "model_name": "ProgressStyleModel",
          "state": {
            "_view_name": "StyleView",
            "_model_name": "ProgressStyleModel",
            "description_width": "initial",
            "_view_module": "@jupyter-widgets/base",
            "_model_module_version": "1.5.0",
            "_view_count": null,
            "_view_module_version": "1.2.0",
            "bar_color": null,
            "_model_module": "@jupyter-widgets/controls"
          }
        },
        "73dd40c188f44cb4ad1bbfe164421366": {
          "model_module": "@jupyter-widgets/base",
          "model_name": "LayoutModel",
          "state": {
            "_view_name": "LayoutView",
            "grid_template_rows": null,
            "right": null,
            "justify_content": null,
            "_view_module": "@jupyter-widgets/base",
            "overflow": null,
            "_model_module_version": "1.2.0",
            "_view_count": null,
            "flex_flow": null,
            "width": null,
            "min_width": null,
            "border": null,
            "align_items": null,
            "bottom": null,
            "_model_module": "@jupyter-widgets/base",
            "top": null,
            "grid_column": null,
            "overflow_y": null,
            "overflow_x": null,
            "grid_auto_flow": null,
            "grid_area": null,
            "grid_template_columns": null,
            "flex": null,
            "_model_name": "LayoutModel",
            "justify_items": null,
            "grid_row": null,
            "max_height": null,
            "align_content": null,
            "visibility": null,
            "align_self": null,
            "height": null,
            "min_height": null,
            "padding": null,
            "grid_auto_rows": null,
            "grid_gap": null,
            "max_width": null,
            "order": null,
            "_view_module_version": "1.2.0",
            "grid_template_areas": null,
            "object_position": null,
            "object_fit": null,
            "grid_auto_columns": null,
            "margin": null,
            "display": null,
            "left": null
          }
        },
        "ea7831438db04b29bda4095fcbd773f0": {
          "model_module": "@jupyter-widgets/controls",
          "model_name": "DescriptionStyleModel",
          "state": {
            "_view_name": "StyleView",
            "_model_name": "DescriptionStyleModel",
            "description_width": "",
            "_view_module": "@jupyter-widgets/base",
            "_model_module_version": "1.5.0",
            "_view_count": null,
            "_view_module_version": "1.2.0",
            "_model_module": "@jupyter-widgets/controls"
          }
        },
        "7faac537e2e341218e4d633f4a22a69e": {
          "model_module": "@jupyter-widgets/base",
          "model_name": "LayoutModel",
          "state": {
            "_view_name": "LayoutView",
            "grid_template_rows": null,
            "right": null,
            "justify_content": null,
            "_view_module": "@jupyter-widgets/base",
            "overflow": null,
            "_model_module_version": "1.2.0",
            "_view_count": null,
            "flex_flow": null,
            "width": null,
            "min_width": null,
            "border": null,
            "align_items": null,
            "bottom": null,
            "_model_module": "@jupyter-widgets/base",
            "top": null,
            "grid_column": null,
            "overflow_y": null,
            "overflow_x": null,
            "grid_auto_flow": null,
            "grid_area": null,
            "grid_template_columns": null,
            "flex": null,
            "_model_name": "LayoutModel",
            "justify_items": null,
            "grid_row": null,
            "max_height": null,
            "align_content": null,
            "visibility": null,
            "align_self": null,
            "height": null,
            "min_height": null,
            "padding": null,
            "grid_auto_rows": null,
            "grid_gap": null,
            "max_width": null,
            "order": null,
            "_view_module_version": "1.2.0",
            "grid_template_areas": null,
            "object_position": null,
            "object_fit": null,
            "grid_auto_columns": null,
            "margin": null,
            "display": null,
            "left": null
          }
        },
        "34291acfff3f42ee9ff31f480c97935b": {
          "model_module": "@jupyter-widgets/controls",
          "model_name": "HBoxModel",
          "state": {
            "_view_name": "HBoxView",
            "_dom_classes": [],
            "_model_name": "HBoxModel",
            "_view_module": "@jupyter-widgets/controls",
            "_model_module_version": "1.5.0",
            "_view_count": null,
            "_view_module_version": "1.5.0",
            "box_style": "",
            "layout": "IPY_MODEL_5626769f588b45a2b9b6e676bdaeeb97",
            "_model_module": "@jupyter-widgets/controls",
            "children": [
              "IPY_MODEL_d1ce986e79d04225a2cb5d6be96ac070",
              "IPY_MODEL_00af161442db45f7be20b8f5f4f2a649"
            ]
          }
        },
        "5626769f588b45a2b9b6e676bdaeeb97": {
          "model_module": "@jupyter-widgets/base",
          "model_name": "LayoutModel",
          "state": {
            "_view_name": "LayoutView",
            "grid_template_rows": null,
            "right": null,
            "justify_content": null,
            "_view_module": "@jupyter-widgets/base",
            "overflow": null,
            "_model_module_version": "1.2.0",
            "_view_count": null,
            "flex_flow": null,
            "width": null,
            "min_width": null,
            "border": null,
            "align_items": null,
            "bottom": null,
            "_model_module": "@jupyter-widgets/base",
            "top": null,
            "grid_column": null,
            "overflow_y": null,
            "overflow_x": null,
            "grid_auto_flow": null,
            "grid_area": null,
            "grid_template_columns": null,
            "flex": null,
            "_model_name": "LayoutModel",
            "justify_items": null,
            "grid_row": null,
            "max_height": null,
            "align_content": null,
            "visibility": null,
            "align_self": null,
            "height": null,
            "min_height": null,
            "padding": null,
            "grid_auto_rows": null,
            "grid_gap": null,
            "max_width": null,
            "order": null,
            "_view_module_version": "1.2.0",
            "grid_template_areas": null,
            "object_position": null,
            "object_fit": null,
            "grid_auto_columns": null,
            "margin": null,
            "display": null,
            "left": null
          }
        },
        "d1ce986e79d04225a2cb5d6be96ac070": {
          "model_module": "@jupyter-widgets/controls",
          "model_name": "FloatProgressModel",
          "state": {
            "_view_name": "ProgressView",
            "style": "IPY_MODEL_5cf7f35be1fa412dbaa0d980120817b6",
            "_dom_classes": [],
            "description": "",
            "_model_name": "FloatProgressModel",
            "bar_style": "info",
            "max": 1,
            "_view_module": "@jupyter-widgets/controls",
            "_model_module_version": "1.5.0",
            "value": 1,
            "_view_count": null,
            "_view_module_version": "1.5.0",
            "orientation": "horizontal",
            "min": 0,
            "description_tooltip": null,
            "_model_module": "@jupyter-widgets/controls",
            "layout": "IPY_MODEL_5afaa85eee81405288d94349d3d20547"
          }
        },
        "00af161442db45f7be20b8f5f4f2a649": {
          "model_module": "@jupyter-widgets/controls",
          "model_name": "HTMLModel",
          "state": {
            "_view_name": "HTMLView",
            "style": "IPY_MODEL_492e9013e30a44fda05a304551ae8efb",
            "_dom_classes": [],
            "description": "",
            "_model_name": "HTMLModel",
            "placeholder": "​",
            "_view_module": "@jupyter-widgets/controls",
            "_model_module_version": "1.5.0",
            "value": " 1654784/? [00:18&lt;00:00, 523760.54it/s]",
            "_view_count": null,
            "_view_module_version": "1.5.0",
            "description_tooltip": null,
            "_model_module": "@jupyter-widgets/controls",
            "layout": "IPY_MODEL_ed3dd75161b640fb8cc61b2c03fde535"
          }
        },
        "5cf7f35be1fa412dbaa0d980120817b6": {
          "model_module": "@jupyter-widgets/controls",
          "model_name": "ProgressStyleModel",
          "state": {
            "_view_name": "StyleView",
            "_model_name": "ProgressStyleModel",
            "description_width": "initial",
            "_view_module": "@jupyter-widgets/base",
            "_model_module_version": "1.5.0",
            "_view_count": null,
            "_view_module_version": "1.2.0",
            "bar_color": null,
            "_model_module": "@jupyter-widgets/controls"
          }
        },
        "5afaa85eee81405288d94349d3d20547": {
          "model_module": "@jupyter-widgets/base",
          "model_name": "LayoutModel",
          "state": {
            "_view_name": "LayoutView",
            "grid_template_rows": null,
            "right": null,
            "justify_content": null,
            "_view_module": "@jupyter-widgets/base",
            "overflow": null,
            "_model_module_version": "1.2.0",
            "_view_count": null,
            "flex_flow": null,
            "width": null,
            "min_width": null,
            "border": null,
            "align_items": null,
            "bottom": null,
            "_model_module": "@jupyter-widgets/base",
            "top": null,
            "grid_column": null,
            "overflow_y": null,
            "overflow_x": null,
            "grid_auto_flow": null,
            "grid_area": null,
            "grid_template_columns": null,
            "flex": null,
            "_model_name": "LayoutModel",
            "justify_items": null,
            "grid_row": null,
            "max_height": null,
            "align_content": null,
            "visibility": null,
            "align_self": null,
            "height": null,
            "min_height": null,
            "padding": null,
            "grid_auto_rows": null,
            "grid_gap": null,
            "max_width": null,
            "order": null,
            "_view_module_version": "1.2.0",
            "grid_template_areas": null,
            "object_position": null,
            "object_fit": null,
            "grid_auto_columns": null,
            "margin": null,
            "display": null,
            "left": null
          }
        },
        "492e9013e30a44fda05a304551ae8efb": {
          "model_module": "@jupyter-widgets/controls",
          "model_name": "DescriptionStyleModel",
          "state": {
            "_view_name": "StyleView",
            "_model_name": "DescriptionStyleModel",
            "description_width": "",
            "_view_module": "@jupyter-widgets/base",
            "_model_module_version": "1.5.0",
            "_view_count": null,
            "_view_module_version": "1.2.0",
            "_model_module": "@jupyter-widgets/controls"
          }
        },
        "ed3dd75161b640fb8cc61b2c03fde535": {
          "model_module": "@jupyter-widgets/base",
          "model_name": "LayoutModel",
          "state": {
            "_view_name": "LayoutView",
            "grid_template_rows": null,
            "right": null,
            "justify_content": null,
            "_view_module": "@jupyter-widgets/base",
            "overflow": null,
            "_model_module_version": "1.2.0",
            "_view_count": null,
            "flex_flow": null,
            "width": null,
            "min_width": null,
            "border": null,
            "align_items": null,
            "bottom": null,
            "_model_module": "@jupyter-widgets/base",
            "top": null,
            "grid_column": null,
            "overflow_y": null,
            "overflow_x": null,
            "grid_auto_flow": null,
            "grid_area": null,
            "grid_template_columns": null,
            "flex": null,
            "_model_name": "LayoutModel",
            "justify_items": null,
            "grid_row": null,
            "max_height": null,
            "align_content": null,
            "visibility": null,
            "align_self": null,
            "height": null,
            "min_height": null,
            "padding": null,
            "grid_auto_rows": null,
            "grid_gap": null,
            "max_width": null,
            "order": null,
            "_view_module_version": "1.2.0",
            "grid_template_areas": null,
            "object_position": null,
            "object_fit": null,
            "grid_auto_columns": null,
            "margin": null,
            "display": null,
            "left": null
          }
        },
        "4aec2af3f6c740e2b1a3e151d044660e": {
          "model_module": "@jupyter-widgets/controls",
          "model_name": "HBoxModel",
          "state": {
            "_view_name": "HBoxView",
            "_dom_classes": [],
            "_model_name": "HBoxModel",
            "_view_module": "@jupyter-widgets/controls",
            "_model_module_version": "1.5.0",
            "_view_count": null,
            "_view_module_version": "1.5.0",
            "box_style": "",
            "layout": "IPY_MODEL_5104682c9f12469d8c8bf8aef4a19c5e",
            "_model_module": "@jupyter-widgets/controls",
            "children": [
              "IPY_MODEL_bf268bf01dec431091db2700eb4d1dbb",
              "IPY_MODEL_d62a42f948d5457db5ae48143ce009ea"
            ]
          }
        },
        "5104682c9f12469d8c8bf8aef4a19c5e": {
          "model_module": "@jupyter-widgets/base",
          "model_name": "LayoutModel",
          "state": {
            "_view_name": "LayoutView",
            "grid_template_rows": null,
            "right": null,
            "justify_content": null,
            "_view_module": "@jupyter-widgets/base",
            "overflow": null,
            "_model_module_version": "1.2.0",
            "_view_count": null,
            "flex_flow": null,
            "width": null,
            "min_width": null,
            "border": null,
            "align_items": null,
            "bottom": null,
            "_model_module": "@jupyter-widgets/base",
            "top": null,
            "grid_column": null,
            "overflow_y": null,
            "overflow_x": null,
            "grid_auto_flow": null,
            "grid_area": null,
            "grid_template_columns": null,
            "flex": null,
            "_model_name": "LayoutModel",
            "justify_items": null,
            "grid_row": null,
            "max_height": null,
            "align_content": null,
            "visibility": null,
            "align_self": null,
            "height": null,
            "min_height": null,
            "padding": null,
            "grid_auto_rows": null,
            "grid_gap": null,
            "max_width": null,
            "order": null,
            "_view_module_version": "1.2.0",
            "grid_template_areas": null,
            "object_position": null,
            "object_fit": null,
            "grid_auto_columns": null,
            "margin": null,
            "display": null,
            "left": null
          }
        },
        "bf268bf01dec431091db2700eb4d1dbb": {
          "model_module": "@jupyter-widgets/controls",
          "model_name": "FloatProgressModel",
          "state": {
            "_view_name": "ProgressView",
            "style": "IPY_MODEL_28e163aac0794b36bfb760f682bda8e7",
            "_dom_classes": [],
            "description": "",
            "_model_name": "FloatProgressModel",
            "bar_style": "success",
            "max": 1,
            "_view_module": "@jupyter-widgets/controls",
            "_model_module_version": "1.5.0",
            "value": 1,
            "_view_count": null,
            "_view_module_version": "1.5.0",
            "orientation": "horizontal",
            "min": 0,
            "description_tooltip": null,
            "_model_module": "@jupyter-widgets/controls",
            "layout": "IPY_MODEL_fb43ad0ffbc9425c8a18f27feafbe1bf"
          }
        },
        "d62a42f948d5457db5ae48143ce009ea": {
          "model_module": "@jupyter-widgets/controls",
          "model_name": "HTMLModel",
          "state": {
            "_view_name": "HTMLView",
            "style": "IPY_MODEL_a8ce08ff76ac431c8a07e8717abbae54",
            "_dom_classes": [],
            "description": "",
            "_model_name": "HTMLModel",
            "placeholder": "​",
            "_view_module": "@jupyter-widgets/controls",
            "_model_module_version": "1.5.0",
            "value": " 8192/? [00:00&lt;00:00, 16049.17it/s]",
            "_view_count": null,
            "_view_module_version": "1.5.0",
            "description_tooltip": null,
            "_model_module": "@jupyter-widgets/controls",
            "layout": "IPY_MODEL_6c1bb4c10e9a43c388e30459fc135d22"
          }
        },
        "28e163aac0794b36bfb760f682bda8e7": {
          "model_module": "@jupyter-widgets/controls",
          "model_name": "ProgressStyleModel",
          "state": {
            "_view_name": "StyleView",
            "_model_name": "ProgressStyleModel",
            "description_width": "initial",
            "_view_module": "@jupyter-widgets/base",
            "_model_module_version": "1.5.0",
            "_view_count": null,
            "_view_module_version": "1.2.0",
            "bar_color": null,
            "_model_module": "@jupyter-widgets/controls"
          }
        },
        "fb43ad0ffbc9425c8a18f27feafbe1bf": {
          "model_module": "@jupyter-widgets/base",
          "model_name": "LayoutModel",
          "state": {
            "_view_name": "LayoutView",
            "grid_template_rows": null,
            "right": null,
            "justify_content": null,
            "_view_module": "@jupyter-widgets/base",
            "overflow": null,
            "_model_module_version": "1.2.0",
            "_view_count": null,
            "flex_flow": null,
            "width": null,
            "min_width": null,
            "border": null,
            "align_items": null,
            "bottom": null,
            "_model_module": "@jupyter-widgets/base",
            "top": null,
            "grid_column": null,
            "overflow_y": null,
            "overflow_x": null,
            "grid_auto_flow": null,
            "grid_area": null,
            "grid_template_columns": null,
            "flex": null,
            "_model_name": "LayoutModel",
            "justify_items": null,
            "grid_row": null,
            "max_height": null,
            "align_content": null,
            "visibility": null,
            "align_self": null,
            "height": null,
            "min_height": null,
            "padding": null,
            "grid_auto_rows": null,
            "grid_gap": null,
            "max_width": null,
            "order": null,
            "_view_module_version": "1.2.0",
            "grid_template_areas": null,
            "object_position": null,
            "object_fit": null,
            "grid_auto_columns": null,
            "margin": null,
            "display": null,
            "left": null
          }
        },
        "a8ce08ff76ac431c8a07e8717abbae54": {
          "model_module": "@jupyter-widgets/controls",
          "model_name": "DescriptionStyleModel",
          "state": {
            "_view_name": "StyleView",
            "_model_name": "DescriptionStyleModel",
            "description_width": "",
            "_view_module": "@jupyter-widgets/base",
            "_model_module_version": "1.5.0",
            "_view_count": null,
            "_view_module_version": "1.2.0",
            "_model_module": "@jupyter-widgets/controls"
          }
        },
        "6c1bb4c10e9a43c388e30459fc135d22": {
          "model_module": "@jupyter-widgets/base",
          "model_name": "LayoutModel",
          "state": {
            "_view_name": "LayoutView",
            "grid_template_rows": null,
            "right": null,
            "justify_content": null,
            "_view_module": "@jupyter-widgets/base",
            "overflow": null,
            "_model_module_version": "1.2.0",
            "_view_count": null,
            "flex_flow": null,
            "width": null,
            "min_width": null,
            "border": null,
            "align_items": null,
            "bottom": null,
            "_model_module": "@jupyter-widgets/base",
            "top": null,
            "grid_column": null,
            "overflow_y": null,
            "overflow_x": null,
            "grid_auto_flow": null,
            "grid_area": null,
            "grid_template_columns": null,
            "flex": null,
            "_model_name": "LayoutModel",
            "justify_items": null,
            "grid_row": null,
            "max_height": null,
            "align_content": null,
            "visibility": null,
            "align_self": null,
            "height": null,
            "min_height": null,
            "padding": null,
            "grid_auto_rows": null,
            "grid_gap": null,
            "max_width": null,
            "order": null,
            "_view_module_version": "1.2.0",
            "grid_template_areas": null,
            "object_position": null,
            "object_fit": null,
            "grid_auto_columns": null,
            "margin": null,
            "display": null,
            "left": null
          }
        }
      }
    }
  },
  "cells": [
    {
      "cell_type": "markdown",
      "metadata": {
        "id": "rzTq_XCRSydb"
      },
      "source": [
        "Your assignment 6 is to take your best 5th code, and run below versions for 25 epochs and report findings:\r\n",
        "\r\n",
        "1.with L1 + BN\r\n",
        "\r\n",
        "2.with L2 + BN\r\n",
        "\r\n",
        "3.with L1 and L2 with BN\r\n",
        "\r\n",
        "4.with GBN\r\n",
        "\r\n",
        "5.with L1 and L2 with GBN\r\n"
      ]
    },
    {
      "cell_type": "code",
      "metadata": {
        "id": "UUXo27N7SV07"
      },
      "source": [
        "# Import Libraries"
      ],
      "execution_count": 1,
      "outputs": []
    },
    {
      "cell_type": "code",
      "metadata": {
        "id": "8kH16rnZ7wt_"
      },
      "source": [
        "from __future__ import print_function\n",
        "import torch\n",
        "import torch.nn as nn\n",
        "import torch.nn.functional as F\n",
        "import torch.optim as optim\n",
        "from torchvision import datasets, transforms\n",
        "import warnings\n",
        "warnings.filterwarnings('ignore')"
      ],
      "execution_count": 2,
      "outputs": []
    },
    {
      "cell_type": "code",
      "metadata": {
        "id": "AH4UlpKeST4t"
      },
      "source": [
        ""
      ],
      "execution_count": 2,
      "outputs": []
    },
    {
      "cell_type": "markdown",
      "metadata": {
        "id": "ky3f_Odl-7um"
      },
      "source": [
        "## Data Transformations\n",
        "\n",
        "We first start with defining our data transformations. We need to think what our data is and how can we augment it to correct represent images which it might not see otherwise. \n"
      ]
    },
    {
      "cell_type": "code",
      "metadata": {
        "id": "YtssFUKb-jqx"
      },
      "source": [
        "# Train Phase transformations\n",
        "train_transforms = transforms.Compose([\n",
        "                                      #  transforms.Resize((28, 28)),\n",
        "                                      #  transforms.ColorJitter(brightness=0.10, contrast=0.1, saturation=0.10, hue=0.1),\n",
        "                                       transforms.ToTensor(),\n",
        "                                       transforms.RandomRotation((-7.0, 7.0), fill=(1,)),\n",
        "                                       transforms.Normalize((0.1307,), (0.3081,)) # The mean and std have to be sequences (e.g., tuples), therefore you should add a comma after the values. \n",
        "                                       # Note the difference between (0.1307) and (0.1307,)\n",
        "                                       ])\n",
        "\n",
        "# Test Phase transformations\n",
        "test_transforms = transforms.Compose([\n",
        "                                      #  transforms.Resize((28, 28)),\n",
        "                                      #  transforms.ColorJitter(brightness=0.10, contrast=0.1, saturation=0.10, hue=0.1),\n",
        "                                       transforms.ToTensor(),\n",
        "                                       transforms.Normalize((0.1307,), (0.3081,))\n",
        "                                       ])\n"
      ],
      "execution_count": 3,
      "outputs": []
    },
    {
      "cell_type": "markdown",
      "metadata": {
        "id": "oQciFYo2B1mO"
      },
      "source": [
        "# Dataset and Creating Train/Test Split"
      ]
    },
    {
      "cell_type": "code",
      "metadata": {
        "id": "_4A84rlfDA23",
        "colab": {
          "base_uri": "https://localhost:8080/",
          "height": 332,
          "referenced_widgets": [
            "ed0a6b9181a94805b29bcc0e7c7fcc0b",
            "e8f0dee6c4a8411da727c083957b71f0",
            "6984ad5536ad444ebc20d80f062ff580",
            "1b4fdacaf40743a287c3e5df221c8775",
            "6b0bfa1aabe544419062847e38fcc844",
            "517e6499f1ea44dfb66dc756ae45cb4f",
            "00d73786172a45108a331e7986761b07",
            "57064259727c49ed91ca39e0309da43b",
            "9ae845b2e3954c8db4d68e059f821ce2",
            "8f0ed6d2277a4651961b8de100e9f9d5",
            "242cc3cb641e4df182d5e2e60b9baa95",
            "47937994c4ed4e259fdb801ada5711ba",
            "755b31f6dd424ff8a5f5020acd29066a",
            "73dd40c188f44cb4ad1bbfe164421366",
            "ea7831438db04b29bda4095fcbd773f0",
            "7faac537e2e341218e4d633f4a22a69e",
            "34291acfff3f42ee9ff31f480c97935b",
            "5626769f588b45a2b9b6e676bdaeeb97",
            "d1ce986e79d04225a2cb5d6be96ac070",
            "00af161442db45f7be20b8f5f4f2a649",
            "5cf7f35be1fa412dbaa0d980120817b6",
            "5afaa85eee81405288d94349d3d20547",
            "492e9013e30a44fda05a304551ae8efb",
            "ed3dd75161b640fb8cc61b2c03fde535",
            "4aec2af3f6c740e2b1a3e151d044660e",
            "5104682c9f12469d8c8bf8aef4a19c5e",
            "bf268bf01dec431091db2700eb4d1dbb",
            "d62a42f948d5457db5ae48143ce009ea",
            "28e163aac0794b36bfb760f682bda8e7",
            "fb43ad0ffbc9425c8a18f27feafbe1bf",
            "a8ce08ff76ac431c8a07e8717abbae54",
            "6c1bb4c10e9a43c388e30459fc135d22"
          ]
        },
        "outputId": "8721722d-90ce-403c-9e3e-5c60ce2aed9e"
      },
      "source": [
        "train = datasets.MNIST('./data', train=True, download=True, transform=train_transforms)\n",
        "test = datasets.MNIST('./data', train=False, download=True, transform=test_transforms)"
      ],
      "execution_count": 4,
      "outputs": [
        {
          "output_type": "stream",
          "text": [
            "Downloading http://yann.lecun.com/exdb/mnist/train-images-idx3-ubyte.gz to ./data/MNIST/raw/train-images-idx3-ubyte.gz\n"
          ],
          "name": "stdout"
        },
        {
          "output_type": "display_data",
          "data": {
            "application/vnd.jupyter.widget-view+json": {
              "model_id": "ed0a6b9181a94805b29bcc0e7c7fcc0b",
              "version_minor": 0,
              "version_major": 2
            },
            "text/plain": [
              "HBox(children=(FloatProgress(value=1.0, bar_style='info', max=1.0), HTML(value='')))"
            ]
          },
          "metadata": {
            "tags": []
          }
        },
        {
          "output_type": "stream",
          "text": [
            "Extracting ./data/MNIST/raw/train-images-idx3-ubyte.gz to ./data/MNIST/raw\n",
            "Downloading http://yann.lecun.com/exdb/mnist/train-labels-idx1-ubyte.gz to ./data/MNIST/raw/train-labels-idx1-ubyte.gz\n"
          ],
          "name": "stdout"
        },
        {
          "output_type": "display_data",
          "data": {
            "application/vnd.jupyter.widget-view+json": {
              "model_id": "9ae845b2e3954c8db4d68e059f821ce2",
              "version_minor": 0,
              "version_major": 2
            },
            "text/plain": [
              "HBox(children=(FloatProgress(value=1.0, bar_style='info', max=1.0), HTML(value='')))"
            ]
          },
          "metadata": {
            "tags": []
          }
        },
        {
          "output_type": "stream",
          "text": [
            "Extracting ./data/MNIST/raw/train-labels-idx1-ubyte.gz to ./data/MNIST/raw\n",
            "Downloading http://yann.lecun.com/exdb/mnist/t10k-images-idx3-ubyte.gz to ./data/MNIST/raw/t10k-images-idx3-ubyte.gz\n",
            "\n"
          ],
          "name": "stdout"
        },
        {
          "output_type": "display_data",
          "data": {
            "application/vnd.jupyter.widget-view+json": {
              "model_id": "34291acfff3f42ee9ff31f480c97935b",
              "version_minor": 0,
              "version_major": 2
            },
            "text/plain": [
              "HBox(children=(FloatProgress(value=1.0, bar_style='info', max=1.0), HTML(value='')))"
            ]
          },
          "metadata": {
            "tags": []
          }
        },
        {
          "output_type": "stream",
          "text": [
            "Extracting ./data/MNIST/raw/t10k-images-idx3-ubyte.gz to ./data/MNIST/raw\n",
            "Downloading http://yann.lecun.com/exdb/mnist/t10k-labels-idx1-ubyte.gz to ./data/MNIST/raw/t10k-labels-idx1-ubyte.gz\n"
          ],
          "name": "stdout"
        },
        {
          "output_type": "display_data",
          "data": {
            "application/vnd.jupyter.widget-view+json": {
              "model_id": "4aec2af3f6c740e2b1a3e151d044660e",
              "version_minor": 0,
              "version_major": 2
            },
            "text/plain": [
              "HBox(children=(FloatProgress(value=1.0, bar_style='info', max=1.0), HTML(value='')))"
            ]
          },
          "metadata": {
            "tags": []
          }
        },
        {
          "output_type": "stream",
          "text": [
            "Extracting ./data/MNIST/raw/t10k-labels-idx1-ubyte.gz to ./data/MNIST/raw\n",
            "Processing...\n",
            "Done!\n"
          ],
          "name": "stdout"
        }
      ]
    },
    {
      "cell_type": "markdown",
      "metadata": {
        "id": "qgldp_3-Dn0c"
      },
      "source": [
        "# Dataloader Arguments & Test/Train Dataloaders\n"
      ]
    },
    {
      "cell_type": "code",
      "metadata": {
        "colab": {
          "base_uri": "https://localhost:8080/"
        },
        "id": "C8OLDR79DrHG",
        "outputId": "f15f5c5a-fcda-40fe-a61a-8fa628ca505e"
      },
      "source": [
        "SEED = 1\n",
        "\n",
        "# CUDA?\n",
        "cuda = torch.cuda.is_available()\n",
        "print(\"CUDA Available?\", cuda)\n",
        "\n",
        "# For reproducibility\n",
        "torch.manual_seed(SEED)\n",
        "\n",
        "if cuda:\n",
        "    torch.cuda.manual_seed(SEED)\n",
        "\n",
        "# dataloader arguments - something you'll fetch these from cmdprmt\n",
        "dataloader_args = dict(shuffle=True, batch_size=128, num_workers=4, pin_memory=True) if cuda else dict(shuffle=True, batch_size=64)\n",
        "\n",
        "# train dataloader\n",
        "train_loader = torch.utils.data.DataLoader(train, **dataloader_args)\n",
        "\n",
        "# test dataloader\n",
        "test_loader = torch.utils.data.DataLoader(test, **dataloader_args)"
      ],
      "execution_count": 5,
      "outputs": [
        {
          "output_type": "stream",
          "text": [
            "CUDA Available? True\n"
          ],
          "name": "stdout"
        }
      ]
    },
    {
      "cell_type": "markdown",
      "metadata": {
        "id": "-TFjoFekE_va"
      },
      "source": [
        "# Data Statistics\n",
        "\n",
        "It is important to know your data very well. Let's check some of the statistics around our data and how it actually looks like"
      ]
    },
    {
      "cell_type": "code",
      "metadata": {
        "colab": {
          "base_uri": "https://localhost:8080/",
          "height": 469
        },
        "id": "hWZPPo3yEHDW",
        "outputId": "1c63b5c7-7b82-449d-f4b0-a6070d8cb439"
      },
      "source": [
        "# We'd need to convert it into Numpy! Remember above we have converted it into tensors already\n",
        "train_data = train.train_data\n",
        "train_data = train.transform(train_data.numpy())\n",
        "\n",
        "print('[Train]')\n",
        "print(' - Numpy Shape:', train.train_data.cpu().numpy().shape)\n",
        "print(' - Tensor Shape:', train.train_data.size())\n",
        "print(' - min:', torch.min(train_data))\n",
        "print(' - max:', torch.max(train_data))\n",
        "print(' - mean:', torch.mean(train_data))\n",
        "print(' - std:', torch.std(train_data))\n",
        "print(' - var:', torch.var(train_data))\n",
        "\n",
        "dataiter = iter(train_loader)\n",
        "images, labels = dataiter.next()\n",
        "\n",
        "print(images.shape)\n",
        "print(labels.shape)\n",
        "\n",
        "# Let's visualize some of the images\n",
        "%matplotlib inline\n",
        "import matplotlib.pyplot as plt\n",
        "\n",
        "plt.imshow(images[0].numpy().squeeze(), cmap='gray_r')\n"
      ],
      "execution_count": 6,
      "outputs": [
        {
          "output_type": "stream",
          "text": [
            "\n",
            "[Train]\n",
            " - Numpy Shape: (60000, 28, 28)\n",
            " - Tensor Shape: torch.Size([60000, 28, 28])\n",
            " - min: tensor(-0.4242)\n",
            " - max: tensor(2.8215)\n",
            " - mean: tensor(-0.4213)\n",
            " - std: tensor(0.0889)\n",
            " - var: tensor(0.0079)\n",
            "torch.Size([128, 1, 28, 28])\n",
            "torch.Size([128])\n"
          ],
          "name": "stdout"
        },
        {
          "output_type": "execute_result",
          "data": {
            "text/plain": [
              "<matplotlib.image.AxesImage at 0x7f0e7df6f5f8>"
            ]
          },
          "metadata": {
            "tags": []
          },
          "execution_count": 6
        },
        {
          "output_type": "display_data",
          "data": {
            "image/png": "[encoded data removed]",
            "text/plain": [
              "<Figure size 432x288 with 1 Axes>"
            ]
          },
          "metadata": {
            "tags": [],
            "needs_background": "light"
          }
        }
      ]
    },
    {
      "cell_type": "markdown",
      "metadata": {
        "id": "7l9lNaWYKuik"
      },
      "source": [
        "## MORE\n",
        "\n",
        "It is important that we view as many images as possible. This is required to get some idea on image augmentation later on"
      ]
    },
    {
      "cell_type": "code",
      "metadata": {
        "colab": {
          "base_uri": "https://localhost:8080/",
          "height": 246
        },
        "id": "hXXAg8hbK16u",
        "outputId": "9122f39d-4330-401a-fe27-c4b189eba6a0"
      },
      "source": [
        "figure = plt.figure()\n",
        "num_of_images = 60\n",
        "for index in range(1, num_of_images + 1):\n",
        "    plt.subplot(6, 10, index)\n",
        "    plt.axis('off')\n",
        "    plt.imshow(images[index].numpy().squeeze(), cmap='gray_r')"
      ],
      "execution_count": 7,
      "outputs": [
        {
          "output_type": "display_data",
          "data": {
            "image/png": "[encoded data removed]",
            "text/plain": [
              "<Figure size 432x288 with 60 Axes>"
            ]
          },
          "metadata": {
            "tags": [],
            "needs_background": "light"
          }
        }
      ]
    },
    {
      "cell_type": "markdown",
      "metadata": {
        "id": "ubQL3H6RJL3h"
      },
      "source": [
        "# The model\n",
        "Let's start with the model we first saw"
      ]
    },
    {
      "cell_type": "code",
      "metadata": {
        "id": "EotA-IL_znDG"
      },
      "source": [
        "class BatchNorm(nn.BatchNorm2d):\r\n",
        "    def __init__(self, num_features, eps=1e-05, momentum=0.1, weight=True, bias=True):\r\n",
        "        super().__init__(num_features, eps=eps, momentum=momentum)\r\n",
        "        self.weight.data.fill_(1.0)\r\n",
        "        self.bias.data.fill_(0.0)\r\n",
        "        self.weight.requires_grad = weight\r\n",
        "        self.bias.requires_grad = bias"
      ],
      "execution_count": 8,
      "outputs": []
    },
    {
      "cell_type": "code",
      "metadata": {
        "id": "1-9J6Ye5znaz"
      },
      "source": [
        "\r\n",
        "class GhostBatchNorm(BatchNorm):\r\n",
        "    def __init__(self, num_features, num_splits, **kw):\r\n",
        "        super().__init__(num_features, **kw)\r\n",
        "        self.num_splits = num_splits\r\n",
        "        self.register_buffer('running_mean', torch.zeros(num_features * self.num_splits))\r\n",
        "        self.register_buffer('running_var', torch.ones(num_features * self.num_splits))\r\n",
        "\r\n",
        "    def train(self, mode=True):\r\n",
        "        if (self.training is True) and (mode is False):  # lazily collate stats when we are going to use them\r\n",
        "            self.running_mean = torch.mean(self.running_mean.view(self.num_splits, self.num_features), dim=0).repeat(\r\n",
        "                self.num_splits)\r\n",
        "            self.running_var = torch.mean(self.running_var.view(self.num_splits, self.num_features), dim=0).repeat(\r\n",
        "                self.num_splits)\r\n",
        "        return super().train(mode)\r\n",
        "\r\n",
        "    def forward(self, input):\r\n",
        "        N, C, H, W = input.shape\r\n",
        "        if self.training or not self.track_running_stats:\r\n",
        "            return F.batch_norm(\r\n",
        "                input.view(-1, C * self.num_splits, H, W), self.running_mean, self.running_var,\r\n",
        "                self.weight.repeat(self.num_splits), self.bias.repeat(self.num_splits),\r\n",
        "                True, self.momentum, self.eps).view(N, C, H, W)\r\n",
        "        else:\r\n",
        "            return F.batch_norm(\r\n",
        "                input, self.running_mean[:self.num_features], self.running_var[:self.num_features],\r\n",
        "                self.weight, self.bias, False, self.momentum, self.eps)"
      ],
      "execution_count": 9,
      "outputs": []
    },
    {
      "cell_type": "code",
      "metadata": {
        "id": "ynko00EUMNyl"
      },
      "source": [
        "class GhostNet(nn.Module):\r\n",
        "  def __init__(self):\r\n",
        "    super(GhostNet,self).__init__()\r\n",
        "\r\n",
        "    # Convolution Block 1\r\n",
        "    self.convblock1 = nn.Sequential(\r\n",
        "        nn.Conv2d(in_channels=1,out_channels=12,kernel_size=(3,3),padding = 0, bias = False),\r\n",
        "        GhostBatchNorm(12,2),\r\n",
        "        nn.ReLU(),\r\n",
        "        #nn.Dropout(0.1),\r\n",
        "    )\r\n",
        "\r\n",
        "    # Convolution Block 2\r\n",
        "    self.convblock2 = nn.Sequential(\r\n",
        "        nn.Conv2d(in_channels=12,out_channels=18,kernel_size=(3,3),padding = 0, bias = False),\r\n",
        "        GhostBatchNorm(18,2),\r\n",
        "        nn.ReLU(),\r\n",
        "        # nn.Dropout(0.1),\r\n",
        "    )\r\n",
        "\r\n",
        "    # Transition Block 1\r\n",
        "    self.transitionblock1 = nn.Sequential(\r\n",
        "        nn.Conv2d(in_channels = 18,out_channels = 9,kernel_size = (1,1),padding = 0,bias = False),\r\n",
        "        nn.MaxPool2d(2,2)\r\n",
        "    )\r\n",
        "\r\n",
        "    # Convolution Block 3\r\n",
        "    self.convblock3= nn.Sequential(\r\n",
        "        nn.Conv2d(in_channels=9,out_channels=18,kernel_size=(3,3),padding = 0, bias = False),\r\n",
        "        GhostBatchNorm(18,2),\r\n",
        "        nn.ReLU(),\r\n",
        "        # nn.Dropout(0.1),\r\n",
        "    )\r\n",
        "\r\n",
        "    # Convolution Block 4\r\n",
        "    self.convblock4= nn.Sequential(\r\n",
        "        nn.Conv2d(in_channels=18,out_channels=18,kernel_size=(3,3),padding = 0, bias = False),\r\n",
        "        GhostBatchNorm(18,2),\r\n",
        "        nn.ReLU(),\r\n",
        "        # nn.Dropout(0.1),\r\n",
        "    )\r\n",
        "\r\n",
        "    self.convblock5= nn.Sequential(\r\n",
        "        nn.Conv2d(in_channels=18,out_channels=18,kernel_size=(3,3),padding = 0, bias = False),\r\n",
        "        GhostBatchNorm(18,2),\r\n",
        "        nn.ReLU(),\r\n",
        "        # nn.Dropout(0.1),\r\n",
        "    )\r\n",
        "\r\n",
        "    self.gap = nn.Sequential(\r\n",
        "        nn.AvgPool2d(kernel_size=6),\r\n",
        "        nn.Conv2d(in_channels=18,out_channels=10,kernel_size=(1,1),padding = 0, bias = True)\r\n",
        "    )\r\n",
        "  \r\n",
        "  def forward(self, x):\r\n",
        "    x = self.convblock1(x)\r\n",
        "    x = self.convblock2(x)\r\n",
        "    x = self.transitionblock1(x)\r\n",
        "    x = self.convblock3(x)\r\n",
        "    x = self.convblock4(x)\r\n",
        "    x = self.convblock5(x)\r\n",
        "    x = self.gap(x)\r\n",
        "    x = x.view(-1,10)\r\n",
        "    return F.log_softmax(x,dim = -1)\r\n"
      ],
      "execution_count": 10,
      "outputs": []
    },
    {
      "cell_type": "code",
      "metadata": {
        "id": "eh_XvsyeS-WF"
      },
      "source": [
        "\r\n",
        "class Net(nn.Module):\r\n",
        "  def __init__(self):\r\n",
        "    super(Net,self).__init__()\r\n",
        "\r\n",
        "    # Convolution Block 1\r\n",
        "    self.convblock1 = nn.Sequential(\r\n",
        "        nn.Conv2d(in_channels=1,out_channels=12,kernel_size=(3,3),padding = 0, bias = False),\r\n",
        "        nn.BatchNorm2d(12),\r\n",
        "        nn.ReLU(),\r\n",
        "        #nn.Dropout(0.1),\r\n",
        "    )\r\n",
        "\r\n",
        "    # Convolution Block 2\r\n",
        "    self.convblock2 = nn.Sequential(\r\n",
        "        nn.Conv2d(in_channels=12,out_channels=18,kernel_size=(3,3),padding = 0, bias = False),\r\n",
        "        nn.BatchNorm2d(18),\r\n",
        "        nn.ReLU(),\r\n",
        "        # nn.Dropout(0.1),\r\n",
        "    )\r\n",
        "\r\n",
        "    # Transition Block 1\r\n",
        "    self.transitionblock1 = nn.Sequential(\r\n",
        "        nn.Conv2d(in_channels = 18,out_channels = 9,kernel_size = (1,1),padding = 0,bias = False),\r\n",
        "        nn.MaxPool2d(2,2)\r\n",
        "    )\r\n",
        "\r\n",
        "    # Convolution Block 3\r\n",
        "    self.convblock3= nn.Sequential(\r\n",
        "        nn.Conv2d(in_channels=9,out_channels=18,kernel_size=(3,3),padding = 0, bias = False),\r\n",
        "        nn.BatchNorm2d(18),\r\n",
        "        nn.ReLU(),\r\n",
        "        # nn.Dropout(0.1),\r\n",
        "    )\r\n",
        "\r\n",
        "    # Convolution Block 4\r\n",
        "    self.convblock4= nn.Sequential(\r\n",
        "        nn.Conv2d(in_channels=18,out_channels=18,kernel_size=(3,3),padding = 0, bias = False),\r\n",
        "        nn.BatchNorm2d(18),\r\n",
        "        nn.ReLU(),\r\n",
        "        # nn.Dropout(0.1),\r\n",
        "    )\r\n",
        "\r\n",
        "    self.convblock5= nn.Sequential(\r\n",
        "        nn.Conv2d(in_channels=18,out_channels=18,kernel_size=(3,3),padding = 0, bias = False),\r\n",
        "        nn.BatchNorm2d(18),\r\n",
        "        nn.ReLU(),\r\n",
        "        # nn.Dropout(0.1),\r\n",
        "    )\r\n",
        "\r\n",
        "    self.gap = nn.Sequential(\r\n",
        "        nn.AvgPool2d(kernel_size=6),\r\n",
        "        nn.Conv2d(in_channels=18,out_channels=10,kernel_size=(1,1),padding = 0, bias = True)\r\n",
        "    )\r\n",
        "  \r\n",
        "  def forward(self, x):\r\n",
        "    x = self.convblock1(x)\r\n",
        "    x = self.convblock2(x)\r\n",
        "    x = self.transitionblock1(x)\r\n",
        "    x = self.convblock3(x)\r\n",
        "    x = self.convblock4(x)\r\n",
        "    x = self.convblock5(x)\r\n",
        "    x = self.gap(x)\r\n",
        "    x = x.view(-1,10)\r\n",
        "    return F.log_softmax(x,dim = -1)\r\n"
      ],
      "execution_count": 11,
      "outputs": []
    },
    {
      "cell_type": "markdown",
      "metadata": {
        "id": "M3-vp8X9LCWo"
      },
      "source": [
        "# Model Params\n",
        "Can't emphasize on how important viewing Model Summary is. \n",
        "Unfortunately, there is no in-built model visualizer, so we have to take external help"
      ]
    },
    {
      "cell_type": "code",
      "metadata": {
        "id": "5skB97zIJQQe",
        "colab": {
          "base_uri": "https://localhost:8080/"
        },
        "outputId": "66da846f-a20e-4e4e-fd46-af2aed643161"
      },
      "source": [
        "!pip install torchsummary\n",
        "from torchsummary import summary\n",
        "use_cuda = torch.cuda.is_available()\n",
        "device = torch.device(\"cuda\" if use_cuda else \"cpu\")\n",
        "print(device)\n",
        "model = Net().to(device)\n",
        "summary(model, input_size=(1, 28, 28))"
      ],
      "execution_count": 12,
      "outputs": [
        {
          "output_type": "stream",
          "text": [
            "Requirement already satisfied: torchsummary in /usr/local/lib/python3.6/dist-packages (1.5.1)\n",
            "cuda\n",
            "----------------------------------------------------------------\n",
            "        Layer (type)               Output Shape         Param #\n",
            "================================================================\n",
            "            Conv2d-1           [-1, 12, 26, 26]             108\n",
            "       BatchNorm2d-2           [-1, 12, 26, 26]              24\n",
            "              ReLU-3           [-1, 12, 26, 26]               0\n",
            "            Conv2d-4           [-1, 18, 24, 24]           1,944\n",
            "       BatchNorm2d-5           [-1, 18, 24, 24]              36\n",
            "              ReLU-6           [-1, 18, 24, 24]               0\n",
            "            Conv2d-7            [-1, 9, 24, 24]             162\n",
            "         MaxPool2d-8            [-1, 9, 12, 12]               0\n",
            "            Conv2d-9           [-1, 18, 10, 10]           1,458\n",
            "      BatchNorm2d-10           [-1, 18, 10, 10]              36\n",
            "             ReLU-11           [-1, 18, 10, 10]               0\n",
            "           Conv2d-12             [-1, 18, 8, 8]           2,916\n",
            "      BatchNorm2d-13             [-1, 18, 8, 8]              36\n",
            "             ReLU-14             [-1, 18, 8, 8]               0\n",
            "           Conv2d-15             [-1, 18, 6, 6]           2,916\n",
            "      BatchNorm2d-16             [-1, 18, 6, 6]              36\n",
            "             ReLU-17             [-1, 18, 6, 6]               0\n",
            "        AvgPool2d-18             [-1, 18, 1, 1]               0\n",
            "           Conv2d-19             [-1, 10, 1, 1]             190\n",
            "================================================================\n",
            "Total params: 9,862\n",
            "Trainable params: 9,862\n",
            "Non-trainable params: 0\n",
            "----------------------------------------------------------------\n",
            "Input size (MB): 0.00\n",
            "Forward/backward pass size (MB): 0.56\n",
            "Params size (MB): 0.04\n",
            "Estimated Total Size (MB): 0.60\n",
            "----------------------------------------------------------------\n"
          ],
          "name": "stdout"
        }
      ]
    },
    {
      "cell_type": "markdown",
      "metadata": {
        "id": "1__x_SbrL7z3"
      },
      "source": [
        "# Training and Testing\n",
        "\n",
        "Looking at logs can be boring, so we'll introduce **tqdm** progressbar to get cooler logs. \n",
        "\n",
        "Let's write train and test functions"
      ]
    },
    {
      "cell_type": "code",
      "metadata": {
        "id": "fbkF2nN_LYIb"
      },
      "source": [
        "from tqdm import tqdm\n",
        "\n",
        "# train_losses = []\n",
        "# test_losses = []\n",
        "# train_acc = []\n",
        "# test_acc = []\n",
        "\n",
        "def train(model, device, train_loader, optimizer, epoch,lambda_l1):\n",
        "\n",
        "  model.train()\n",
        "  pbar = tqdm(train_loader)\n",
        "  correct = 0\n",
        "  processed = 0\n",
        "  for batch_idx, (data, target) in enumerate(pbar):\n",
        "    # get samples\n",
        "    data, target = data.to(device), target.to(device)\n",
        "\n",
        "    # Init\n",
        "    optimizer.zero_grad()\n",
        "    # In PyTorch, we need to set the gradients to zero before starting to do backpropragation because PyTorch accumulates the gradients on subsequent backward passes. \n",
        "    # Because of this, when you start your training loop, ideally you should zero out the gradients so that you do the parameter update correctly.\n",
        "\n",
        "    # Predict\n",
        "    y_pred = model(data)\n",
        "\n",
        "    # Calculate loss\n",
        "    loss = F.nll_loss(y_pred, target)\n",
        "    # L1 loss\n",
        "    l1 = 0\n",
        "    # lambda_l1 = 0.05\n",
        "    for p in model.parameters():\n",
        "      l1 = l1 + p.abs().sum()\n",
        "    loss = loss + lambda_l1*l1\n",
        "    train_losses.append(loss)\n",
        "\n",
        "    # Backpropagation\n",
        "    loss.backward()\n",
        "    optimizer.step()\n",
        "\n",
        "    # Update pbar-tqdm\n",
        "    \n",
        "    pred = y_pred.argmax(dim=1, keepdim=True)  # get the index of the max log-probability\n",
        "    correct += pred.eq(target.view_as(pred)).sum().item()\n",
        "    processed += len(data)\n",
        "\n",
        "    pbar.set_description(desc= f'Loss={loss.item()} Batch_id={batch_idx} Accuracy={100*correct/processed:0.2f}')\n",
        "    train_acc.append(100*correct/processed)\n",
        "    tqdm._instances.clear()\n",
        "\n",
        "\n",
        "\n",
        "\n",
        "def test(model, device, test_loader):\n",
        "    model.eval()\n",
        "    test_loss = 0\n",
        "    correct = 0\n",
        "    with torch.no_grad():\n",
        "        for data, target in test_loader:\n",
        "            data, target = data.to(device), target.to(device)\n",
        "            output = model(data)\n",
        "            test_loss += F.nll_loss(output, target, reduction='sum').item()  # sum up batch loss\n",
        "            pred = output.argmax(dim=1, keepdim=True)  # get the index of the max log-probability\n",
        "            correct += pred.eq(target.view_as(pred)).sum().item()\n",
        "\n",
        "    test_loss /= len(test_loader.dataset)\n",
        "    test_losses.append(test_loss)\n",
        "\n",
        "    print('\\nTest set: Average loss: {:.4f}, Accuracy: {}/{} ({:.2f}%)\\n'.format(\n",
        "        test_loss, correct, len(test_loader.dataset),\n",
        "        100. * correct / len(test_loader.dataset)))\n",
        "    \n",
        "    test_acc.append(100. * correct / len(test_loader.dataset))"
      ],
      "execution_count": 13,
      "outputs": []
    },
    {
      "cell_type": "code",
      "metadata": {
        "id": "cUJQWBLJ0jTJ"
      },
      "source": [
        "def run_model(model,l1,l2):\r\n",
        "  model=model\r\n",
        "  l1=l1\r\n",
        "  l2=l2\r\n",
        "  optimizer = optim.SGD(model.parameters(), lr=0.01, momentum=0.9,weight_decay=l2)\r\n",
        "  scheduler = StepLR(optimizer, step_size=6, gamma=0.1)\r\n",
        "  running_loss=0\r\n",
        "  for epoch in range(EPOCHS):\r\n",
        "    print(\"EPOCH:\", epoch+1)\r\n",
        "    train(model, device, train_loader, optimizer, epoch,lambda_l1=l1)\r\n",
        "    scheduler.step()\r\n",
        "    test(model, device, test_loader)"
      ],
      "execution_count": 14,
      "outputs": []
    },
    {
      "cell_type": "code",
      "metadata": {
        "colab": {
          "base_uri": "https://localhost:8080/"
        },
        "id": "8m9ICRdnGjqg",
        "outputId": "51f4a24c-e14b-4eff-dad5-ed6ae77b94a3"
      },
      "source": [
        "#params=[['bn_l1',1e-5,0],['bn_l2',0,1e-5],['bn_l1_l2',1e-5,1e-5],['gbn',0,0],['gbn_l1_l2',1e-5,1e-5]]\r\n",
        "params=[['bn_l1',5e-4,0],['bn_l2',0,5e-3],['bn_l1_l2',5e-4,5e-3],['gbn',0,0],['gbn_l1_l2',5e-4,5e-3]]\r\n",
        "train_losses_f = []\r\n",
        "test_losses_f = []\r\n",
        "train_acc_f = []\r\n",
        "test_acc_f = []\r\n",
        "for i,x in enumerate(params):\r\n",
        "\r\n",
        "  print(\"\\nMODEL\",i+1)\r\n",
        "  print(\"Property\",x[0]+\"\\n\")\r\n",
        "  EPOCHS = 25\r\n",
        "  from torch.optim.lr_scheduler import StepLR\r\n",
        "  #model =  GhostNet().to(device)\r\n",
        "  l1=x[1]\r\n",
        "  l2=x[2]\r\n",
        "  train_losses = []\r\n",
        "  test_losses = []\r\n",
        "  train_acc = []\r\n",
        "  test_acc = []\r\n",
        "  model =  Net().to(device)\r\n",
        "  if(x[0].startswith('g')):\r\n",
        "    model =  GhostNet().to(device)\r\n",
        "  run_model(model,l1,l2)\r\n",
        "  train_losses_f.extend(train_losses)\r\n",
        "  test_losses_f.extend(test_losses)\r\n",
        "  train_acc_f.extend(train_acc)\r\n",
        "  test_acc_f.extend(test_acc)\r\n",
        "  torch.save(model,'./data/'+x[0])\r\n",
        "  \r\n",
        "  # import seaborn as sns\r\n",
        "  # import matplotlib.pyplot as plt\r\n",
        "  # sns.set()\r\n",
        "  # plt.title(x[0])\r\n",
        "  # plt.style.use(\"dark_background\")\r\n",
        "  # fig, axs = plt.subplots(2,2,figsize=(15,10))\r\n",
        "  # axs[0, 0].plot(train_losses)\r\n",
        "  # axs[0, 0].set_title(\"Training Loss\")\r\n",
        "  # axs[1, 0].plot(train_acc)\r\n",
        "  # axs[1, 0].set_title(\"Training Accuracy\")\r\n",
        "  # axs[0, 1].plot(test_losses)\r\n",
        "  # axs[0, 1].set_title(\"Test Loss\")\r\n",
        "  # axs[1, 1].plot(test_acc)\r\n",
        "  # axs[1, 1].set_title(\"Test Accuracy\")\r\n",
        "  # print(\"ITERATION OF A MODEL COMPLETE \")\r\n",
        "\r\n"
      ],
      "execution_count": 15,
      "outputs": [
        {
          "output_type": "stream",
          "text": [
            "\n",
            "MODEL 1\n",
            "Property bn_l1\n",
            "\n"
          ],
          "name": "stdout"
        },
        {
          "output_type": "stream",
          "text": [
            "\r  0%|          | 0/469 [00:00<?, ?it/s]"
          ],
          "name": "stderr"
        },
        {
          "output_type": "stream",
          "text": [
            "EPOCH: 1\n"
          ],
          "name": "stdout"
        },
        {
          "output_type": "stream",
          "text": [
            "Loss=0.3313341736793518 Batch_id=468 Accuracy=85.50: 100%|██████████| 469/469 [00:26<00:00, 17.92it/s]\n",
            "  0%|          | 0/469 [00:00<?, ?it/s]"
          ],
          "name": "stderr"
        },
        {
          "output_type": "stream",
          "text": [
            "\n",
            "Test set: Average loss: 0.1004, Accuracy: 9794/10000 (97.94%)\n",
            "\n",
            "EPOCH: 2\n"
          ],
          "name": "stdout"
        },
        {
          "output_type": "stream",
          "text": [
            "Loss=0.3427237272262573 Batch_id=468 Accuracy=97.76: 100%|██████████| 469/469 [00:26<00:00, 17.95it/s]\n",
            "  0%|          | 0/469 [00:00<?, ?it/s]"
          ],
          "name": "stderr"
        },
        {
          "output_type": "stream",
          "text": [
            "\n",
            "Test set: Average loss: 0.1264, Accuracy: 9627/10000 (96.27%)\n",
            "\n",
            "EPOCH: 3\n"
          ],
          "name": "stdout"
        },
        {
          "output_type": "stream",
          "text": [
            "Loss=0.24360214173793793 Batch_id=468 Accuracy=98.07: 100%|██████████| 469/469 [00:26<00:00, 18.00it/s]\n",
            "  0%|          | 0/469 [00:00<?, ?it/s]"
          ],
          "name": "stderr"
        },
        {
          "output_type": "stream",
          "text": [
            "\n",
            "Test set: Average loss: 0.0618, Accuracy: 9851/10000 (98.51%)\n",
            "\n",
            "EPOCH: 4\n"
          ],
          "name": "stdout"
        },
        {
          "output_type": "stream",
          "text": [
            "Loss=0.22446155548095703 Batch_id=468 Accuracy=98.23: 100%|██████████| 469/469 [00:26<00:00, 18.04it/s]\n",
            "  0%|          | 0/469 [00:00<?, ?it/s]"
          ],
          "name": "stderr"
        },
        {
          "output_type": "stream",
          "text": [
            "\n",
            "Test set: Average loss: 0.0500, Accuracy: 9883/10000 (98.83%)\n",
            "\n",
            "EPOCH: 5\n"
          ],
          "name": "stdout"
        },
        {
          "output_type": "stream",
          "text": [
            "Loss=0.22198878228664398 Batch_id=468 Accuracy=98.23: 100%|██████████| 469/469 [00:26<00:00, 17.80it/s]\n",
            "  0%|          | 0/469 [00:00<?, ?it/s]"
          ],
          "name": "stderr"
        },
        {
          "output_type": "stream",
          "text": [
            "\n",
            "Test set: Average loss: 0.0774, Accuracy: 9771/10000 (97.71%)\n",
            "\n",
            "EPOCH: 6\n"
          ],
          "name": "stdout"
        },
        {
          "output_type": "stream",
          "text": [
            "Loss=0.20164230465888977 Batch_id=468 Accuracy=98.31: 100%|██████████| 469/469 [00:26<00:00, 17.75it/s]\n",
            "  0%|          | 0/469 [00:00<?, ?it/s]"
          ],
          "name": "stderr"
        },
        {
          "output_type": "stream",
          "text": [
            "\n",
            "Test set: Average loss: 0.0609, Accuracy: 9827/10000 (98.27%)\n",
            "\n",
            "EPOCH: 7\n"
          ],
          "name": "stdout"
        },
        {
          "output_type": "stream",
          "text": [
            "Loss=0.2283262014389038 Batch_id=468 Accuracy=99.04: 100%|██████████| 469/469 [00:26<00:00, 17.69it/s]\n",
            "  0%|          | 0/469 [00:00<?, ?it/s]"
          ],
          "name": "stderr"
        },
        {
          "output_type": "stream",
          "text": [
            "\n",
            "Test set: Average loss: 0.0243, Accuracy: 9929/10000 (99.29%)\n",
            "\n",
            "EPOCH: 8\n"
          ],
          "name": "stdout"
        },
        {
          "output_type": "stream",
          "text": [
            "Loss=0.19075915217399597 Batch_id=468 Accuracy=99.06: 100%|██████████| 469/469 [00:26<00:00, 17.54it/s]\n",
            "  0%|          | 0/469 [00:00<?, ?it/s]"
          ],
          "name": "stderr"
        },
        {
          "output_type": "stream",
          "text": [
            "\n",
            "Test set: Average loss: 0.0245, Accuracy: 9932/10000 (99.32%)\n",
            "\n",
            "EPOCH: 9\n"
          ],
          "name": "stdout"
        },
        {
          "output_type": "stream",
          "text": [
            "Loss=0.16495847702026367 Batch_id=468 Accuracy=99.15: 100%|██████████| 469/469 [00:26<00:00, 17.89it/s]\n",
            "  0%|          | 0/469 [00:00<?, ?it/s]"
          ],
          "name": "stderr"
        },
        {
          "output_type": "stream",
          "text": [
            "\n",
            "Test set: Average loss: 0.0245, Accuracy: 9930/10000 (99.30%)\n",
            "\n",
            "EPOCH: 10\n"
          ],
          "name": "stdout"
        },
        {
          "output_type": "stream",
          "text": [
            "Loss=0.19101539254188538 Batch_id=468 Accuracy=99.17: 100%|██████████| 469/469 [00:26<00:00, 17.84it/s]\n",
            "  0%|          | 0/469 [00:00<?, ?it/s]"
          ],
          "name": "stderr"
        },
        {
          "output_type": "stream",
          "text": [
            "\n",
            "Test set: Average loss: 0.0231, Accuracy: 9927/10000 (99.27%)\n",
            "\n",
            "EPOCH: 11\n"
          ],
          "name": "stdout"
        },
        {
          "output_type": "stream",
          "text": [
            "Loss=0.16027045249938965 Batch_id=468 Accuracy=99.14: 100%|██████████| 469/469 [00:26<00:00, 17.83it/s]\n",
            "  0%|          | 0/469 [00:00<?, ?it/s]"
          ],
          "name": "stderr"
        },
        {
          "output_type": "stream",
          "text": [
            "\n",
            "Test set: Average loss: 0.0240, Accuracy: 9932/10000 (99.32%)\n",
            "\n",
            "EPOCH: 12\n"
          ],
          "name": "stdout"
        },
        {
          "output_type": "stream",
          "text": [
            "Loss=0.17794185876846313 Batch_id=468 Accuracy=99.17: 100%|██████████| 469/469 [00:26<00:00, 17.88it/s]\n",
            "  0%|          | 0/469 [00:00<?, ?it/s]"
          ],
          "name": "stderr"
        },
        {
          "output_type": "stream",
          "text": [
            "\n",
            "Test set: Average loss: 0.0243, Accuracy: 9931/10000 (99.31%)\n",
            "\n",
            "EPOCH: 13\n"
          ],
          "name": "stdout"
        },
        {
          "output_type": "stream",
          "text": [
            "Loss=0.15403275191783905 Batch_id=468 Accuracy=99.27: 100%|██████████| 469/469 [00:26<00:00, 17.94it/s]\n",
            "  0%|          | 0/469 [00:00<?, ?it/s]"
          ],
          "name": "stderr"
        },
        {
          "output_type": "stream",
          "text": [
            "\n",
            "Test set: Average loss: 0.0213, Accuracy: 9942/10000 (99.42%)\n",
            "\n",
            "EPOCH: 14\n"
          ],
          "name": "stdout"
        },
        {
          "output_type": "stream",
          "text": [
            "Loss=0.19515101611614227 Batch_id=468 Accuracy=99.30: 100%|██████████| 469/469 [00:26<00:00, 17.91it/s]\n",
            "  0%|          | 0/469 [00:00<?, ?it/s]"
          ],
          "name": "stderr"
        },
        {
          "output_type": "stream",
          "text": [
            "\n",
            "Test set: Average loss: 0.0210, Accuracy: 9946/10000 (99.46%)\n",
            "\n",
            "EPOCH: 15\n"
          ],
          "name": "stdout"
        },
        {
          "output_type": "stream",
          "text": [
            "Loss=0.15025010704994202 Batch_id=468 Accuracy=99.30: 100%|██████████| 469/469 [00:26<00:00, 17.94it/s]\n",
            "  0%|          | 0/469 [00:00<?, ?it/s]"
          ],
          "name": "stderr"
        },
        {
          "output_type": "stream",
          "text": [
            "\n",
            "Test set: Average loss: 0.0218, Accuracy: 9942/10000 (99.42%)\n",
            "\n",
            "EPOCH: 16\n"
          ],
          "name": "stdout"
        },
        {
          "output_type": "stream",
          "text": [
            "Loss=0.1689678430557251 Batch_id=468 Accuracy=99.25: 100%|██████████| 469/469 [00:25<00:00, 18.05it/s]\n",
            "  0%|          | 0/469 [00:00<?, ?it/s]"
          ],
          "name": "stderr"
        },
        {
          "output_type": "stream",
          "text": [
            "\n",
            "Test set: Average loss: 0.0220, Accuracy: 9941/10000 (99.41%)\n",
            "\n",
            "EPOCH: 17\n"
          ],
          "name": "stdout"
        },
        {
          "output_type": "stream",
          "text": [
            "Loss=0.17145031690597534 Batch_id=468 Accuracy=99.30: 100%|██████████| 469/469 [00:26<00:00, 17.88it/s]\n",
            "  0%|          | 0/469 [00:00<?, ?it/s]"
          ],
          "name": "stderr"
        },
        {
          "output_type": "stream",
          "text": [
            "\n",
            "Test set: Average loss: 0.0213, Accuracy: 9943/10000 (99.43%)\n",
            "\n",
            "EPOCH: 18\n"
          ],
          "name": "stdout"
        },
        {
          "output_type": "stream",
          "text": [
            "Loss=0.15633398294448853 Batch_id=468 Accuracy=99.24: 100%|██████████| 469/469 [00:26<00:00, 18.01it/s]\n",
            "  0%|          | 0/469 [00:00<?, ?it/s]"
          ],
          "name": "stderr"
        },
        {
          "output_type": "stream",
          "text": [
            "\n",
            "Test set: Average loss: 0.0214, Accuracy: 9943/10000 (99.43%)\n",
            "\n",
            "EPOCH: 19\n"
          ],
          "name": "stdout"
        },
        {
          "output_type": "stream",
          "text": [
            "Loss=0.15840643644332886 Batch_id=468 Accuracy=99.31: 100%|██████████| 469/469 [00:26<00:00, 17.87it/s]\n",
            "  0%|          | 0/469 [00:00<?, ?it/s]"
          ],
          "name": "stderr"
        },
        {
          "output_type": "stream",
          "text": [
            "\n",
            "Test set: Average loss: 0.0211, Accuracy: 9944/10000 (99.44%)\n",
            "\n",
            "EPOCH: 20\n"
          ],
          "name": "stdout"
        },
        {
          "output_type": "stream",
          "text": [
            "Loss=0.1530170738697052 Batch_id=468 Accuracy=99.34: 100%|██████████| 469/469 [00:26<00:00, 18.00it/s]\n",
            "  0%|          | 0/469 [00:00<?, ?it/s]"
          ],
          "name": "stderr"
        },
        {
          "output_type": "stream",
          "text": [
            "\n",
            "Test set: Average loss: 0.0213, Accuracy: 9944/10000 (99.44%)\n",
            "\n",
            "EPOCH: 21\n"
          ],
          "name": "stdout"
        },
        {
          "output_type": "stream",
          "text": [
            "Loss=0.1446944773197174 Batch_id=468 Accuracy=99.32: 100%|██████████| 469/469 [00:26<00:00, 18.03it/s]\n",
            "  0%|          | 0/469 [00:00<?, ?it/s]"
          ],
          "name": "stderr"
        },
        {
          "output_type": "stream",
          "text": [
            "\n",
            "Test set: Average loss: 0.0214, Accuracy: 9945/10000 (99.45%)\n",
            "\n",
            "EPOCH: 22\n"
          ],
          "name": "stdout"
        },
        {
          "output_type": "stream",
          "text": [
            "Loss=0.161540687084198 Batch_id=468 Accuracy=99.28: 100%|██████████| 469/469 [00:25<00:00, 18.06it/s]\n",
            "  0%|          | 0/469 [00:00<?, ?it/s]"
          ],
          "name": "stderr"
        },
        {
          "output_type": "stream",
          "text": [
            "\n",
            "Test set: Average loss: 0.0218, Accuracy: 9942/10000 (99.42%)\n",
            "\n",
            "EPOCH: 23\n"
          ],
          "name": "stdout"
        },
        {
          "output_type": "stream",
          "text": [
            "Loss=0.14317594468593597 Batch_id=468 Accuracy=99.30: 100%|██████████| 469/469 [00:25<00:00, 18.09it/s]\n",
            "  0%|          | 0/469 [00:00<?, ?it/s]"
          ],
          "name": "stderr"
        },
        {
          "output_type": "stream",
          "text": [
            "\n",
            "Test set: Average loss: 0.0213, Accuracy: 9944/10000 (99.44%)\n",
            "\n",
            "EPOCH: 24\n"
          ],
          "name": "stdout"
        },
        {
          "output_type": "stream",
          "text": [
            "Loss=0.14824074506759644 Batch_id=468 Accuracy=99.33: 100%|██████████| 469/469 [00:25<00:00, 18.26it/s]\n",
            "  0%|          | 0/469 [00:00<?, ?it/s]"
          ],
          "name": "stderr"
        },
        {
          "output_type": "stream",
          "text": [
            "\n",
            "Test set: Average loss: 0.0217, Accuracy: 9941/10000 (99.41%)\n",
            "\n",
            "EPOCH: 25\n"
          ],
          "name": "stdout"
        },
        {
          "output_type": "stream",
          "text": [
            "Loss=0.15963459014892578 Batch_id=468 Accuracy=99.31: 100%|██████████| 469/469 [00:25<00:00, 18.05it/s]\n",
            "  0%|          | 0/469 [00:00<?, ?it/s]"
          ],
          "name": "stderr"
        },
        {
          "output_type": "stream",
          "text": [
            "\n",
            "Test set: Average loss: 0.0213, Accuracy: 9947/10000 (99.47%)\n",
            "\n",
            "\n",
            "MODEL 2\n",
            "Property bn_l2\n",
            "\n",
            "EPOCH: 1\n"
          ],
          "name": "stdout"
        },
        {
          "output_type": "stream",
          "text": [
            "Loss=0.28737717866897583 Batch_id=468 Accuracy=84.36: 100%|██████████| 469/469 [00:25<00:00, 18.05it/s]\n",
            "  0%|          | 0/469 [00:00<?, ?it/s]"
          ],
          "name": "stderr"
        },
        {
          "output_type": "stream",
          "text": [
            "\n",
            "Test set: Average loss: 0.1627, Accuracy: 9666/10000 (96.66%)\n",
            "\n",
            "EPOCH: 2\n"
          ],
          "name": "stdout"
        },
        {
          "output_type": "stream",
          "text": [
            "Loss=0.10411134362220764 Batch_id=468 Accuracy=97.64: 100%|██████████| 469/469 [00:26<00:00, 18.04it/s]\n",
            "  0%|          | 0/469 [00:00<?, ?it/s]"
          ],
          "name": "stderr"
        },
        {
          "output_type": "stream",
          "text": [
            "\n",
            "Test set: Average loss: 0.1101, Accuracy: 9784/10000 (97.84%)\n",
            "\n",
            "EPOCH: 3\n"
          ],
          "name": "stdout"
        },
        {
          "output_type": "stream",
          "text": [
            "Loss=0.08796209841966629 Batch_id=468 Accuracy=98.19: 100%|██████████| 469/469 [00:26<00:00, 17.89it/s]\n",
            "  0%|          | 0/469 [00:00<?, ?it/s]"
          ],
          "name": "stderr"
        },
        {
          "output_type": "stream",
          "text": [
            "\n",
            "Test set: Average loss: 0.0810, Accuracy: 9877/10000 (98.77%)\n",
            "\n",
            "EPOCH: 4\n"
          ],
          "name": "stdout"
        },
        {
          "output_type": "stream",
          "text": [
            "Loss=0.08005150407552719 Batch_id=468 Accuracy=98.26: 100%|██████████| 469/469 [00:25<00:00, 18.06it/s]\n",
            "  0%|          | 0/469 [00:00<?, ?it/s]"
          ],
          "name": "stderr"
        },
        {
          "output_type": "stream",
          "text": [
            "\n",
            "Test set: Average loss: 0.0659, Accuracy: 9881/10000 (98.81%)\n",
            "\n",
            "EPOCH: 5\n"
          ],
          "name": "stdout"
        },
        {
          "output_type": "stream",
          "text": [
            "Loss=0.0625741258263588 Batch_id=468 Accuracy=98.48: 100%|██████████| 469/469 [00:26<00:00, 17.94it/s]\n",
            "  0%|          | 0/469 [00:00<?, ?it/s]"
          ],
          "name": "stderr"
        },
        {
          "output_type": "stream",
          "text": [
            "\n",
            "Test set: Average loss: 0.0776, Accuracy: 9834/10000 (98.34%)\n",
            "\n",
            "EPOCH: 6\n"
          ],
          "name": "stdout"
        },
        {
          "output_type": "stream",
          "text": [
            "Loss=0.06624411791563034 Batch_id=468 Accuracy=98.49: 100%|██████████| 469/469 [00:26<00:00, 17.95it/s]\n",
            "  0%|          | 0/469 [00:00<?, ?it/s]"
          ],
          "name": "stderr"
        },
        {
          "output_type": "stream",
          "text": [
            "\n",
            "Test set: Average loss: 0.0876, Accuracy: 9839/10000 (98.39%)\n",
            "\n",
            "EPOCH: 7\n"
          ],
          "name": "stdout"
        },
        {
          "output_type": "stream",
          "text": [
            "Loss=0.04676886275410652 Batch_id=468 Accuracy=98.93: 100%|██████████| 469/469 [00:26<00:00, 17.96it/s]\n",
            "  0%|          | 0/469 [00:00<?, ?it/s]"
          ],
          "name": "stderr"
        },
        {
          "output_type": "stream",
          "text": [
            "\n",
            "Test set: Average loss: 0.0458, Accuracy: 9924/10000 (99.24%)\n",
            "\n",
            "EPOCH: 8\n"
          ],
          "name": "stdout"
        },
        {
          "output_type": "stream",
          "text": [
            "Loss=0.10440206527709961 Batch_id=468 Accuracy=98.95: 100%|██████████| 469/469 [00:25<00:00, 18.07it/s]\n",
            "  0%|          | 0/469 [00:00<?, ?it/s]"
          ],
          "name": "stderr"
        },
        {
          "output_type": "stream",
          "text": [
            "\n",
            "Test set: Average loss: 0.0436, Accuracy: 9929/10000 (99.29%)\n",
            "\n",
            "EPOCH: 9\n"
          ],
          "name": "stdout"
        },
        {
          "output_type": "stream",
          "text": [
            "Loss=0.053923558443784714 Batch_id=468 Accuracy=99.04: 100%|██████████| 469/469 [00:26<00:00, 18.02it/s]\n",
            "  0%|          | 0/469 [00:00<?, ?it/s]"
          ],
          "name": "stderr"
        },
        {
          "output_type": "stream",
          "text": [
            "\n",
            "Test set: Average loss: 0.0446, Accuracy: 9929/10000 (99.29%)\n",
            "\n",
            "EPOCH: 10\n"
          ],
          "name": "stdout"
        },
        {
          "output_type": "stream",
          "text": [
            "Loss=0.0515199638903141 Batch_id=468 Accuracy=99.02: 100%|██████████| 469/469 [00:26<00:00, 18.03it/s]\n",
            "  0%|          | 0/469 [00:00<?, ?it/s]"
          ],
          "name": "stderr"
        },
        {
          "output_type": "stream",
          "text": [
            "\n",
            "Test set: Average loss: 0.0440, Accuracy: 9923/10000 (99.23%)\n",
            "\n",
            "EPOCH: 11\n"
          ],
          "name": "stdout"
        },
        {
          "output_type": "stream",
          "text": [
            "Loss=0.07341083139181137 Batch_id=468 Accuracy=99.07: 100%|██████████| 469/469 [00:26<00:00, 18.01it/s]\n",
            "  0%|          | 0/469 [00:00<?, ?it/s]"
          ],
          "name": "stderr"
        },
        {
          "output_type": "stream",
          "text": [
            "\n",
            "Test set: Average loss: 0.0468, Accuracy: 9919/10000 (99.19%)\n",
            "\n",
            "EPOCH: 12\n"
          ],
          "name": "stdout"
        },
        {
          "output_type": "stream",
          "text": [
            "Loss=0.07649455964565277 Batch_id=468 Accuracy=99.07: 100%|██████████| 469/469 [00:26<00:00, 17.73it/s]\n",
            "  0%|          | 0/469 [00:00<?, ?it/s]"
          ],
          "name": "stderr"
        },
        {
          "output_type": "stream",
          "text": [
            "\n",
            "Test set: Average loss: 0.0458, Accuracy: 9926/10000 (99.26%)\n",
            "\n",
            "EPOCH: 13\n"
          ],
          "name": "stdout"
        },
        {
          "output_type": "stream",
          "text": [
            "Loss=0.05451921746134758 Batch_id=468 Accuracy=99.07: 100%|██████████| 469/469 [00:26<00:00, 17.83it/s]\n",
            "  0%|          | 0/469 [00:00<?, ?it/s]"
          ],
          "name": "stderr"
        },
        {
          "output_type": "stream",
          "text": [
            "\n",
            "Test set: Average loss: 0.0426, Accuracy: 9924/10000 (99.24%)\n",
            "\n",
            "EPOCH: 14\n"
          ],
          "name": "stdout"
        },
        {
          "output_type": "stream",
          "text": [
            "Loss=0.05320926383137703 Batch_id=468 Accuracy=99.09: 100%|██████████| 469/469 [00:26<00:00, 17.71it/s]\n",
            "  0%|          | 0/469 [00:00<?, ?it/s]"
          ],
          "name": "stderr"
        },
        {
          "output_type": "stream",
          "text": [
            "\n",
            "Test set: Average loss: 0.0423, Accuracy: 9929/10000 (99.29%)\n",
            "\n",
            "EPOCH: 15\n"
          ],
          "name": "stdout"
        },
        {
          "output_type": "stream",
          "text": [
            "Loss=0.03994887322187424 Batch_id=468 Accuracy=99.08: 100%|██████████| 469/469 [00:25<00:00, 18.04it/s]\n",
            "  0%|          | 0/469 [00:00<?, ?it/s]"
          ],
          "name": "stderr"
        },
        {
          "output_type": "stream",
          "text": [
            "\n",
            "Test set: Average loss: 0.0426, Accuracy: 9927/10000 (99.27%)\n",
            "\n",
            "EPOCH: 16\n"
          ],
          "name": "stdout"
        },
        {
          "output_type": "stream",
          "text": [
            "Loss=0.11711513996124268 Batch_id=468 Accuracy=99.13: 100%|██████████| 469/469 [00:26<00:00, 17.82it/s]\n",
            "  0%|          | 0/469 [00:00<?, ?it/s]"
          ],
          "name": "stderr"
        },
        {
          "output_type": "stream",
          "text": [
            "\n",
            "Test set: Average loss: 0.0424, Accuracy: 9933/10000 (99.33%)\n",
            "\n",
            "EPOCH: 17\n"
          ],
          "name": "stdout"
        },
        {
          "output_type": "stream",
          "text": [
            "Loss=0.06590598076581955 Batch_id=468 Accuracy=99.11: 100%|██████████| 469/469 [00:26<00:00, 17.97it/s]\n",
            "  0%|          | 0/469 [00:00<?, ?it/s]"
          ],
          "name": "stderr"
        },
        {
          "output_type": "stream",
          "text": [
            "\n",
            "Test set: Average loss: 0.0420, Accuracy: 9933/10000 (99.33%)\n",
            "\n",
            "EPOCH: 18\n"
          ],
          "name": "stdout"
        },
        {
          "output_type": "stream",
          "text": [
            "Loss=0.07164692133665085 Batch_id=468 Accuracy=99.11: 100%|██████████| 469/469 [00:26<00:00, 17.87it/s]\n",
            "  0%|          | 0/469 [00:00<?, ?it/s]"
          ],
          "name": "stderr"
        },
        {
          "output_type": "stream",
          "text": [
            "\n",
            "Test set: Average loss: 0.0429, Accuracy: 9932/10000 (99.32%)\n",
            "\n",
            "EPOCH: 19\n"
          ],
          "name": "stdout"
        },
        {
          "output_type": "stream",
          "text": [
            "Loss=0.12074338644742966 Batch_id=468 Accuracy=99.15: 100%|██████████| 469/469 [00:26<00:00, 18.00it/s]\n",
            "  0%|          | 0/469 [00:00<?, ?it/s]"
          ],
          "name": "stderr"
        },
        {
          "output_type": "stream",
          "text": [
            "\n",
            "Test set: Average loss: 0.0427, Accuracy: 9928/10000 (99.28%)\n",
            "\n",
            "EPOCH: 20\n"
          ],
          "name": "stdout"
        },
        {
          "output_type": "stream",
          "text": [
            "Loss=0.04984027519822121 Batch_id=468 Accuracy=99.14: 100%|██████████| 469/469 [00:26<00:00, 17.97it/s]\n",
            "  0%|          | 0/469 [00:00<?, ?it/s]"
          ],
          "name": "stderr"
        },
        {
          "output_type": "stream",
          "text": [
            "\n",
            "Test set: Average loss: 0.0440, Accuracy: 9926/10000 (99.26%)\n",
            "\n",
            "EPOCH: 21\n"
          ],
          "name": "stdout"
        },
        {
          "output_type": "stream",
          "text": [
            "Loss=0.03461970016360283 Batch_id=468 Accuracy=99.08: 100%|██████████| 469/469 [00:25<00:00, 18.12it/s]\n",
            "  0%|          | 0/469 [00:00<?, ?it/s]"
          ],
          "name": "stderr"
        },
        {
          "output_type": "stream",
          "text": [
            "\n",
            "Test set: Average loss: 0.0433, Accuracy: 9928/10000 (99.28%)\n",
            "\n",
            "EPOCH: 22\n"
          ],
          "name": "stdout"
        },
        {
          "output_type": "stream",
          "text": [
            "Loss=0.08499297499656677 Batch_id=468 Accuracy=99.11: 100%|██████████| 469/469 [00:25<00:00, 18.04it/s]\n",
            "  0%|          | 0/469 [00:00<?, ?it/s]"
          ],
          "name": "stderr"
        },
        {
          "output_type": "stream",
          "text": [
            "\n",
            "Test set: Average loss: 0.0430, Accuracy: 9929/10000 (99.29%)\n",
            "\n",
            "EPOCH: 23\n"
          ],
          "name": "stdout"
        },
        {
          "output_type": "stream",
          "text": [
            "Loss=0.08189912140369415 Batch_id=468 Accuracy=99.14: 100%|██████████| 469/469 [00:26<00:00, 17.86it/s]\n",
            "  0%|          | 0/469 [00:00<?, ?it/s]"
          ],
          "name": "stderr"
        },
        {
          "output_type": "stream",
          "text": [
            "\n",
            "Test set: Average loss: 0.0432, Accuracy: 9926/10000 (99.26%)\n",
            "\n",
            "EPOCH: 24\n"
          ],
          "name": "stdout"
        },
        {
          "output_type": "stream",
          "text": [
            "Loss=0.06139653921127319 Batch_id=468 Accuracy=99.14: 100%|██████████| 469/469 [00:25<00:00, 18.06it/s]\n",
            "  0%|          | 0/469 [00:00<?, ?it/s]"
          ],
          "name": "stderr"
        },
        {
          "output_type": "stream",
          "text": [
            "\n",
            "Test set: Average loss: 0.0427, Accuracy: 9926/10000 (99.26%)\n",
            "\n",
            "EPOCH: 25\n"
          ],
          "name": "stdout"
        },
        {
          "output_type": "stream",
          "text": [
            "Loss=0.09256768971681595 Batch_id=468 Accuracy=99.18: 100%|██████████| 469/469 [00:26<00:00, 17.98it/s]\n",
            "  0%|          | 0/469 [00:00<?, ?it/s]"
          ],
          "name": "stderr"
        },
        {
          "output_type": "stream",
          "text": [
            "\n",
            "Test set: Average loss: 0.0431, Accuracy: 9928/10000 (99.28%)\n",
            "\n",
            "\n",
            "MODEL 3\n",
            "Property bn_l1_l2\n",
            "\n",
            "EPOCH: 1\n"
          ],
          "name": "stdout"
        },
        {
          "output_type": "stream",
          "text": [
            "Loss=0.4120216965675354 Batch_id=468 Accuracy=84.55: 100%|██████████| 469/469 [00:25<00:00, 18.06it/s]\n",
            "  0%|          | 0/469 [00:00<?, ?it/s]"
          ],
          "name": "stderr"
        },
        {
          "output_type": "stream",
          "text": [
            "\n",
            "Test set: Average loss: 0.1562, Accuracy: 9668/10000 (96.68%)\n",
            "\n",
            "EPOCH: 2\n"
          ],
          "name": "stdout"
        },
        {
          "output_type": "stream",
          "text": [
            "Loss=0.2310575693845749 Batch_id=468 Accuracy=97.36: 100%|██████████| 469/469 [00:26<00:00, 18.02it/s]\n",
            "  0%|          | 0/469 [00:00<?, ?it/s]"
          ],
          "name": "stderr"
        },
        {
          "output_type": "stream",
          "text": [
            "\n",
            "Test set: Average loss: 0.1193, Accuracy: 9742/10000 (97.42%)\n",
            "\n",
            "EPOCH: 3\n"
          ],
          "name": "stdout"
        },
        {
          "output_type": "stream",
          "text": [
            "Loss=0.2195376753807068 Batch_id=468 Accuracy=97.85: 100%|██████████| 469/469 [00:25<00:00, 18.05it/s]\n",
            "  0%|          | 0/469 [00:00<?, ?it/s]"
          ],
          "name": "stderr"
        },
        {
          "output_type": "stream",
          "text": [
            "\n",
            "Test set: Average loss: 0.1107, Accuracy: 9782/10000 (97.82%)\n",
            "\n",
            "EPOCH: 4\n"
          ],
          "name": "stdout"
        },
        {
          "output_type": "stream",
          "text": [
            "Loss=0.19849860668182373 Batch_id=468 Accuracy=97.84: 100%|██████████| 469/469 [00:26<00:00, 18.02it/s]\n",
            "  0%|          | 0/469 [00:00<?, ?it/s]"
          ],
          "name": "stderr"
        },
        {
          "output_type": "stream",
          "text": [
            "\n",
            "Test set: Average loss: 0.0870, Accuracy: 9814/10000 (98.14%)\n",
            "\n",
            "EPOCH: 5\n"
          ],
          "name": "stdout"
        },
        {
          "output_type": "stream",
          "text": [
            "Loss=0.21282929182052612 Batch_id=468 Accuracy=97.94: 100%|██████████| 469/469 [00:26<00:00, 17.92it/s]\n",
            "  0%|          | 0/469 [00:00<?, ?it/s]"
          ],
          "name": "stderr"
        },
        {
          "output_type": "stream",
          "text": [
            "\n",
            "Test set: Average loss: 0.1009, Accuracy: 9830/10000 (98.30%)\n",
            "\n",
            "EPOCH: 6\n"
          ],
          "name": "stdout"
        },
        {
          "output_type": "stream",
          "text": [
            "Loss=0.20909398794174194 Batch_id=468 Accuracy=97.98: 100%|██████████| 469/469 [00:26<00:00, 17.92it/s]\n",
            "  0%|          | 0/469 [00:00<?, ?it/s]"
          ],
          "name": "stderr"
        },
        {
          "output_type": "stream",
          "text": [
            "\n",
            "Test set: Average loss: 0.0976, Accuracy: 9773/10000 (97.73%)\n",
            "\n",
            "EPOCH: 7\n"
          ],
          "name": "stdout"
        },
        {
          "output_type": "stream",
          "text": [
            "Loss=0.16121405363082886 Batch_id=468 Accuracy=98.65: 100%|██████████| 469/469 [00:26<00:00, 17.96it/s]\n",
            "  0%|          | 0/469 [00:00<?, ?it/s]"
          ],
          "name": "stderr"
        },
        {
          "output_type": "stream",
          "text": [
            "\n",
            "Test set: Average loss: 0.0485, Accuracy: 9918/10000 (99.18%)\n",
            "\n",
            "EPOCH: 8\n"
          ],
          "name": "stdout"
        },
        {
          "output_type": "stream",
          "text": [
            "Loss=0.23310691118240356 Batch_id=468 Accuracy=98.86: 100%|██████████| 469/469 [00:26<00:00, 17.98it/s]\n",
            "  0%|          | 0/469 [00:00<?, ?it/s]"
          ],
          "name": "stderr"
        },
        {
          "output_type": "stream",
          "text": [
            "\n",
            "Test set: Average loss: 0.0449, Accuracy: 9925/10000 (99.25%)\n",
            "\n",
            "EPOCH: 9\n"
          ],
          "name": "stdout"
        },
        {
          "output_type": "stream",
          "text": [
            "Loss=0.16271302103996277 Batch_id=468 Accuracy=98.78: 100%|██████████| 469/469 [00:25<00:00, 18.05it/s]\n",
            "  0%|          | 0/469 [00:00<?, ?it/s]"
          ],
          "name": "stderr"
        },
        {
          "output_type": "stream",
          "text": [
            "\n",
            "Test set: Average loss: 0.0532, Accuracy: 9902/10000 (99.02%)\n",
            "\n",
            "EPOCH: 10\n"
          ],
          "name": "stdout"
        },
        {
          "output_type": "stream",
          "text": [
            "Loss=0.14276961982250214 Batch_id=468 Accuracy=98.80: 100%|██████████| 469/469 [00:26<00:00, 17.80it/s]\n",
            "  0%|          | 0/469 [00:00<?, ?it/s]"
          ],
          "name": "stderr"
        },
        {
          "output_type": "stream",
          "text": [
            "\n",
            "Test set: Average loss: 0.0505, Accuracy: 9914/10000 (99.14%)\n",
            "\n",
            "EPOCH: 11\n"
          ],
          "name": "stdout"
        },
        {
          "output_type": "stream",
          "text": [
            "Loss=0.13076689839363098 Batch_id=468 Accuracy=98.86: 100%|██████████| 469/469 [00:26<00:00, 18.02it/s]\n",
            "  0%|          | 0/469 [00:00<?, ?it/s]"
          ],
          "name": "stderr"
        },
        {
          "output_type": "stream",
          "text": [
            "\n",
            "Test set: Average loss: 0.0518, Accuracy: 9922/10000 (99.22%)\n",
            "\n",
            "EPOCH: 12\n"
          ],
          "name": "stdout"
        },
        {
          "output_type": "stream",
          "text": [
            "Loss=0.1461963653564453 Batch_id=468 Accuracy=98.82: 100%|██████████| 469/469 [00:26<00:00, 18.02it/s]\n",
            "  0%|          | 0/469 [00:00<?, ?it/s]"
          ],
          "name": "stderr"
        },
        {
          "output_type": "stream",
          "text": [
            "\n",
            "Test set: Average loss: 0.0558, Accuracy: 9902/10000 (99.02%)\n",
            "\n",
            "EPOCH: 13\n"
          ],
          "name": "stdout"
        },
        {
          "output_type": "stream",
          "text": [
            "Loss=0.22456376254558563 Batch_id=468 Accuracy=98.95: 100%|██████████| 469/469 [00:26<00:00, 17.92it/s]\n",
            "  0%|          | 0/469 [00:00<?, ?it/s]"
          ],
          "name": "stderr"
        },
        {
          "output_type": "stream",
          "text": [
            "\n",
            "Test set: Average loss: 0.0429, Accuracy: 9930/10000 (99.30%)\n",
            "\n",
            "EPOCH: 14\n"
          ],
          "name": "stdout"
        },
        {
          "output_type": "stream",
          "text": [
            "Loss=0.15740691125392914 Batch_id=468 Accuracy=98.97: 100%|██████████| 469/469 [00:26<00:00, 18.01it/s]\n",
            "  0%|          | 0/469 [00:00<?, ?it/s]"
          ],
          "name": "stderr"
        },
        {
          "output_type": "stream",
          "text": [
            "\n",
            "Test set: Average loss: 0.0429, Accuracy: 9936/10000 (99.36%)\n",
            "\n",
            "EPOCH: 15\n"
          ],
          "name": "stdout"
        },
        {
          "output_type": "stream",
          "text": [
            "Loss=0.15771254897117615 Batch_id=468 Accuracy=99.03: 100%|██████████| 469/469 [00:26<00:00, 17.93it/s]\n",
            "  0%|          | 0/469 [00:00<?, ?it/s]"
          ],
          "name": "stderr"
        },
        {
          "output_type": "stream",
          "text": [
            "\n",
            "Test set: Average loss: 0.0422, Accuracy: 9935/10000 (99.35%)\n",
            "\n",
            "EPOCH: 16\n"
          ],
          "name": "stdout"
        },
        {
          "output_type": "stream",
          "text": [
            "Loss=0.13186237215995789 Batch_id=468 Accuracy=99.05: 100%|██████████| 469/469 [00:25<00:00, 18.05it/s]\n",
            "  0%|          | 0/469 [00:00<?, ?it/s]"
          ],
          "name": "stderr"
        },
        {
          "output_type": "stream",
          "text": [
            "\n",
            "Test set: Average loss: 0.0434, Accuracy: 9932/10000 (99.32%)\n",
            "\n",
            "EPOCH: 17\n"
          ],
          "name": "stdout"
        },
        {
          "output_type": "stream",
          "text": [
            "Loss=0.14407238364219666 Batch_id=468 Accuracy=99.02: 100%|██████████| 469/469 [00:26<00:00, 18.00it/s]\n",
            "  0%|          | 0/469 [00:00<?, ?it/s]"
          ],
          "name": "stderr"
        },
        {
          "output_type": "stream",
          "text": [
            "\n",
            "Test set: Average loss: 0.0437, Accuracy: 9937/10000 (99.37%)\n",
            "\n",
            "EPOCH: 18\n"
          ],
          "name": "stdout"
        },
        {
          "output_type": "stream",
          "text": [
            "Loss=0.13835550844669342 Batch_id=468 Accuracy=99.02: 100%|██████████| 469/469 [00:26<00:00, 17.89it/s]\n",
            "  0%|          | 0/469 [00:00<?, ?it/s]"
          ],
          "name": "stderr"
        },
        {
          "output_type": "stream",
          "text": [
            "\n",
            "Test set: Average loss: 0.0428, Accuracy: 9936/10000 (99.36%)\n",
            "\n",
            "EPOCH: 19\n"
          ],
          "name": "stdout"
        },
        {
          "output_type": "stream",
          "text": [
            "Loss=0.13095073401927948 Batch_id=468 Accuracy=99.09: 100%|██████████| 469/469 [00:26<00:00, 17.98it/s]\n",
            "  0%|          | 0/469 [00:00<?, ?it/s]"
          ],
          "name": "stderr"
        },
        {
          "output_type": "stream",
          "text": [
            "\n",
            "Test set: Average loss: 0.0429, Accuracy: 9935/10000 (99.35%)\n",
            "\n",
            "EPOCH: 20\n"
          ],
          "name": "stdout"
        },
        {
          "output_type": "stream",
          "text": [
            "Loss=0.1439235806465149 Batch_id=468 Accuracy=99.06: 100%|██████████| 469/469 [00:26<00:00, 18.03it/s]\n",
            "  0%|          | 0/469 [00:00<?, ?it/s]"
          ],
          "name": "stderr"
        },
        {
          "output_type": "stream",
          "text": [
            "\n",
            "Test set: Average loss: 0.0436, Accuracy: 9930/10000 (99.30%)\n",
            "\n",
            "EPOCH: 21\n"
          ],
          "name": "stdout"
        },
        {
          "output_type": "stream",
          "text": [
            "Loss=0.13207246363162994 Batch_id=468 Accuracy=99.07: 100%|██████████| 469/469 [00:26<00:00, 17.96it/s]\n",
            "  0%|          | 0/469 [00:00<?, ?it/s]"
          ],
          "name": "stderr"
        },
        {
          "output_type": "stream",
          "text": [
            "\n",
            "Test set: Average loss: 0.0425, Accuracy: 9935/10000 (99.35%)\n",
            "\n",
            "EPOCH: 22\n"
          ],
          "name": "stdout"
        },
        {
          "output_type": "stream",
          "text": [
            "Loss=0.12539909780025482 Batch_id=468 Accuracy=99.08: 100%|██████████| 469/469 [00:25<00:00, 18.06it/s]\n",
            "  0%|          | 0/469 [00:00<?, ?it/s]"
          ],
          "name": "stderr"
        },
        {
          "output_type": "stream",
          "text": [
            "\n",
            "Test set: Average loss: 0.0428, Accuracy: 9932/10000 (99.32%)\n",
            "\n",
            "EPOCH: 23\n"
          ],
          "name": "stdout"
        },
        {
          "output_type": "stream",
          "text": [
            "Loss=0.12459761649370193 Batch_id=468 Accuracy=99.04: 100%|██████████| 469/469 [00:26<00:00, 17.99it/s]\n",
            "  0%|          | 0/469 [00:00<?, ?it/s]"
          ],
          "name": "stderr"
        },
        {
          "output_type": "stream",
          "text": [
            "\n",
            "Test set: Average loss: 0.0422, Accuracy: 9935/10000 (99.35%)\n",
            "\n",
            "EPOCH: 24\n"
          ],
          "name": "stdout"
        },
        {
          "output_type": "stream",
          "text": [
            "Loss=0.12549886107444763 Batch_id=468 Accuracy=99.07: 100%|██████████| 469/469 [00:26<00:00, 17.78it/s]\n",
            "  0%|          | 0/469 [00:00<?, ?it/s]"
          ],
          "name": "stderr"
        },
        {
          "output_type": "stream",
          "text": [
            "\n",
            "Test set: Average loss: 0.0424, Accuracy: 9934/10000 (99.34%)\n",
            "\n",
            "EPOCH: 25\n"
          ],
          "name": "stdout"
        },
        {
          "output_type": "stream",
          "text": [
            "Loss=0.16602292656898499 Batch_id=468 Accuracy=99.06: 100%|██████████| 469/469 [00:26<00:00, 18.03it/s]\n",
            "  0%|          | 0/469 [00:00<?, ?it/s]"
          ],
          "name": "stderr"
        },
        {
          "output_type": "stream",
          "text": [
            "\n",
            "Test set: Average loss: 0.0425, Accuracy: 9934/10000 (99.34%)\n",
            "\n",
            "\n",
            "MODEL 4\n",
            "Property gbn\n",
            "\n",
            "EPOCH: 1\n"
          ],
          "name": "stdout"
        },
        {
          "output_type": "stream",
          "text": [
            "Loss=0.11638665199279785 Batch_id=468 Accuracy=84.86: 100%|██████████| 469/469 [00:26<00:00, 18.00it/s]\n",
            "  0%|          | 0/469 [00:00<?, ?it/s]"
          ],
          "name": "stderr"
        },
        {
          "output_type": "stream",
          "text": [
            "\n",
            "Test set: Average loss: 0.1939, Accuracy: 9456/10000 (94.56%)\n",
            "\n",
            "EPOCH: 2\n"
          ],
          "name": "stdout"
        },
        {
          "output_type": "stream",
          "text": [
            "Loss=0.0943790152668953 Batch_id=468 Accuracy=97.40: 100%|██████████| 469/469 [00:26<00:00, 17.91it/s]\n",
            "  0%|          | 0/469 [00:00<?, ?it/s]"
          ],
          "name": "stderr"
        },
        {
          "output_type": "stream",
          "text": [
            "\n",
            "Test set: Average loss: 0.0668, Accuracy: 9826/10000 (98.26%)\n",
            "\n",
            "EPOCH: 3\n"
          ],
          "name": "stdout"
        },
        {
          "output_type": "stream",
          "text": [
            "Loss=0.018682369962334633 Batch_id=468 Accuracy=98.03: 100%|██████████| 469/469 [00:25<00:00, 18.08it/s]\n",
            "  0%|          | 0/469 [00:00<?, ?it/s]"
          ],
          "name": "stderr"
        },
        {
          "output_type": "stream",
          "text": [
            "\n",
            "Test set: Average loss: 0.0452, Accuracy: 9872/10000 (98.72%)\n",
            "\n",
            "EPOCH: 4\n"
          ],
          "name": "stdout"
        },
        {
          "output_type": "stream",
          "text": [
            "Loss=0.06991840153932571 Batch_id=468 Accuracy=98.38: 100%|██████████| 469/469 [00:26<00:00, 17.78it/s]\n",
            "  0%|          | 0/469 [00:00<?, ?it/s]"
          ],
          "name": "stderr"
        },
        {
          "output_type": "stream",
          "text": [
            "\n",
            "Test set: Average loss: 0.0442, Accuracy: 9855/10000 (98.55%)\n",
            "\n",
            "EPOCH: 5\n"
          ],
          "name": "stdout"
        },
        {
          "output_type": "stream",
          "text": [
            "Loss=0.03963065519928932 Batch_id=468 Accuracy=98.54: 100%|██████████| 469/469 [00:26<00:00, 17.88it/s]\n",
            "  0%|          | 0/469 [00:00<?, ?it/s]"
          ],
          "name": "stderr"
        },
        {
          "output_type": "stream",
          "text": [
            "\n",
            "Test set: Average loss: 0.0407, Accuracy: 9878/10000 (98.78%)\n",
            "\n",
            "EPOCH: 6\n"
          ],
          "name": "stdout"
        },
        {
          "output_type": "stream",
          "text": [
            "Loss=0.059889256954193115 Batch_id=468 Accuracy=98.73: 100%|██████████| 469/469 [00:26<00:00, 17.96it/s]\n",
            "  0%|          | 0/469 [00:00<?, ?it/s]"
          ],
          "name": "stderr"
        },
        {
          "output_type": "stream",
          "text": [
            "\n",
            "Test set: Average loss: 0.0320, Accuracy: 9905/10000 (99.05%)\n",
            "\n",
            "EPOCH: 7\n"
          ],
          "name": "stdout"
        },
        {
          "output_type": "stream",
          "text": [
            "Loss=0.03730370104312897 Batch_id=468 Accuracy=98.93: 100%|██████████| 469/469 [00:26<00:00, 17.99it/s]\n",
            "  0%|          | 0/469 [00:00<?, ?it/s]"
          ],
          "name": "stderr"
        },
        {
          "output_type": "stream",
          "text": [
            "\n",
            "Test set: Average loss: 0.0242, Accuracy: 9931/10000 (99.31%)\n",
            "\n",
            "EPOCH: 8\n"
          ],
          "name": "stdout"
        },
        {
          "output_type": "stream",
          "text": [
            "Loss=0.018792346119880676 Batch_id=468 Accuracy=99.06: 100%|██████████| 469/469 [00:26<00:00, 18.01it/s]\n",
            "  0%|          | 0/469 [00:00<?, ?it/s]"
          ],
          "name": "stderr"
        },
        {
          "output_type": "stream",
          "text": [
            "\n",
            "Test set: Average loss: 0.0230, Accuracy: 9934/10000 (99.34%)\n",
            "\n",
            "EPOCH: 9\n"
          ],
          "name": "stdout"
        },
        {
          "output_type": "stream",
          "text": [
            "Loss=0.020366035401821136 Batch_id=468 Accuracy=99.08: 100%|██████████| 469/469 [00:25<00:00, 18.09it/s]\n",
            "  0%|          | 0/469 [00:00<?, ?it/s]"
          ],
          "name": "stderr"
        },
        {
          "output_type": "stream",
          "text": [
            "\n",
            "Test set: Average loss: 0.0242, Accuracy: 9930/10000 (99.30%)\n",
            "\n",
            "EPOCH: 10\n"
          ],
          "name": "stdout"
        },
        {
          "output_type": "stream",
          "text": [
            "Loss=0.03866138681769371 Batch_id=468 Accuracy=99.10: 100%|██████████| 469/469 [00:26<00:00, 17.78it/s]\n",
            "  0%|          | 0/469 [00:00<?, ?it/s]"
          ],
          "name": "stderr"
        },
        {
          "output_type": "stream",
          "text": [
            "\n",
            "Test set: Average loss: 0.0228, Accuracy: 9934/10000 (99.34%)\n",
            "\n",
            "EPOCH: 11\n"
          ],
          "name": "stdout"
        },
        {
          "output_type": "stream",
          "text": [
            "Loss=0.02008260041475296 Batch_id=468 Accuracy=99.15: 100%|██████████| 469/469 [00:26<00:00, 17.89it/s]\n",
            "  0%|          | 0/469 [00:00<?, ?it/s]"
          ],
          "name": "stderr"
        },
        {
          "output_type": "stream",
          "text": [
            "\n",
            "Test set: Average loss: 0.0232, Accuracy: 9932/10000 (99.32%)\n",
            "\n",
            "EPOCH: 12\n"
          ],
          "name": "stdout"
        },
        {
          "output_type": "stream",
          "text": [
            "Loss=0.01803211122751236 Batch_id=468 Accuracy=99.14: 100%|██████████| 469/469 [00:26<00:00, 18.00it/s]\n",
            "  0%|          | 0/469 [00:00<?, ?it/s]"
          ],
          "name": "stderr"
        },
        {
          "output_type": "stream",
          "text": [
            "\n",
            "Test set: Average loss: 0.0229, Accuracy: 9932/10000 (99.32%)\n",
            "\n",
            "EPOCH: 13\n"
          ],
          "name": "stdout"
        },
        {
          "output_type": "stream",
          "text": [
            "Loss=0.03721116855740547 Batch_id=468 Accuracy=99.16: 100%|██████████| 469/469 [00:26<00:00, 17.91it/s]\n",
            "  0%|          | 0/469 [00:00<?, ?it/s]"
          ],
          "name": "stderr"
        },
        {
          "output_type": "stream",
          "text": [
            "\n",
            "Test set: Average loss: 0.0221, Accuracy: 9932/10000 (99.32%)\n",
            "\n",
            "EPOCH: 14\n"
          ],
          "name": "stdout"
        },
        {
          "output_type": "stream",
          "text": [
            "Loss=0.02684597671031952 Batch_id=468 Accuracy=99.16: 100%|██████████| 469/469 [00:26<00:00, 18.00it/s]\n",
            "  0%|          | 0/469 [00:00<?, ?it/s]"
          ],
          "name": "stderr"
        },
        {
          "output_type": "stream",
          "text": [
            "\n",
            "Test set: Average loss: 0.0224, Accuracy: 9936/10000 (99.36%)\n",
            "\n",
            "EPOCH: 15\n"
          ],
          "name": "stdout"
        },
        {
          "output_type": "stream",
          "text": [
            "Loss=0.028898214921355247 Batch_id=468 Accuracy=99.16: 100%|██████████| 469/469 [00:26<00:00, 17.97it/s]\n",
            "  0%|          | 0/469 [00:00<?, ?it/s]"
          ],
          "name": "stderr"
        },
        {
          "output_type": "stream",
          "text": [
            "\n",
            "Test set: Average loss: 0.0225, Accuracy: 9931/10000 (99.31%)\n",
            "\n",
            "EPOCH: 16\n"
          ],
          "name": "stdout"
        },
        {
          "output_type": "stream",
          "text": [
            "Loss=0.0137747498229146 Batch_id=468 Accuracy=99.15: 100%|██████████| 469/469 [00:26<00:00, 17.72it/s]\n",
            "  0%|          | 0/469 [00:00<?, ?it/s]"
          ],
          "name": "stderr"
        },
        {
          "output_type": "stream",
          "text": [
            "\n",
            "Test set: Average loss: 0.0219, Accuracy: 9934/10000 (99.34%)\n",
            "\n",
            "EPOCH: 17\n"
          ],
          "name": "stdout"
        },
        {
          "output_type": "stream",
          "text": [
            "Loss=0.016293153166770935 Batch_id=468 Accuracy=99.15: 100%|██████████| 469/469 [00:26<00:00, 17.87it/s]\n",
            "  0%|          | 0/469 [00:00<?, ?it/s]"
          ],
          "name": "stderr"
        },
        {
          "output_type": "stream",
          "text": [
            "\n",
            "Test set: Average loss: 0.0221, Accuracy: 9934/10000 (99.34%)\n",
            "\n",
            "EPOCH: 18\n"
          ],
          "name": "stdout"
        },
        {
          "output_type": "stream",
          "text": [
            "Loss=0.044030871242284775 Batch_id=468 Accuracy=99.13: 100%|██████████| 469/469 [00:26<00:00, 17.91it/s]\n",
            "  0%|          | 0/469 [00:00<?, ?it/s]"
          ],
          "name": "stderr"
        },
        {
          "output_type": "stream",
          "text": [
            "\n",
            "Test set: Average loss: 0.0219, Accuracy: 9939/10000 (99.39%)\n",
            "\n",
            "EPOCH: 19\n"
          ],
          "name": "stdout"
        },
        {
          "output_type": "stream",
          "text": [
            "Loss=0.018950866535305977 Batch_id=468 Accuracy=99.19: 100%|██████████| 469/469 [00:26<00:00, 17.91it/s]\n",
            "  0%|          | 0/469 [00:00<?, ?it/s]"
          ],
          "name": "stderr"
        },
        {
          "output_type": "stream",
          "text": [
            "\n",
            "Test set: Average loss: 0.0221, Accuracy: 9934/10000 (99.34%)\n",
            "\n",
            "EPOCH: 20\n"
          ],
          "name": "stdout"
        },
        {
          "output_type": "stream",
          "text": [
            "Loss=0.012673723511397839 Batch_id=468 Accuracy=99.21: 100%|██████████| 469/469 [00:26<00:00, 17.99it/s]\n",
            "  0%|          | 0/469 [00:00<?, ?it/s]"
          ],
          "name": "stderr"
        },
        {
          "output_type": "stream",
          "text": [
            "\n",
            "Test set: Average loss: 0.0224, Accuracy: 9934/10000 (99.34%)\n",
            "\n",
            "EPOCH: 21\n"
          ],
          "name": "stdout"
        },
        {
          "output_type": "stream",
          "text": [
            "Loss=0.04394469037652016 Batch_id=468 Accuracy=99.16: 100%|██████████| 469/469 [00:26<00:00, 17.78it/s]\n",
            "  0%|          | 0/469 [00:00<?, ?it/s]"
          ],
          "name": "stderr"
        },
        {
          "output_type": "stream",
          "text": [
            "\n",
            "Test set: Average loss: 0.0220, Accuracy: 9931/10000 (99.31%)\n",
            "\n",
            "EPOCH: 22\n"
          ],
          "name": "stdout"
        },
        {
          "output_type": "stream",
          "text": [
            "Loss=0.006882977206259966 Batch_id=468 Accuracy=99.17: 100%|██████████| 469/469 [00:26<00:00, 17.86it/s]\n",
            "  0%|          | 0/469 [00:00<?, ?it/s]"
          ],
          "name": "stderr"
        },
        {
          "output_type": "stream",
          "text": [
            "\n",
            "Test set: Average loss: 0.0223, Accuracy: 9933/10000 (99.33%)\n",
            "\n",
            "EPOCH: 23\n"
          ],
          "name": "stdout"
        },
        {
          "output_type": "stream",
          "text": [
            "Loss=0.055013250559568405 Batch_id=468 Accuracy=99.20: 100%|██████████| 469/469 [00:26<00:00, 17.81it/s]\n",
            "  0%|          | 0/469 [00:00<?, ?it/s]"
          ],
          "name": "stderr"
        },
        {
          "output_type": "stream",
          "text": [
            "\n",
            "Test set: Average loss: 0.0226, Accuracy: 9934/10000 (99.34%)\n",
            "\n",
            "EPOCH: 24\n"
          ],
          "name": "stdout"
        },
        {
          "output_type": "stream",
          "text": [
            "Loss=0.02128603868186474 Batch_id=468 Accuracy=99.19: 100%|██████████| 469/469 [00:26<00:00, 17.87it/s]\n",
            "  0%|          | 0/469 [00:00<?, ?it/s]"
          ],
          "name": "stderr"
        },
        {
          "output_type": "stream",
          "text": [
            "\n",
            "Test set: Average loss: 0.0218, Accuracy: 9936/10000 (99.36%)\n",
            "\n",
            "EPOCH: 25\n"
          ],
          "name": "stdout"
        },
        {
          "output_type": "stream",
          "text": [
            "Loss=0.01685778610408306 Batch_id=468 Accuracy=99.17: 100%|██████████| 469/469 [00:26<00:00, 17.98it/s]\n",
            "  0%|          | 0/469 [00:00<?, ?it/s]"
          ],
          "name": "stderr"
        },
        {
          "output_type": "stream",
          "text": [
            "\n",
            "Test set: Average loss: 0.0222, Accuracy: 9932/10000 (99.32%)\n",
            "\n",
            "\n",
            "MODEL 5\n",
            "Property gbn_l1_l2\n",
            "\n",
            "EPOCH: 1\n"
          ],
          "name": "stdout"
        },
        {
          "output_type": "stream",
          "text": [
            "Loss=0.33214718103408813 Batch_id=468 Accuracy=82.52: 100%|██████████| 469/469 [00:26<00:00, 17.79it/s]\n",
            "  0%|          | 0/469 [00:00<?, ?it/s]"
          ],
          "name": "stderr"
        },
        {
          "output_type": "stream",
          "text": [
            "\n",
            "Test set: Average loss: 0.1732, Accuracy: 9651/10000 (96.51%)\n",
            "\n",
            "EPOCH: 2\n"
          ],
          "name": "stdout"
        },
        {
          "output_type": "stream",
          "text": [
            "Loss=0.2735029458999634 Batch_id=468 Accuracy=97.26: 100%|██████████| 469/469 [00:26<00:00, 17.68it/s]\n",
            "  0%|          | 0/469 [00:00<?, ?it/s]"
          ],
          "name": "stderr"
        },
        {
          "output_type": "stream",
          "text": [
            "\n",
            "Test set: Average loss: 0.1025, Accuracy: 9788/10000 (97.88%)\n",
            "\n",
            "EPOCH: 3\n"
          ],
          "name": "stdout"
        },
        {
          "output_type": "stream",
          "text": [
            "Loss=0.22288644313812256 Batch_id=468 Accuracy=97.75: 100%|██████████| 469/469 [00:26<00:00, 17.99it/s]\n",
            "  0%|          | 0/469 [00:00<?, ?it/s]"
          ],
          "name": "stderr"
        },
        {
          "output_type": "stream",
          "text": [
            "\n",
            "Test set: Average loss: 0.0982, Accuracy: 9799/10000 (97.99%)\n",
            "\n",
            "EPOCH: 4\n"
          ],
          "name": "stdout"
        },
        {
          "output_type": "stream",
          "text": [
            "Loss=0.2320786565542221 Batch_id=468 Accuracy=97.86: 100%|██████████| 469/469 [00:25<00:00, 18.32it/s]\n",
            "  0%|          | 0/469 [00:00<?, ?it/s]"
          ],
          "name": "stderr"
        },
        {
          "output_type": "stream",
          "text": [
            "\n",
            "Test set: Average loss: 0.0945, Accuracy: 9791/10000 (97.91%)\n",
            "\n",
            "EPOCH: 5\n"
          ],
          "name": "stdout"
        },
        {
          "output_type": "stream",
          "text": [
            "Loss=0.2458760291337967 Batch_id=468 Accuracy=97.82: 100%|██████████| 469/469 [00:25<00:00, 18.08it/s]\n",
            "  0%|          | 0/469 [00:00<?, ?it/s]"
          ],
          "name": "stderr"
        },
        {
          "output_type": "stream",
          "text": [
            "\n",
            "Test set: Average loss: 0.0969, Accuracy: 9819/10000 (98.19%)\n",
            "\n",
            "EPOCH: 6\n"
          ],
          "name": "stdout"
        },
        {
          "output_type": "stream",
          "text": [
            "Loss=0.2639668881893158 Batch_id=468 Accuracy=97.78: 100%|██████████| 469/469 [00:25<00:00, 18.10it/s]\n",
            "  0%|          | 0/469 [00:00<?, ?it/s]"
          ],
          "name": "stderr"
        },
        {
          "output_type": "stream",
          "text": [
            "\n",
            "Test set: Average loss: 0.0978, Accuracy: 9779/10000 (97.79%)\n",
            "\n",
            "EPOCH: 7\n"
          ],
          "name": "stdout"
        },
        {
          "output_type": "stream",
          "text": [
            "Loss=0.1890518069267273 Batch_id=468 Accuracy=98.54: 100%|██████████| 469/469 [00:26<00:00, 17.96it/s]\n",
            "  0%|          | 0/469 [00:00<?, ?it/s]"
          ],
          "name": "stderr"
        },
        {
          "output_type": "stream",
          "text": [
            "\n",
            "Test set: Average loss: 0.0430, Accuracy: 9922/10000 (99.22%)\n",
            "\n",
            "EPOCH: 8\n"
          ],
          "name": "stdout"
        },
        {
          "output_type": "stream",
          "text": [
            "Loss=0.20363688468933105 Batch_id=468 Accuracy=98.73: 100%|██████████| 469/469 [00:25<00:00, 18.17it/s]\n",
            "  0%|          | 0/469 [00:00<?, ?it/s]"
          ],
          "name": "stderr"
        },
        {
          "output_type": "stream",
          "text": [
            "\n",
            "Test set: Average loss: 0.0429, Accuracy: 9927/10000 (99.27%)\n",
            "\n",
            "EPOCH: 9\n"
          ],
          "name": "stdout"
        },
        {
          "output_type": "stream",
          "text": [
            "Loss=0.1372997760772705 Batch_id=468 Accuracy=98.67: 100%|██████████| 469/469 [00:25<00:00, 18.29it/s]\n",
            "  0%|          | 0/469 [00:00<?, ?it/s]"
          ],
          "name": "stderr"
        },
        {
          "output_type": "stream",
          "text": [
            "\n",
            "Test set: Average loss: 0.0473, Accuracy: 9917/10000 (99.17%)\n",
            "\n",
            "EPOCH: 10\n"
          ],
          "name": "stdout"
        },
        {
          "output_type": "stream",
          "text": [
            "Loss=0.2131902128458023 Batch_id=468 Accuracy=98.73: 100%|██████████| 469/469 [00:26<00:00, 17.69it/s]\n",
            "  0%|          | 0/469 [00:00<?, ?it/s]"
          ],
          "name": "stderr"
        },
        {
          "output_type": "stream",
          "text": [
            "\n",
            "Test set: Average loss: 0.0473, Accuracy: 9913/10000 (99.13%)\n",
            "\n",
            "EPOCH: 11\n"
          ],
          "name": "stdout"
        },
        {
          "output_type": "stream",
          "text": [
            "Loss=0.17436277866363525 Batch_id=468 Accuracy=98.69: 100%|██████████| 469/469 [00:27<00:00, 17.06it/s]\n",
            "  0%|          | 0/469 [00:00<?, ?it/s]"
          ],
          "name": "stderr"
        },
        {
          "output_type": "stream",
          "text": [
            "\n",
            "Test set: Average loss: 0.0485, Accuracy: 9919/10000 (99.19%)\n",
            "\n",
            "EPOCH: 12\n"
          ],
          "name": "stdout"
        },
        {
          "output_type": "stream",
          "text": [
            "Loss=0.15492311120033264 Batch_id=468 Accuracy=98.71: 100%|██████████| 469/469 [00:27<00:00, 16.80it/s]\n",
            "  0%|          | 0/469 [00:00<?, ?it/s]"
          ],
          "name": "stderr"
        },
        {
          "output_type": "stream",
          "text": [
            "\n",
            "Test set: Average loss: 0.0500, Accuracy: 9907/10000 (99.07%)\n",
            "\n",
            "EPOCH: 13\n"
          ],
          "name": "stdout"
        },
        {
          "output_type": "stream",
          "text": [
            "Loss=0.12484817206859589 Batch_id=468 Accuracy=98.85: 100%|██████████| 469/469 [00:27<00:00, 17.33it/s]\n",
            "  0%|          | 0/469 [00:00<?, ?it/s]"
          ],
          "name": "stderr"
        },
        {
          "output_type": "stream",
          "text": [
            "\n",
            "Test set: Average loss: 0.0425, Accuracy: 9929/10000 (99.29%)\n",
            "\n",
            "EPOCH: 14\n"
          ],
          "name": "stdout"
        },
        {
          "output_type": "stream",
          "text": [
            "Loss=0.14915768802165985 Batch_id=468 Accuracy=98.89: 100%|██████████| 469/469 [00:27<00:00, 17.25it/s]\n",
            "  0%|          | 0/469 [00:00<?, ?it/s]"
          ],
          "name": "stderr"
        },
        {
          "output_type": "stream",
          "text": [
            "\n",
            "Test set: Average loss: 0.0413, Accuracy: 9925/10000 (99.25%)\n",
            "\n",
            "EPOCH: 15\n"
          ],
          "name": "stdout"
        },
        {
          "output_type": "stream",
          "text": [
            "Loss=0.14244090020656586 Batch_id=468 Accuracy=98.89: 100%|██████████| 469/469 [00:26<00:00, 17.51it/s]\n",
            "  0%|          | 0/469 [00:00<?, ?it/s]"
          ],
          "name": "stderr"
        },
        {
          "output_type": "stream",
          "text": [
            "\n",
            "Test set: Average loss: 0.0421, Accuracy: 9931/10000 (99.31%)\n",
            "\n",
            "EPOCH: 16\n"
          ],
          "name": "stdout"
        },
        {
          "output_type": "stream",
          "text": [
            "Loss=0.1529484987258911 Batch_id=468 Accuracy=98.90: 100%|██████████| 469/469 [00:26<00:00, 17.54it/s]\n",
            "  0%|          | 0/469 [00:00<?, ?it/s]"
          ],
          "name": "stderr"
        },
        {
          "output_type": "stream",
          "text": [
            "\n",
            "Test set: Average loss: 0.0420, Accuracy: 9927/10000 (99.27%)\n",
            "\n",
            "EPOCH: 17\n"
          ],
          "name": "stdout"
        },
        {
          "output_type": "stream",
          "text": [
            "Loss=0.13794250786304474 Batch_id=468 Accuracy=98.88: 100%|██████████| 469/469 [00:26<00:00, 17.57it/s]\n",
            "  0%|          | 0/469 [00:00<?, ?it/s]"
          ],
          "name": "stderr"
        },
        {
          "output_type": "stream",
          "text": [
            "\n",
            "Test set: Average loss: 0.0423, Accuracy: 9925/10000 (99.25%)\n",
            "\n",
            "EPOCH: 18\n"
          ],
          "name": "stdout"
        },
        {
          "output_type": "stream",
          "text": [
            "Loss=0.16812577843666077 Batch_id=468 Accuracy=98.92: 100%|██████████| 469/469 [00:26<00:00, 17.47it/s]\n",
            "  0%|          | 0/469 [00:00<?, ?it/s]"
          ],
          "name": "stderr"
        },
        {
          "output_type": "stream",
          "text": [
            "\n",
            "Test set: Average loss: 0.0417, Accuracy: 9926/10000 (99.26%)\n",
            "\n",
            "EPOCH: 19\n"
          ],
          "name": "stdout"
        },
        {
          "output_type": "stream",
          "text": [
            "Loss=0.17099744081497192 Batch_id=468 Accuracy=99.02: 100%|██████████| 469/469 [00:26<00:00, 17.47it/s]\n",
            "  0%|          | 0/469 [00:00<?, ?it/s]"
          ],
          "name": "stderr"
        },
        {
          "output_type": "stream",
          "text": [
            "\n",
            "Test set: Average loss: 0.0420, Accuracy: 9928/10000 (99.28%)\n",
            "\n",
            "EPOCH: 20\n"
          ],
          "name": "stdout"
        },
        {
          "output_type": "stream",
          "text": [
            "Loss=0.15440179407596588 Batch_id=468 Accuracy=98.98: 100%|██████████| 469/469 [00:26<00:00, 17.68it/s]\n",
            "  0%|          | 0/469 [00:00<?, ?it/s]"
          ],
          "name": "stderr"
        },
        {
          "output_type": "stream",
          "text": [
            "\n",
            "Test set: Average loss: 0.0417, Accuracy: 9925/10000 (99.25%)\n",
            "\n",
            "EPOCH: 21\n"
          ],
          "name": "stdout"
        },
        {
          "output_type": "stream",
          "text": [
            "Loss=0.13952527940273285 Batch_id=468 Accuracy=99.02: 100%|██████████| 469/469 [00:26<00:00, 17.52it/s]\n",
            "  0%|          | 0/469 [00:00<?, ?it/s]"
          ],
          "name": "stderr"
        },
        {
          "output_type": "stream",
          "text": [
            "\n",
            "Test set: Average loss: 0.0414, Accuracy: 9929/10000 (99.29%)\n",
            "\n",
            "EPOCH: 22\n"
          ],
          "name": "stdout"
        },
        {
          "output_type": "stream",
          "text": [
            "Loss=0.109634630382061 Batch_id=468 Accuracy=98.96: 100%|██████████| 469/469 [00:26<00:00, 17.58it/s]\n",
            "  0%|          | 0/469 [00:00<?, ?it/s]"
          ],
          "name": "stderr"
        },
        {
          "output_type": "stream",
          "text": [
            "\n",
            "Test set: Average loss: 0.0416, Accuracy: 9927/10000 (99.27%)\n",
            "\n",
            "EPOCH: 23\n"
          ],
          "name": "stdout"
        },
        {
          "output_type": "stream",
          "text": [
            "Loss=0.15346014499664307 Batch_id=468 Accuracy=98.93: 100%|██████████| 469/469 [00:26<00:00, 17.64it/s]\n",
            "  0%|          | 0/469 [00:00<?, ?it/s]"
          ],
          "name": "stderr"
        },
        {
          "output_type": "stream",
          "text": [
            "\n",
            "Test set: Average loss: 0.0416, Accuracy: 9929/10000 (99.29%)\n",
            "\n",
            "EPOCH: 24\n"
          ],
          "name": "stdout"
        },
        {
          "output_type": "stream",
          "text": [
            "Loss=0.12784157693386078 Batch_id=468 Accuracy=98.96: 100%|██████████| 469/469 [00:26<00:00, 17.65it/s]\n",
            "  0%|          | 0/469 [00:00<?, ?it/s]"
          ],
          "name": "stderr"
        },
        {
          "output_type": "stream",
          "text": [
            "\n",
            "Test set: Average loss: 0.0411, Accuracy: 9928/10000 (99.28%)\n",
            "\n",
            "EPOCH: 25\n"
          ],
          "name": "stdout"
        },
        {
          "output_type": "stream",
          "text": [
            "Loss=0.1304115355014801 Batch_id=468 Accuracy=98.94: 100%|██████████| 469/469 [00:26<00:00, 17.74it/s]\n"
          ],
          "name": "stderr"
        },
        {
          "output_type": "stream",
          "text": [
            "\n",
            "Test set: Average loss: 0.0410, Accuracy: 9926/10000 (99.26%)\n",
            "\n"
          ],
          "name": "stdout"
        }
      ]
    },
    {
      "cell_type": "code",
      "metadata": {
        "colab": {
          "base_uri": "https://localhost:8080/"
        },
        "id": "p1OhICJT9iBg",
        "outputId": "6d8c82fd-efe4-4256-c064-27636b4be318"
      },
      "source": [
        "print(len(train_losses_f))\r\n",
        "print(len(test_losses_f ))\r\n",
        "print(len(train_acc_f ))\r\n",
        "print(len(test_acc_f ))"
      ],
      "execution_count": 16,
      "outputs": [
        {
          "output_type": "stream",
          "text": [
            "58625\n",
            "125\n",
            "58625\n",
            "125\n"
          ],
          "name": "stdout"
        }
      ]
    },
    {
      "cell_type": "code",
      "metadata": {
        "colab": {
          "base_uri": "https://localhost:8080/"
        },
        "id": "DyXZXXRQ0ZCD",
        "outputId": "cdbd8a57-6929-4b64-a0ce-10bfa6bd56fe"
      },
      "source": [
        "#Extract Test Acuracy for each model\r\n",
        "\r\n",
        "len(params)"
      ],
      "execution_count": 17,
      "outputs": [
        {
          "output_type": "execute_result",
          "data": {
            "text/plain": [
              "5"
            ]
          },
          "metadata": {
            "tags": []
          },
          "execution_count": 17
        }
      ]
    },
    {
      "cell_type": "code",
      "metadata": {
        "colab": {
          "base_uri": "https://localhost:8080/"
        },
        "id": "_62DxxkWDSDf",
        "outputId": "ae419711-1c43-47ea-9186-2fa9fa4f5501"
      },
      "source": [
        "int(len(train_losses_f)/len(params))"
      ],
      "execution_count": 18,
      "outputs": [
        {
          "output_type": "execute_result",
          "data": {
            "text/plain": [
              "11725"
            ]
          },
          "metadata": {
            "tags": []
          },
          "execution_count": 18
        }
      ]
    },
    {
      "cell_type": "code",
      "metadata": {
        "id": "mELgdbzzPfMA"
      },
      "source": [
        "#TRAIN ACC\r\n",
        "epoch=int(len(train_acc_f)/len(params))\r\n",
        "bn_l1_train_acc=train_acc_f[0:epoch]\r\n",
        "bn_l2_train_acc=train_acc_f[1*epoch:2*epoch]\r\n",
        "bn_l1_l2_train_acc=train_acc_f[2*epoch:3*epoch]\r\n",
        "gbn_train_acc=train_acc_f[3*epoch:4*epoch]\r\n",
        "gbn_l1_l2_train_acc=train_acc_f[4*epoch:5*epoch]\r\n",
        "\r\n",
        "#TEST ACC\r\n",
        "n=int(len(test_acc_f)/len(params))\r\n",
        "bn_l1_test_acc=test_acc_f[0:n]\r\n",
        "bn_l2_test_acc=test_acc_f[1*n:2*n]\r\n",
        "bn_l1_l2_test_acc=test_acc_f[2*n:3*n]\r\n",
        "gbn_test_acc=test_acc_f[3*n:4*n]\r\n",
        "gbn_l1_l2_test_acc=test_acc_f[4*n:5*n]\r\n",
        "\r\n",
        "#TEST_LOSS\r\n",
        "n=int(len(test_losses_f)/len(params))\r\n",
        "bn_l1_test_loss=test_losses_f[0:n]\r\n",
        "bn_l2_test_loss=test_losses_f[1*n:2*n]\r\n",
        "bn_l1_l2_test_loss=test_losses_f[2*n:3*n]\r\n",
        "gbn_test_loss=test_losses_f[3*n:4*n]\r\n",
        "gbn_l1_l2_test_loss=test_losses_f[4*n:5*n]\r\n"
      ],
      "execution_count": 19,
      "outputs": []
    },
    {
      "cell_type": "code",
      "metadata": {
        "colab": {
          "base_uri": "https://localhost:8080/",
          "height": 644
        },
        "id": "0wUYFnqMB3YS",
        "outputId": "823ced9a-af80-467f-dd91-0e8c6e5930b5"
      },
      "source": [
        "#PLOTTING A GRAPH FOR VALIDATION ACCURACY \r\n",
        "\r\n",
        "\r\n",
        "  \r\n",
        "import seaborn as sns\r\n",
        "import matplotlib.pyplot as plt\r\n",
        "sns.set()\r\n",
        "plt.style.use(\"dark_background\")\r\n",
        "plt.figure(figsize=(15,10)) \r\n",
        "plt.plot(bn_l1_test_acc, label='BN+L1')\r\n",
        "plt.plot(bn_l2_test_acc, label='BN+l2')\r\n",
        "plt.plot(bn_l1_l2_test_acc, label='BN+L1+L2')\r\n",
        "plt.plot(gbn_test_acc, label='GBN')\r\n",
        "plt.plot(gbn_l1_l2_test_acc, label='GBN+L1+L2')\r\n",
        "plt.xlabel(\"Epochs\")\r\n",
        "plt.ylabel(\"Test Accuracy \")\r\n",
        "plt.legend(frameon=False)\r\n",
        "# Set a title of the current axes.\r\n",
        "plt.title('Test Accuracy Over Epoch')\r\n",
        "# show a legend on the plot\r\n",
        "plt.legend(loc='lower right')\r\n"
      ],
      "execution_count": 20,
      "outputs": [
        {
          "output_type": "execute_result",
          "data": {
            "text/plain": [
              "<matplotlib.legend.Legend at 0x7f0e110f1048>"
            ]
          },
          "metadata": {
            "tags": []
          },
          "execution_count": 20
        },
        {
          "output_type": "display_data",
          "data": {
            "image/png": "[encoded data removed]",
            "text/plain": [
              "<Figure size 1080x720 with 1 Axes>"
            ]
          },
          "metadata": {
            "tags": []
          }
        }
      ]
    },
    {
      "cell_type": "code",
      "metadata": {
        "colab": {
          "base_uri": "https://localhost:8080/",
          "height": 644
        },
        "id": "nKrwLwc4OyG1",
        "outputId": "3e7421e0-9922-4498-ee5f-813d43dd6604"
      },
      "source": [
        "#PLOTTING A GRAPH FOR TEST_LOSS VS EPOCH\r\n",
        "import seaborn as sns\r\n",
        "import matplotlib.pyplot as plt\r\n",
        "sns.set()\r\n",
        "plt.style.use(\"dark_background\")\r\n",
        "plt.figure(figsize=(15,10)) \r\n",
        "plt.plot(bn_l1_test_loss, label='BN+L1')\r\n",
        "plt.plot(bn_l2_test_loss, label='BN+l2')\r\n",
        "plt.plot(bn_l1_l2_test_loss, label='BN+L1+L2')\r\n",
        "plt.plot(gbn_test_loss, label='GBN')\r\n",
        "plt.plot(gbn_l1_l2_test_loss, label='GBN+L1+L2')\r\n",
        "plt.xlabel(\"Epochs\")\r\n",
        "plt.ylabel(\"Test Loss \")\r\n",
        "plt.legend(frameon=False)\r\n",
        "# Set a title of the current axes.\r\n",
        "plt.title('Test Loss Over Epoch')\r\n",
        "# show a legend on the plot\r\n",
        "plt.legend(loc='upper right')"
      ],
      "execution_count": 21,
      "outputs": [
        {
          "output_type": "execute_result",
          "data": {
            "text/plain": [
              "<matplotlib.legend.Legend at 0x7f0e1108b6d8>"
            ]
          },
          "metadata": {
            "tags": []
          },
          "execution_count": 21
        },
        {
          "output_type": "display_data",
          "data": {
            "image/png": "[encoded data removed]",
            "text/plain": [
              "<Figure size 1080x720 with 1 Axes>"
            ]
          },
          "metadata": {
            "tags": []
          }
        }
      ]
    },
    {
      "cell_type": "code",
      "metadata": {
        "id": "LdTlXf7e8dHZ",
        "colab": {
          "base_uri": "https://localhost:8080/"
        },
        "outputId": "d32913a5-2db8-4470-8f10-ce48a5b2ef5d"
      },
      "source": [
        "#Saving GBN Model\r\n",
        "model4 = torch.load('./data/gbn')\r\n",
        "model4.eval()"
      ],
      "execution_count": 22,
      "outputs": [
        {
          "output_type": "execute_result",
          "data": {
            "text/plain": [
              "GhostNet(\n",
              "  (convblock1): Sequential(\n",
              "    (0): Conv2d(1, 12, kernel_size=(3, 3), stride=(1, 1), bias=False)\n",
              "    (1): GhostBatchNorm(12, eps=1e-05, momentum=0.1, affine=True, track_running_stats=True)\n",
              "    (2): ReLU()\n",
              "  )\n",
              "  (convblock2): Sequential(\n",
              "    (0): Conv2d(12, 18, kernel_size=(3, 3), stride=(1, 1), bias=False)\n",
              "    (1): GhostBatchNorm(18, eps=1e-05, momentum=0.1, affine=True, track_running_stats=True)\n",
              "    (2): ReLU()\n",
              "  )\n",
              "  (transitionblock1): Sequential(\n",
              "    (0): Conv2d(18, 9, kernel_size=(1, 1), stride=(1, 1), bias=False)\n",
              "    (1): MaxPool2d(kernel_size=2, stride=2, padding=0, dilation=1, ceil_mode=False)\n",
              "  )\n",
              "  (convblock3): Sequential(\n",
              "    (0): Conv2d(9, 18, kernel_size=(3, 3), stride=(1, 1), bias=False)\n",
              "    (1): GhostBatchNorm(18, eps=1e-05, momentum=0.1, affine=True, track_running_stats=True)\n",
              "    (2): ReLU()\n",
              "  )\n",
              "  (convblock4): Sequential(\n",
              "    (0): Conv2d(18, 18, kernel_size=(3, 3), stride=(1, 1), bias=False)\n",
              "    (1): GhostBatchNorm(18, eps=1e-05, momentum=0.1, affine=True, track_running_stats=True)\n",
              "    (2): ReLU()\n",
              "  )\n",
              "  (convblock5): Sequential(\n",
              "    (0): Conv2d(18, 18, kernel_size=(3, 3), stride=(1, 1), bias=False)\n",
              "    (1): GhostBatchNorm(18, eps=1e-05, momentum=0.1, affine=True, track_running_stats=True)\n",
              "    (2): ReLU()\n",
              "  )\n",
              "  (gap): Sequential(\n",
              "    (0): AvgPool2d(kernel_size=6, stride=6, padding=0)\n",
              "    (1): Conv2d(18, 10, kernel_size=(1, 1), stride=(1, 1))\n",
              "  )\n",
              ")"
            ]
          },
          "metadata": {
            "tags": []
          },
          "execution_count": 22
        }
      ]
    },
    {
      "cell_type": "code",
      "metadata": {
        "id": "Bu4Bfp2wvs-H"
      },
      "source": [
        "import math\r\n",
        "def get_misclassified(test_loader, device,model):\r\n",
        "        misclassified = []\r\n",
        "        misclassified_pred = []\r\n",
        "        misclassified_target = []\r\n",
        "\r\n",
        "        # put the model to evaluation mode\r\n",
        "        model.eval()\r\n",
        "        # turn off gradients\r\n",
        "        with torch.no_grad():\r\n",
        "            for data, target in test_loader:\r\n",
        "                # move them to the respective device\r\n",
        "                data, target = data.to(device), target.to(device)\r\n",
        "                # do inferencing\r\n",
        "                output = model(data)\r\n",
        "                # get the predicted output\r\n",
        "                pred = output.argmax(dim=1, keepdim=True)\r\n",
        "\r\n",
        "                # get the current misclassified in this batch\r\n",
        "                list_misclassified = (pred.eq(target.view_as(pred)) == False)\r\n",
        "                batch_misclassified = data[list_misclassified]\r\n",
        "                batch_mis_pred = pred[list_misclassified]\r\n",
        "                batch_mis_target = target.view_as(pred)[list_misclassified]\r\n",
        "\r\n",
        "                # batch_misclassified\r\n",
        "\r\n",
        "                misclassified.append(batch_misclassified)\r\n",
        "                misclassified_pred.append(batch_mis_pred)\r\n",
        "                misclassified_target.append(batch_mis_target)\r\n",
        "\r\n",
        "        # group all the batched together\r\n",
        "        misclassified = torch.cat(misclassified)\r\n",
        "        misclassified_pred = torch.cat(misclassified_pred)\r\n",
        "        misclassified_target = torch.cat(misclassified_target)\r\n",
        "\r\n",
        "        return misclassified, misclassified_pred, misclassified_target\r\n",
        "\r\n"
      ],
      "execution_count": 23,
      "outputs": []
    },
    {
      "cell_type": "code",
      "metadata": {
        "colab": {
          "base_uri": "https://localhost:8080/",
          "height": 833
        },
        "id": "oRzcG072tO70",
        "outputId": "703d44f3-71f1-491c-b8ee-e1a9ef549815"
      },
      "source": [
        "def plot_misclassified(number,test_loader, device,model):\r\n",
        "    image_data, predicted, actual = get_misclassified(test_loader, device,model)\r\n",
        "    nrows = math.floor(math.sqrt(number))\r\n",
        "    ncols = math.ceil(math.sqrt(number))\r\n",
        "\r\n",
        "    fig, ax = plt.subplots(nrows, ncols, figsize=(10, 15))\r\n",
        "\r\n",
        "    for i in range(nrows):\r\n",
        "        for j in range(ncols):\r\n",
        "            index = i * ncols + j\r\n",
        "            ax[i, j].axis(\"off\")\r\n",
        "            ax[i, j].set_title(\"Predicted: %d\\nActual: %d\" % (predicted[index], actual[index]))\r\n",
        "            ax[i, j].imshow(image_data[index].cpu().numpy(), cmap=\"gray_r\")\r\n",
        "\r\n",
        "\r\n",
        "\r\n",
        "plot_misclassified(25, test_loader, device,model4)"
      ],
      "execution_count": 24,
      "outputs": [
        {
          "output_type": "display_data",
          "data": {
            "image/png": "[encoded data removed]",
            "text/plain": [
              "<Figure size 720x1080 with 25 Axes>"
            ]
          },
          "metadata": {
            "tags": []
          }
        }
      ]
    },
    {
      "cell_type": "code",
      "metadata": {
        "id": "1tUn4ibGw477"
      },
      "source": [
        ""
      ],
      "execution_count": 24,
      "outputs": []
    }
  ]
}