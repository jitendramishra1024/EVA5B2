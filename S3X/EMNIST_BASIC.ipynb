{
  "nbformat": 4,
  "nbformat_minor": 0,
  "metadata": {
    "colab": {
      "name": "EMNIST_BASIC.ipynb",
      "provenance": [],
      "collapsed_sections": [],
      "toc_visible": true
    },
    "kernelspec": {
      "display_name": "Python 3",
      "name": "python3"
    },
    "accelerator": "GPU"
  },
  "cells": [
    {
      "cell_type": "code",
      "metadata": {
        "id": "lk-D0HbsSmzn"
      },
      "source": [
        "import torch\r\n",
        "import torch.nn as nn\r\n",
        "import torch.nn.functional as F"
      ],
      "execution_count": 11,
      "outputs": []
    },
    {
      "cell_type": "code",
      "metadata": {
        "id": "o4lY5GcpjvKv"
      },
      "source": [
        "\r\n",
        "#APPROACH 1\r\n",
        "class Network(nn.Module):\r\n",
        "    def __init__(self):\r\n",
        "        super().__init__()\r\n",
        "        self.conv1 = nn.Conv2d(in_channels=1, out_channels=10, kernel_size=3,bias=False)\r\n",
        "        #INPUT 28X28X1 >>3X3X1X10 >>OUTPUT:26X26X10 RF=3\r\n",
        "        self.conv2 = nn.Conv2d(in_channels=10, out_channels=10, kernel_size=3,bias=False)\r\n",
        "        #INPUT 26X26X10 >>3X3X1X10 >>OUTPUT:24X24X10 RF=5\r\n",
        "        self.conv3 = nn.Conv2d(in_channels=10, out_channels=20, kernel_size=3,bias=False)\r\n",
        "        #INPUT 24 OUTPUT 22 RF 7\r\n",
        "        self.conv4 = nn.Conv2d(in_channels=20, out_channels=20, kernel_size=3,bias=False)\r\n",
        "        #INPUT 22 OUTPUT 20 RF 11\r\n",
        "        self.pool1 = nn.MaxPool2d(2,2)  #INPUT 20  OUTPUT 10  RF 22\r\n",
        "        self.conv5 = nn.Conv2d(in_channels=20, out_channels=30, kernel_size=3,bias=False) #INPUT 10   OUTPUT 8 RF 24\r\n",
        "        self.conv6 = nn.Conv2d(in_channels=30, out_channels=47, kernel_size=3, bias=False)  #INPUT 8   OUTPUT 6 RF 26\r\n",
        "        #here output is 6X6X47\r\n",
        "\r\n",
        "        self.gap=nn.AvgPool2d(6,6) #6X6X47 pool 2d 1X1X62\r\n",
        "        \r\n",
        "\r\n",
        "        # self.fc1 = nn.Linear(in_features=12 * 4 * 4, out_features=120)\r\n",
        "        # self.fc2 = nn.Linear(in_features=120, out_features=60)\r\n",
        "        # self.out = nn.Linear(in_features=60, out_features=62)\r\n",
        "\r\n",
        "    def forward(self, t):\r\n",
        "        # (1) input layer\r\n",
        "        t = t\r\n",
        "\r\n",
        "        # 1st hidden layer \r\n",
        "        t = self.conv1(t)\r\n",
        "        t = F.relu(t)\r\n",
        "\r\n",
        "        # 2nd  hidden layer \r\n",
        "        t = self.conv2(t)\r\n",
        "        t = F.relu(t)\r\n",
        "\r\n",
        "        # 3rd hidden layer \r\n",
        "        t = self.conv3(t)\r\n",
        "        t = F.relu(t)\r\n",
        "\r\n",
        "        # 4th  hidden layer \r\n",
        "        t = self.conv4(t)\r\n",
        "        t = F.relu(t)\r\n",
        "        t = self.pool1(t)\r\n",
        "\r\n",
        "        # 5th hidden layer \r\n",
        "        t = self.conv5(t)\r\n",
        "        t = F.relu(t)\r\n",
        "\r\n",
        "        # 6th hidden layer \r\n",
        "        t = self.conv6(t)\r\n",
        "       # t = F.relu(t)\r\n",
        "\r\n",
        "\r\n",
        "        # (6) output layer\r\n",
        "        t = self.gap(t)\r\n",
        "       \r\n",
        "        t = F.softmax(t.view(-1,47), dim=1)\r\n",
        "\r\n",
        "        return t"
      ],
      "execution_count": null,
      "outputs": []
    },
    {
      "cell_type": "code",
      "metadata": {
        "id": "hB2FyUryjR1b"
      },
      "source": [
        "#APPROACH 2\r\n",
        "\r\n",
        "class Network(nn.Module):\r\n",
        "    def __init__(self):\r\n",
        "        super().__init__()\r\n",
        "        self.conv1 = nn.Conv2d(in_channels=1, out_channels=10, kernel_size=3) #  1x28x28 -> 10x26x26 rf-3x3\r\n",
        "        self.conv2 = nn.Conv2d(in_channels=10, out_channels=10, kernel_size=3) #  10x26x26 -> 10x24x24 rf -5x5 \r\n",
        "        self.pool1 = nn.MaxPool2d(2, 2)#  10x24x24 -> 10x12x12 rf- 10x10\r\n",
        "\r\n",
        "        self.conv3 = nn.Conv2d(in_channels=10, out_channels=20, kernel_size=3) #  10x12*12 -> 20x10x10 rf - 12x12\r\n",
        "        self.conv4 = nn.Conv2d(in_channels=20, out_channels=20, kernel_size=3) #  20x10x10 -> 20x8x8 rf - 14x14\r\n",
        "        self.pool2 = nn.MaxPool2d(2, 2)#  20x8x8 -> 20x4x4 rf - 28x28\r\n",
        "\r\n",
        "        self.conv5 = nn.Conv2d(in_channels=20, out_channels=30, kernel_size=3) #  20x4x4 -> 30x2x2 rf - 30x30\r\n",
        "        self.conv6 = nn.Conv2d(in_channels=30, out_channels=47, kernel_size=1) #  30x2x2 -> 47x2x2 rf - 30x30\r\n",
        "\r\n",
        "\r\n",
        "\r\n",
        "    def forward(self, t):\r\n",
        "        # implement the forward pass\r\n",
        "        x = self.pool1(F.relu(self.conv2(F.relu(self.conv1(t)))))                #The forward function computes output Tensors from input Tensors.\r\n",
        "        x = self.pool2(F.relu(self.conv4(F.relu(self.conv3(x)))))\r\n",
        "        x = (self.conv6(F.relu(self.conv5(x))))\r\n",
        "\r\n",
        "        x = F.adaptive_avg_pool2d(x, (1, 1))\r\n",
        "        x = x.view(-1, 47)\r\n",
        "        \r\n",
        "        return F.log_softmax(x)"
      ],
      "execution_count": 12,
      "outputs": []
    },
    {
      "cell_type": "code",
      "metadata": {
        "colab": {
          "base_uri": "https://localhost:8080/"
        },
        "id": "KDMp6arIGhGe",
        "outputId": "2e2f3680-bb3f-4e3a-fe8c-4d2e1598404d"
      },
      "source": [
        "!pip install torchsummary\r\n",
        "from torchsummary import summary"
      ],
      "execution_count": 13,
      "outputs": [
        {
          "output_type": "stream",
          "text": [
            "Requirement already satisfied: torchsummary in /usr/local/lib/python3.6/dist-packages (1.5.1)\n"
          ],
          "name": "stdout"
        }
      ]
    },
    {
      "cell_type": "code",
      "metadata": {
        "colab": {
          "base_uri": "https://localhost:8080/"
        },
        "id": "vf2mYvJJ5esD",
        "outputId": "44c86641-7122-4c16-ed15-4f6e7752f2aa"
      },
      "source": [
        "network = Network()\r\n",
        "network.parameters"
      ],
      "execution_count": 14,
      "outputs": [
        {
          "output_type": "execute_result",
          "data": {
            "text/plain": [
              "<bound method Module.parameters of Network(\n",
              "  (conv1): Conv2d(1, 10, kernel_size=(3, 3), stride=(1, 1))\n",
              "  (conv2): Conv2d(10, 10, kernel_size=(3, 3), stride=(1, 1))\n",
              "  (pool1): MaxPool2d(kernel_size=2, stride=2, padding=0, dilation=1, ceil_mode=False)\n",
              "  (conv3): Conv2d(10, 20, kernel_size=(3, 3), stride=(1, 1))\n",
              "  (conv4): Conv2d(20, 20, kernel_size=(3, 3), stride=(1, 1))\n",
              "  (pool2): MaxPool2d(kernel_size=2, stride=2, padding=0, dilation=1, ceil_mode=False)\n",
              "  (conv5): Conv2d(20, 30, kernel_size=(3, 3), stride=(1, 1))\n",
              "  (conv6): Conv2d(30, 47, kernel_size=(1, 1), stride=(1, 1))\n",
              ")>"
            ]
          },
          "metadata": {
            "tags": []
          },
          "execution_count": 14
        }
      ]
    },
    {
      "cell_type": "code",
      "metadata": {
        "id": "qov0k35EWAwN",
        "colab": {
          "base_uri": "https://localhost:8080/"
        },
        "outputId": "b017f608-d2be-4d52-d1f4-53cd67d1e44d"
      },
      "source": [
        "import torch\r\n",
        "import torchvision\r\n",
        "import torchvision.transforms as transforms\r\n",
        "import numpy as np\r\n",
        "import matplotlib.pyplot as plt\r\n",
        "\r\n",
        "\r\n",
        "train_set = torchvision.datasets.EMNIST(\r\n",
        "    root='./data'\r\n",
        "    ,train=True\r\n",
        "    ,download=True\r\n",
        "    ,split='balanced'\r\n",
        "    ,transform=transforms.Compose([\r\n",
        "                                 \r\n",
        "        transforms.ToTensor()\r\n",
        "    ])\r\n",
        ")\r\n",
        "#check label count \r\n",
        "print(train_set.train_labels.bincount())\r\n",
        "\r\n",
        "print(\"Number of unique class \",len(train_set.train_labels.unique()))"
      ],
      "execution_count": 15,
      "outputs": [
        {
          "output_type": "stream",
          "text": [
            "tensor([2400, 2400, 2400, 2400, 2400, 2400, 2400, 2400, 2400, 2400, 2400, 2400,\n",
            "        2400, 2400, 2400, 2400, 2400, 2400, 2400, 2400, 2400, 2400, 2400, 2400,\n",
            "        2400, 2400, 2400, 2400, 2400, 2400, 2400, 2400, 2400, 2400, 2400, 2400,\n",
            "        2400, 2400, 2400, 2400, 2400, 2400, 2400, 2400, 2400, 2400, 2400])\n",
            "Number of unique class  47\n"
          ],
          "name": "stdout"
        },
        {
          "output_type": "stream",
          "text": [
            "/usr/local/lib/python3.6/dist-packages/torchvision/datasets/mnist.py:48: UserWarning: train_labels has been renamed targets\n",
            "  warnings.warn(\"train_labels has been renamed targets\")\n"
          ],
          "name": "stderr"
        }
      ]
    },
    {
      "cell_type": "code",
      "metadata": {
        "colab": {
          "base_uri": "https://localhost:8080/"
        },
        "id": "7WgA9uWWVOFt",
        "outputId": "60eaf5e9-31c8-4df3-ffcf-720011e24fc9"
      },
      "source": [
        "(train_set.train_labels).unique()"
      ],
      "execution_count": 16,
      "outputs": [
        {
          "output_type": "stream",
          "text": [
            "/usr/local/lib/python3.6/dist-packages/torchvision/datasets/mnist.py:48: UserWarning: train_labels has been renamed targets\n",
            "  warnings.warn(\"train_labels has been renamed targets\")\n"
          ],
          "name": "stderr"
        },
        {
          "output_type": "execute_result",
          "data": {
            "text/plain": [
              "tensor([ 0,  1,  2,  3,  4,  5,  6,  7,  8,  9, 10, 11, 12, 13, 14, 15, 16, 17,\n",
              "        18, 19, 20, 21, 22, 23, 24, 25, 26, 27, 28, 29, 30, 31, 32, 33, 34, 35,\n",
              "        36, 37, 38, 39, 40, 41, 42, 43, 44, 45, 46])"
            ]
          },
          "metadata": {
            "tags": []
          },
          "execution_count": 16
        }
      ]
    },
    {
      "cell_type": "code",
      "metadata": {
        "id": "1gIh4dVye4kO",
        "colab": {
          "base_uri": "https://localhost:8080/",
          "height": 185
        },
        "outputId": "14013c50-323f-49bf-ec00-5c1bb06f7be8"
      },
      "source": [
        "#see first 10 images with labels \r\n",
        "train_loader=torch.utils.data.DataLoader(train_set,\r\n",
        "                                         batch_size=10,\r\n",
        "                                         shuffle=True)\r\n",
        "f_batch=next(iter(train_loader))\r\n",
        "images,labels=f_batch\r\n",
        "\r\n",
        "grid=torchvision.utils.make_grid(images,nrow=10)\r\n",
        "plt.figure(figsize=(15,15))\r\n",
        "plt.imshow(np.transpose(grid,(1,2,0)))\r\n",
        "print(labels)\r\n",
        "print(\"get shape of features and labels\" )\r\n",
        "print(images.shape,labels.shape)"
      ],
      "execution_count": 17,
      "outputs": [
        {
          "output_type": "stream",
          "text": [
            "tensor([ 3, 26, 34, 10, 16, 25,  4,  3, 24, 41])\n",
            "get shape of features and labels\n",
            "torch.Size([10, 1, 28, 28]) torch.Size([10])\n"
          ],
          "name": "stdout"
        },
        {
          "output_type": "display_data",
          "data": {
            "image/png": "[encoded data removed]",
            "text/plain": [
              "<Figure size 1080x1080 with 1 Axes>"
            ]
          },
          "metadata": {
            "tags": [],
            "needs_background": "light"
          }
        }
      ]
    },
    {
      "cell_type": "code",
      "metadata": {
        "id": "ujvCKraN9eBQ"
      },
      "source": [
        ""
      ],
      "execution_count": 17,
      "outputs": []
    },
    {
      "cell_type": "code",
      "metadata": {
        "id": "-a5NM6Qdn3RL"
      },
      "source": [
        "#utils\r\n",
        "def get_num_correct(preds,labels):\r\n",
        "  x=preds.argmax(dim=1).eq(labels).sum().item()\r\n",
        "  return x\r\n",
        "\r\n",
        "def get_num_incorrect(preds,labels):\r\n",
        "  x=(~preds.argmax(dim=1).eq(labels)).sum().item()\r\n",
        "  return x"
      ],
      "execution_count": 18,
      "outputs": []
    },
    {
      "cell_type": "code",
      "metadata": {
        "id": "z_c6j-LmSXl2"
      },
      "source": [
        "use_cuda = torch.cuda.is_available() #create a boolean to check if GPU is available \r\n",
        "device = torch.device(\"cuda\" if use_cuda else \"cpu\")\r\n",
        "network =  Network().to(device) #Pushing the model to GPU\r\n",
        "#network =Network()\r\n"
      ],
      "execution_count": 19,
      "outputs": []
    },
    {
      "cell_type": "code",
      "metadata": {
        "id": "JpifuvOMfBDQ",
        "colab": {
          "base_uri": "https://localhost:8080/"
        },
        "outputId": "fbb697fb-9fe8-4a25-b3b8-7e2b7873e3d1"
      },
      "source": [
        "import torch.optim as optim\r\n",
        "\r\n",
        "torch.set_grad_enabled(True)\r\n",
        "optimizer = optim.Adam(network.parameters(), lr=0.01)\r\n",
        "\r\n",
        "for epoch in range(10):\r\n",
        "\r\n",
        "    total_loss = 0\r\n",
        "    total_correct = 0\r\n",
        "    total_incorrect=0\r\n",
        "\r\n",
        "    for batch in train_loader: # Get Batch\r\n",
        "        images, labels = batch \r\n",
        "        images=images.to(device)\r\n",
        "        labels=labels.to(device)\r\n",
        "\r\n",
        "        preds = network(images) # Pass Batch\r\n",
        "        loss = F.cross_entropy(preds, labels) # Calculate Loss\r\n",
        "\r\n",
        "        optimizer.zero_grad()\r\n",
        "        loss.backward() # Calculate Gradients\r\n",
        "        optimizer.step() # Update Weights\r\n",
        "\r\n",
        "        total_loss += loss.item()\r\n",
        "        total_correct += get_num_correct(preds, labels)\r\n",
        "        total_incorrect += get_num_incorrect(preds, labels)\r\n",
        "        \r\n",
        "\r\n",
        "    print(\r\n",
        "        \"epoch\", epoch, \r\n",
        "        \"total_correct:\", total_correct, \r\n",
        "        \"total_incorrect:\", total_incorrect,\r\n",
        "        \"Acc:\", total_correct/len(train_set),\r\n",
        "        \"loss:\", total_loss\r\n",
        "    )\r\n"
      ],
      "execution_count": 21,
      "outputs": [
        {
          "output_type": "stream",
          "text": [
            "/usr/local/lib/python3.6/dist-packages/ipykernel_launcher.py:26: UserWarning: Implicit dimension choice for log_softmax has been deprecated. Change the call to include dim=X as an argument.\n"
          ],
          "name": "stderr"
        },
        {
          "output_type": "stream",
          "text": [
            "epoch 0 total_correct: 2429 total_incorrect: 110371 Acc: 0.021533687943262412 loss: 43491.499151706696\n",
            "epoch 1 total_correct: 2399 total_incorrect: 110401 Acc: 0.0212677304964539 loss: 43489.33050894737\n",
            "epoch 2 total_correct: 2422 total_incorrect: 110378 Acc: 0.021471631205673757 loss: 43493.62173700333\n",
            "epoch 3 total_correct: 2312 total_incorrect: 110488 Acc: 0.02049645390070922 loss: 43495.317461013794\n",
            "epoch 4 total_correct: 2403 total_incorrect: 110397 Acc: 0.021303191489361703 loss: 43493.1478099823\n",
            "epoch 5 total_correct: 2436 total_incorrect: 110364 Acc: 0.021595744680851063 loss: 43489.66937637329\n",
            "epoch 6 total_correct: 2401 total_incorrect: 110399 Acc: 0.0212854609929078 loss: 43490.24486494064\n",
            "epoch 7 total_correct: 2393 total_incorrect: 110407 Acc: 0.0212145390070922 loss: 43492.919429302216\n",
            "epoch 8 total_correct: 2309 total_incorrect: 110491 Acc: 0.020469858156028368 loss: 43489.190747737885\n",
            "epoch 9 total_correct: 2342 total_incorrect: 110458 Acc: 0.02076241134751773 loss: 43491.89115524292\n"
          ],
          "name": "stdout"
        }
      ]
    },
    {
      "cell_type": "code",
      "metadata": {
        "id": "KaYNoqyFA2Qk"
      },
      "source": [
        "\r\n",
        "use_cuda = torch.cuda.is_available()\r\n",
        "device = torch.device(\"cuda\" if use_cuda else \"cpu\")\r\n",
        "model = Network().to(device)\r\n",
        "summary(model, input_size=(1, 28, 28))"
      ],
      "execution_count": null,
      "outputs": []
    },
    {
      "cell_type": "code",
      "metadata": {
        "id": "sRX4DQ8iFm7a"
      },
      "source": [
        ""
      ],
      "execution_count": null,
      "outputs": []
    }
  ]
}